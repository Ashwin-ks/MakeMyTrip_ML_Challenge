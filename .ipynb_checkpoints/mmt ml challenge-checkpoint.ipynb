{
 "cells": [
  {
   "cell_type": "code",
   "execution_count": 1,
   "metadata": {},
   "outputs": [],
   "source": [
    "import numpy as np\n",
    "import pandas as pd\n",
    "import matplotlib.pyplot as plt\n",
    "import seaborn as sns\n",
    "get_ipython().run_line_magic('matplotlib', 'inline')\n",
    "import os,sys\n",
    "\n",
    "\n",
    "import xgboost as xgb\n",
    "\n",
    "from sklearn.model_selection import cross_val_score\n",
    "from sklearn.preprocessing import MinMaxScaler\n",
    "from sklearn import preprocessing\n",
    "from sklearn.linear_model import LogisticRegression\n",
    "from xgboost import XGBClassifier\n",
    "from xgboost import XGBRegressor\n",
    "import lightgbm as lgb\n",
    "from lightgbm import LGBMRegressor\n",
    "from sklearn.metrics import accuracy_score\n",
    "from sklearn.model_selection import GridSearchCV\n",
    "from sklearn.model_selection import StratifiedKFold\n",
    "from sklearn.model_selection import train_test_split\n",
    "from sklearn.metrics import matthews_corrcoef, roc_auc_score\n",
    "from sklearn.model_selection import RandomizedSearchCV\n",
    "#from catboost import CatBoostClassifier\n",
    "\n",
    "#from rgf.sklearn import RGFClassifier\n",
    "from sklearn.ensemble import RandomForestClassifier\n",
    "from sklearn.linear_model import LogisticRegression,LinearRegression\n",
    "from sklearn.linear_model import Lasso\n",
    "from sklearn.linear_model import Ridge\n",
    "from sklearn.preprocessing import OneHotEncoder,LabelEncoder\n",
    "\n",
    "from sklearn.svm import SVC\n",
    "from sklearn.svm import SVR\n",
    "from sklearn.ensemble import ExtraTreesClassifier\n",
    "from sklearn.feature_selection import VarianceThreshold\n",
    "\n",
    "from sklearn.preprocessing import StandardScaler\n",
    "from sklearn.decomposition import PCA\n",
    "from sklearn.model_selection import KFold\n",
    "from sklearn.metrics import r2_score\n",
    "#from ggplot import *\n",
    "from xgboost import XGBRegressor\n",
    "\n",
    "import warnings\n",
    "warnings.filterwarnings(\"ignore\")\n",
    "\n",
    "\n",
    "\n",
    "\n",
    "from sklearn.metrics import confusion_matrix\n",
    "from sklearn.metrics import accuracy_score,precision_score,recall_score,f1_score"
   ]
  },
  {
   "cell_type": "code",
   "execution_count": 2,
   "metadata": {},
   "outputs": [
    {
     "name": "stdout",
     "output_type": "stream",
     "text": [
      "Wed Dec 26 2018 \n",
      "\n",
      "CPython 3.6.4\n",
      "IPython 6.2.1\n",
      "\n",
      "numpy 1.14.5\n",
      "pandas 0.22.0\n",
      "matplotlib 3.0.0\n",
      "seaborn 0.8.1\n",
      "sklearn 0.20.1\n",
      "xgboost 0.7.post3\n",
      "\n",
      "compiler   : GCC 7.2.0\n",
      "system     : Linux\n",
      "release    : 3.10.0-327.59.1.el7.x86_64\n",
      "machine    : x86_64\n",
      "processor  : x86_64\n",
      "CPU cores  : 16\n",
      "interpreter: 64bit\n"
     ]
    }
   ],
   "source": [
    "%load_ext watermark\n",
    "%watermark -v -n -m -p numpy,pandas,matplotlib,seaborn,sklearn,xgboost"
   ]
  },
  {
   "cell_type": "code",
   "execution_count": 8,
   "metadata": {},
   "outputs": [],
   "source": [
    "os.chdir('dataset')\n",
    "train_df = pd.read_csv('train.csv')\n",
    "test_df = pd.read_csv('test.csv')"
   ]
  },
  {
   "cell_type": "code",
   "execution_count": 9,
   "metadata": {},
   "outputs": [
    {
     "data": {
      "text/html": [
       "<div>\n",
       "<style scoped>\n",
       "    .dataframe tbody tr th:only-of-type {\n",
       "        vertical-align: middle;\n",
       "    }\n",
       "\n",
       "    .dataframe tbody tr th {\n",
       "        vertical-align: top;\n",
       "    }\n",
       "\n",
       "    .dataframe thead th {\n",
       "        text-align: right;\n",
       "    }\n",
       "</style>\n",
       "<table border=\"1\" class=\"dataframe\">\n",
       "  <thead>\n",
       "    <tr style=\"text-align: right;\">\n",
       "      <th></th>\n",
       "      <th>id</th>\n",
       "      <th>A</th>\n",
       "      <th>B</th>\n",
       "      <th>C</th>\n",
       "      <th>D</th>\n",
       "      <th>E</th>\n",
       "      <th>F</th>\n",
       "      <th>G</th>\n",
       "      <th>H</th>\n",
       "      <th>I</th>\n",
       "      <th>J</th>\n",
       "      <th>K</th>\n",
       "      <th>L</th>\n",
       "      <th>M</th>\n",
       "      <th>N</th>\n",
       "      <th>O</th>\n",
       "      <th>P</th>\n",
       "    </tr>\n",
       "  </thead>\n",
       "  <tbody>\n",
       "    <tr>\n",
       "      <th>0</th>\n",
       "      <td>1</td>\n",
       "      <td>b</td>\n",
       "      <td>18.42</td>\n",
       "      <td>10.415</td>\n",
       "      <td>y</td>\n",
       "      <td>p</td>\n",
       "      <td>aa</td>\n",
       "      <td>v</td>\n",
       "      <td>0.125</td>\n",
       "      <td>t</td>\n",
       "      <td>f</td>\n",
       "      <td>0</td>\n",
       "      <td>f</td>\n",
       "      <td>g</td>\n",
       "      <td>120.0</td>\n",
       "      <td>375</td>\n",
       "      <td>1</td>\n",
       "    </tr>\n",
       "    <tr>\n",
       "      <th>1</th>\n",
       "      <td>2</td>\n",
       "      <td>a</td>\n",
       "      <td>21.75</td>\n",
       "      <td>11.750</td>\n",
       "      <td>u</td>\n",
       "      <td>g</td>\n",
       "      <td>c</td>\n",
       "      <td>v</td>\n",
       "      <td>0.250</td>\n",
       "      <td>f</td>\n",
       "      <td>f</td>\n",
       "      <td>0</td>\n",
       "      <td>t</td>\n",
       "      <td>g</td>\n",
       "      <td>180.0</td>\n",
       "      <td>0</td>\n",
       "      <td>1</td>\n",
       "    </tr>\n",
       "    <tr>\n",
       "      <th>2</th>\n",
       "      <td>3</td>\n",
       "      <td>b</td>\n",
       "      <td>30.17</td>\n",
       "      <td>1.085</td>\n",
       "      <td>y</td>\n",
       "      <td>p</td>\n",
       "      <td>c</td>\n",
       "      <td>v</td>\n",
       "      <td>0.040</td>\n",
       "      <td>f</td>\n",
       "      <td>f</td>\n",
       "      <td>0</td>\n",
       "      <td>f</td>\n",
       "      <td>g</td>\n",
       "      <td>170.0</td>\n",
       "      <td>179</td>\n",
       "      <td>1</td>\n",
       "    </tr>\n",
       "    <tr>\n",
       "      <th>3</th>\n",
       "      <td>4</td>\n",
       "      <td>b</td>\n",
       "      <td>22.67</td>\n",
       "      <td>2.540</td>\n",
       "      <td>y</td>\n",
       "      <td>p</td>\n",
       "      <td>c</td>\n",
       "      <td>h</td>\n",
       "      <td>2.585</td>\n",
       "      <td>t</td>\n",
       "      <td>f</td>\n",
       "      <td>0</td>\n",
       "      <td>f</td>\n",
       "      <td>g</td>\n",
       "      <td>0.0</td>\n",
       "      <td>0</td>\n",
       "      <td>0</td>\n",
       "    </tr>\n",
       "    <tr>\n",
       "      <th>4</th>\n",
       "      <td>5</td>\n",
       "      <td>a</td>\n",
       "      <td>36.00</td>\n",
       "      <td>1.000</td>\n",
       "      <td>u</td>\n",
       "      <td>g</td>\n",
       "      <td>c</td>\n",
       "      <td>v</td>\n",
       "      <td>2.000</td>\n",
       "      <td>t</td>\n",
       "      <td>t</td>\n",
       "      <td>11</td>\n",
       "      <td>f</td>\n",
       "      <td>g</td>\n",
       "      <td>0.0</td>\n",
       "      <td>456</td>\n",
       "      <td>0</td>\n",
       "    </tr>\n",
       "  </tbody>\n",
       "</table>\n",
       "</div>"
      ],
      "text/plain": [
       "   id  A      B       C  D  E   F  G      H  I  J   K  L  M      N    O  P\n",
       "0   1  b  18.42  10.415  y  p  aa  v  0.125  t  f   0  f  g  120.0  375  1\n",
       "1   2  a  21.75  11.750  u  g   c  v  0.250  f  f   0  t  g  180.0    0  1\n",
       "2   3  b  30.17   1.085  y  p   c  v  0.040  f  f   0  f  g  170.0  179  1\n",
       "3   4  b  22.67   2.540  y  p   c  h  2.585  t  f   0  f  g    0.0    0  0\n",
       "4   5  a  36.00   1.000  u  g   c  v  2.000  t  t  11  f  g    0.0  456  0"
      ]
     },
     "execution_count": 9,
     "metadata": {},
     "output_type": "execute_result"
    }
   ],
   "source": [
    "train_df.head()"
   ]
  },
  {
   "cell_type": "code",
   "execution_count": 10,
   "metadata": {},
   "outputs": [
    {
     "name": "stdout",
     "output_type": "stream",
     "text": [
      "Train data:-\n",
      " Columns: 17  Rows: 552\n",
      "Test data:-\n",
      " Columns: 16  Rows: 138\n"
     ]
    }
   ],
   "source": [
    "print('Train data:-\\n Columns: {}  Rows: {}'.format(train_df.shape[1],train_df.shape[0]))\n",
    "print('Test data:-\\n Columns: {}  Rows: {}'.format(test_df.shape[1],test_df.shape[0]))"
   ]
  },
  {
   "cell_type": "code",
   "execution_count": 11,
   "metadata": {},
   "outputs": [
    {
     "data": {
      "text/html": [
       "<div>\n",
       "<style scoped>\n",
       "    .dataframe tbody tr th:only-of-type {\n",
       "        vertical-align: middle;\n",
       "    }\n",
       "\n",
       "    .dataframe tbody tr th {\n",
       "        vertical-align: top;\n",
       "    }\n",
       "\n",
       "    .dataframe thead th {\n",
       "        text-align: right;\n",
       "    }\n",
       "</style>\n",
       "<table border=\"1\" class=\"dataframe\">\n",
       "  <thead>\n",
       "    <tr style=\"text-align: right;\">\n",
       "      <th></th>\n",
       "      <th>id</th>\n",
       "      <th>B</th>\n",
       "      <th>C</th>\n",
       "      <th>H</th>\n",
       "      <th>K</th>\n",
       "      <th>N</th>\n",
       "      <th>O</th>\n",
       "      <th>P</th>\n",
       "    </tr>\n",
       "  </thead>\n",
       "  <tbody>\n",
       "    <tr>\n",
       "      <th>count</th>\n",
       "      <td>552.000000</td>\n",
       "      <td>543.000000</td>\n",
       "      <td>552.000000</td>\n",
       "      <td>552.000000</td>\n",
       "      <td>552.000000</td>\n",
       "      <td>541.000000</td>\n",
       "      <td>552.000000</td>\n",
       "      <td>552.000000</td>\n",
       "    </tr>\n",
       "    <tr>\n",
       "      <th>mean</th>\n",
       "      <td>276.500000</td>\n",
       "      <td>31.364899</td>\n",
       "      <td>4.780136</td>\n",
       "      <td>2.259176</td>\n",
       "      <td>2.318841</td>\n",
       "      <td>175.162662</td>\n",
       "      <td>1087.576087</td>\n",
       "      <td>0.552536</td>\n",
       "    </tr>\n",
       "    <tr>\n",
       "      <th>std</th>\n",
       "      <td>159.492947</td>\n",
       "      <td>11.873665</td>\n",
       "      <td>4.938454</td>\n",
       "      <td>3.442564</td>\n",
       "      <td>4.297867</td>\n",
       "      <td>154.873746</td>\n",
       "      <td>5758.841945</td>\n",
       "      <td>0.497683</td>\n",
       "    </tr>\n",
       "    <tr>\n",
       "      <th>min</th>\n",
       "      <td>1.000000</td>\n",
       "      <td>13.750000</td>\n",
       "      <td>0.000000</td>\n",
       "      <td>0.000000</td>\n",
       "      <td>0.000000</td>\n",
       "      <td>0.000000</td>\n",
       "      <td>0.000000</td>\n",
       "      <td>0.000000</td>\n",
       "    </tr>\n",
       "    <tr>\n",
       "      <th>25%</th>\n",
       "      <td>138.750000</td>\n",
       "      <td>22.500000</td>\n",
       "      <td>1.000000</td>\n",
       "      <td>0.165000</td>\n",
       "      <td>0.000000</td>\n",
       "      <td>60.000000</td>\n",
       "      <td>0.000000</td>\n",
       "      <td>0.000000</td>\n",
       "    </tr>\n",
       "    <tr>\n",
       "      <th>50%</th>\n",
       "      <td>276.500000</td>\n",
       "      <td>28.170000</td>\n",
       "      <td>2.750000</td>\n",
       "      <td>1.000000</td>\n",
       "      <td>0.000000</td>\n",
       "      <td>152.000000</td>\n",
       "      <td>3.500000</td>\n",
       "      <td>1.000000</td>\n",
       "    </tr>\n",
       "    <tr>\n",
       "      <th>75%</th>\n",
       "      <td>414.250000</td>\n",
       "      <td>37.665000</td>\n",
       "      <td>7.561250</td>\n",
       "      <td>2.750000</td>\n",
       "      <td>3.000000</td>\n",
       "      <td>268.000000</td>\n",
       "      <td>364.750000</td>\n",
       "      <td>1.000000</td>\n",
       "    </tr>\n",
       "    <tr>\n",
       "      <th>max</th>\n",
       "      <td>552.000000</td>\n",
       "      <td>80.250000</td>\n",
       "      <td>28.000000</td>\n",
       "      <td>28.500000</td>\n",
       "      <td>40.000000</td>\n",
       "      <td>1160.000000</td>\n",
       "      <td>100000.000000</td>\n",
       "      <td>1.000000</td>\n",
       "    </tr>\n",
       "  </tbody>\n",
       "</table>\n",
       "</div>"
      ],
      "text/plain": [
       "               id           B           C           H           K  \\\n",
       "count  552.000000  543.000000  552.000000  552.000000  552.000000   \n",
       "mean   276.500000   31.364899    4.780136    2.259176    2.318841   \n",
       "std    159.492947   11.873665    4.938454    3.442564    4.297867   \n",
       "min      1.000000   13.750000    0.000000    0.000000    0.000000   \n",
       "25%    138.750000   22.500000    1.000000    0.165000    0.000000   \n",
       "50%    276.500000   28.170000    2.750000    1.000000    0.000000   \n",
       "75%    414.250000   37.665000    7.561250    2.750000    3.000000   \n",
       "max    552.000000   80.250000   28.000000   28.500000   40.000000   \n",
       "\n",
       "                 N              O           P  \n",
       "count   541.000000     552.000000  552.000000  \n",
       "mean    175.162662    1087.576087    0.552536  \n",
       "std     154.873746    5758.841945    0.497683  \n",
       "min       0.000000       0.000000    0.000000  \n",
       "25%      60.000000       0.000000    0.000000  \n",
       "50%     152.000000       3.500000    1.000000  \n",
       "75%     268.000000     364.750000    1.000000  \n",
       "max    1160.000000  100000.000000    1.000000  "
      ]
     },
     "execution_count": 11,
     "metadata": {},
     "output_type": "execute_result"
    }
   ],
   "source": [
    "train_df.describe()"
   ]
  },
  {
   "cell_type": "code",
   "execution_count": 12,
   "metadata": {},
   "outputs": [
    {
     "data": {
      "text/plain": [
       "<matplotlib.axes._subplots.AxesSubplot at 0x7f649842e4e0>"
      ]
     },
     "execution_count": 12,
     "metadata": {},
     "output_type": "execute_result"
    },
    {
     "data": {
      "image/png": "[encoded data removed]",
      "text/plain": [
       "<Figure size 432x288 with 1 Axes>"
      ]
     },
     "metadata": {},
     "output_type": "display_data"
    }
   ],
   "source": [
    "##column datatypes barplot\n",
    "train_df.dtypes.value_counts().plot(kind='bar')"
   ]
  },
  {
   "cell_type": "code",
   "execution_count": 13,
   "metadata": {},
   "outputs": [
    {
     "data": {
      "text/plain": [
       "<matplotlib.axes._subplots.AxesSubplot at 0x7f6498478320>"
      ]
     },
     "execution_count": 13,
     "metadata": {},
     "output_type": "execute_result"
    },
    {
     "data": {
      "image/png": "[encoded data removed]",
      "text/plain": [
       "<Figure size 432x288 with 1 Axes>"
      ]
     },
     "metadata": {},
     "output_type": "display_data"
    }
   ],
   "source": [
    "##target distribution\n",
    "sns.countplot(x='P',data=train_df)"
   ]
  },
  {
   "cell_type": "code",
   "execution_count": 14,
   "metadata": {},
   "outputs": [],
   "source": [
    "categorical = list(train_df.columns[train_df.dtypes==\"object\"])\n",
    "numerical = list(train_df.columns[train_df.dtypes!=\"object\"])"
   ]
  },
  {
   "cell_type": "code",
   "execution_count": 15,
   "metadata": {},
   "outputs": [
    {
     "data": {
      "text/plain": [
       "['A', 'D', 'E', 'F', 'G', 'I', 'J', 'L', 'M']"
      ]
     },
     "execution_count": 15,
     "metadata": {},
     "output_type": "execute_result"
    }
   ],
   "source": [
    "categorical"
   ]
  },
  {
   "cell_type": "code",
   "execution_count": 16,
   "metadata": {},
   "outputs": [
    {
     "data": {
      "text/plain": [
       "['id', 'B', 'C', 'H', 'K', 'N', 'O', 'P']"
      ]
     },
     "execution_count": 16,
     "metadata": {},
     "output_type": "execute_result"
    }
   ],
   "source": [
    "numerical\n"
   ]
  },
  {
   "cell_type": "code",
   "execution_count": 17,
   "metadata": {},
   "outputs": [],
   "source": [
    "numerical.remove('id')"
   ]
  },
  {
   "cell_type": "code",
   "execution_count": 18,
   "metadata": {},
   "outputs": [],
   "source": [
    "numerical.remove('P')"
   ]
  },
  {
   "cell_type": "code",
   "execution_count": 19,
   "metadata": {},
   "outputs": [
    {
     "data": {
      "text/plain": [
       "['B', 'C', 'H', 'K', 'N', 'O']"
      ]
     },
     "execution_count": 19,
     "metadata": {},
     "output_type": "execute_result"
    }
   ],
   "source": [
    "numerical"
   ]
  },
  {
   "cell_type": "code",
   "execution_count": 20,
   "metadata": {},
   "outputs": [
    {
     "data": {
      "text/plain": [
       "<seaborn.axisgrid.FacetGrid at 0x7f6490d36940>"
      ]
     },
     "execution_count": 20,
     "metadata": {},
     "output_type": "execute_result"
    },
    {
     "data": {
      "image/png": "[encoded data removed]",
      "text/plain": [
       "<Figure size 864x432 with 6 Axes>"
      ]
     },
     "metadata": {},
     "output_type": "display_data"
    }
   ],
   "source": [
    "###numerical columns histogram\n",
    "numdf=pd.melt(train_df,value_vars=numerical)\n",
    "numgrid=sns.FacetGrid(numdf,col='variable',col_wrap=4,sharex=False,sharey=False)\n",
    "numgrid=numgrid.map(sns.distplot,'value')\n",
    "numgrid"
   ]
  },
  {
   "cell_type": "code",
   "execution_count": 21,
   "metadata": {},
   "outputs": [
    {
     "data": {
      "text/plain": [
       "<seaborn.axisgrid.FacetGrid at 0x7f6490d36be0>"
      ]
     },
     "execution_count": 21,
     "metadata": {},
     "output_type": "execute_result"
    },
    {
     "data": {
      "image/png": "[encoded data removed]",
      "text/plain": [
       "<Figure size 906.375x648 with 9 Axes>"
      ]
     },
     "metadata": {},
     "output_type": "display_data"
    }
   ],
   "source": [
    "##visualizing the contingency table for each categorical variable\n",
    "def countplot(x,y,**kwargs):\n",
    "            #sns.boxplot(x=x,y=y)\n",
    "            sns.countplot(x=x,hue=y)#,data=train_df)\n",
    "            #x = plt.xticks(rotation=90)\n",
    "            \n",
    "\n",
    "\n",
    "p = pd.melt(train_df, value_vars=categorical,id_vars='P')\n",
    "g = sns.FacetGrid (p, col='variable', col_wrap=4, sharex=False, sharey=False, size=3)\n",
    "g = g.map(countplot, 'value','P')\n",
    "g.add_legend()"
   ]
  },
  {
   "cell_type": "code",
   "execution_count": 22,
   "metadata": {},
   "outputs": [],
   "source": [
    "train_df['P'] = train_df['P'].astype('str')"
   ]
  },
  {
   "cell_type": "code",
   "execution_count": 23,
   "metadata": {},
   "outputs": [
    {
     "data": {
      "image/png": "[encoded data removed]",
      "text/plain": [
       "<Figure size 864x576 with 6 Axes>"
      ]
     },
     "metadata": {},
     "output_type": "display_data"
    }
   ],
   "source": [
    "def boxplot(x,y,**kwargs):\n",
    "            sns.boxplot(x=x,y=y)\n",
    "            x = plt.xticks(rotation=90)\n",
    "p = pd.melt(train_df, value_vars=numerical,id_vars='P')\n",
    "g = sns.FacetGrid (p, col='variable', col_wrap=3, sharex=False, sharey=False, size=4)\n",
    "g = g.map(boxplot, 'P','value')"
   ]
  },
  {
   "cell_type": "markdown",
   "metadata": {},
   "source": [
    "#def outliers_iqr(col,k=7):\n",
    "    quartile_1, quartile_3 = np.percentile(col, [25, 75])\n",
    "    iqr = quartile_3 - quartile_1\n",
    "    lower_bound = quartile_1 - (iqr * k)\n",
    "    upper_bound = quartile_3 + (iqr * k)\n",
    "    #print(col.name,sum([x < lower_bound or x > upper_bound for x in col]))\n",
    "    return [True if x < lower_bound or x > upper_bound else False for x in col]\n",
    "\n",
    "outlier_mask = train_df[numerical].apply(outliers_iqr)"
   ]
  },
  {
   "cell_type": "code",
   "execution_count": 24,
   "metadata": {},
   "outputs": [
    {
     "data": {
      "text/html": [
       "<div>\n",
       "<style scoped>\n",
       "    .dataframe tbody tr th:only-of-type {\n",
       "        vertical-align: middle;\n",
       "    }\n",
       "\n",
       "    .dataframe tbody tr th {\n",
       "        vertical-align: top;\n",
       "    }\n",
       "\n",
       "    .dataframe thead th {\n",
       "        text-align: right;\n",
       "    }\n",
       "</style>\n",
       "<table border=\"1\" class=\"dataframe\">\n",
       "  <thead>\n",
       "    <tr style=\"text-align: right;\">\n",
       "      <th></th>\n",
       "      <th>B</th>\n",
       "      <th>C</th>\n",
       "      <th>H</th>\n",
       "      <th>K</th>\n",
       "      <th>N</th>\n",
       "      <th>O</th>\n",
       "    </tr>\n",
       "  </thead>\n",
       "  <tbody>\n",
       "    <tr>\n",
       "      <th>B</th>\n",
       "      <td>1.000000</td>\n",
       "      <td>0.151722</td>\n",
       "      <td>0.407431</td>\n",
       "      <td>0.240919</td>\n",
       "      <td>-0.076609</td>\n",
       "      <td>0.014237</td>\n",
       "    </tr>\n",
       "    <tr>\n",
       "      <th>C</th>\n",
       "      <td>0.151722</td>\n",
       "      <td>1.000000</td>\n",
       "      <td>0.287374</td>\n",
       "      <td>0.301832</td>\n",
       "      <td>-0.210531</td>\n",
       "      <td>0.141069</td>\n",
       "    </tr>\n",
       "    <tr>\n",
       "      <th>H</th>\n",
       "      <td>0.407431</td>\n",
       "      <td>0.287374</td>\n",
       "      <td>1.000000</td>\n",
       "      <td>0.390157</td>\n",
       "      <td>-0.116034</td>\n",
       "      <td>0.050995</td>\n",
       "    </tr>\n",
       "    <tr>\n",
       "      <th>K</th>\n",
       "      <td>0.240919</td>\n",
       "      <td>0.301832</td>\n",
       "      <td>0.390157</td>\n",
       "      <td>1.000000</td>\n",
       "      <td>-0.166540</td>\n",
       "      <td>0.066033</td>\n",
       "    </tr>\n",
       "    <tr>\n",
       "      <th>N</th>\n",
       "      <td>-0.076609</td>\n",
       "      <td>-0.210531</td>\n",
       "      <td>-0.116034</td>\n",
       "      <td>-0.166540</td>\n",
       "      <td>1.000000</td>\n",
       "      <td>0.082679</td>\n",
       "    </tr>\n",
       "    <tr>\n",
       "      <th>O</th>\n",
       "      <td>0.014237</td>\n",
       "      <td>0.141069</td>\n",
       "      <td>0.050995</td>\n",
       "      <td>0.066033</td>\n",
       "      <td>0.082679</td>\n",
       "      <td>1.000000</td>\n",
       "    </tr>\n",
       "  </tbody>\n",
       "</table>\n",
       "</div>"
      ],
      "text/plain": [
       "          B         C         H         K         N         O\n",
       "B  1.000000  0.151722  0.407431  0.240919 -0.076609  0.014237\n",
       "C  0.151722  1.000000  0.287374  0.301832 -0.210531  0.141069\n",
       "H  0.407431  0.287374  1.000000  0.390157 -0.116034  0.050995\n",
       "K  0.240919  0.301832  0.390157  1.000000 -0.166540  0.066033\n",
       "N -0.076609 -0.210531 -0.116034 -0.166540  1.000000  0.082679\n",
       "O  0.014237  0.141069  0.050995  0.066033  0.082679  1.000000"
      ]
     },
     "execution_count": 24,
     "metadata": {},
     "output_type": "execute_result"
    }
   ],
   "source": [
    "train_df[numerical].corr()"
   ]
  },
  {
   "cell_type": "code",
   "execution_count": 25,
   "metadata": {},
   "outputs": [
    {
     "name": "stdout",
     "output_type": "stream",
     "text": [
      "\n",
      "Skew in numeric features:\n",
      "B     1.104078\n",
      "C     1.413447\n",
      "H     2.989292\n",
      "K     2.903900\n",
      "N     1.351991\n",
      "O    12.087691\n",
      "dtype: float64\n"
     ]
    }
   ],
   "source": [
    "from scipy.stats import skew, boxcox\n",
    "skewed_feats = train_df[numerical].apply(lambda x: skew(x.dropna()))\n",
    "print(\"\\nSkew in numeric features:\")\n",
    "print(skewed_feats)"
   ]
  },
  {
   "cell_type": "code",
   "execution_count": 26,
   "metadata": {},
   "outputs": [
    {
     "name": "stdout",
     "output_type": "stream",
     "text": [
      ">>>>>Numerical variables having nulls and its counts<<<<<<<<\n"
     ]
    },
    {
     "data": {
      "text/plain": [
       "N    11\n",
       "B     9\n",
       "dtype: int64"
      ]
     },
     "execution_count": 26,
     "metadata": {},
     "output_type": "execute_result"
    }
   ],
   "source": [
    "##checking for null values\n",
    "print('>>>>>Numerical variables having nulls and its counts<<<<<<<<')\n",
    "num_nulls = train_df[numerical].isnull().sum()[train_df[numerical].isnull().sum()>0].sort_values(ascending=False)\n",
    "num_nulls"
   ]
  },
  {
   "cell_type": "code",
   "execution_count": 27,
   "metadata": {},
   "outputs": [
    {
     "name": "stdout",
     "output_type": "stream",
     "text": [
      ">>>>>Categorical variables having nulls and its counts<<<<<<<<\n"
     ]
    },
    {
     "data": {
      "text/plain": [
       "A    4\n",
       "G    2\n",
       "F    2\n",
       "E    1\n",
       "D    1\n",
       "dtype: int64"
      ]
     },
     "execution_count": 27,
     "metadata": {},
     "output_type": "execute_result"
    }
   ],
   "source": [
    "##checking for null values\n",
    "print('>>>>>Categorical variables having nulls and its counts<<<<<<<<')\n",
    "cat_nulls = test_df[categorical].isnull().sum()[test_df[categorical].isnull().sum()>0].sort_values(ascending=False)\n",
    "cat_nulls"
   ]
  },
  {
   "cell_type": "code",
   "execution_count": 28,
   "metadata": {},
   "outputs": [],
   "source": [
    "##numerical\n",
    "train_df['B'].fillna(train_df['B'].median(),inplace=True)\n",
    "train_df['N'].fillna(train_df['N'].median(),inplace=True)\n",
    "test_df['B'].fillna(train_df['B'].median(),inplace=True)\n",
    "test_df['N'].fillna(train_df['N'].median(),inplace=True)"
   ]
  },
  {
   "cell_type": "code",
   "execution_count": 29,
   "metadata": {},
   "outputs": [],
   "source": [
    "train_df['A'].fillna(train_df['A'].value_counts().index[0],inplace=True)\n",
    "train_df['G'].fillna(train_df['G'].value_counts().index[0],inplace=True)\n",
    "train_df['F'].fillna(train_df['F'].value_counts().index[0],inplace=True)\n",
    "train_df['E'].fillna(train_df['E'].value_counts().index[0],inplace=True)\n",
    "train_df['D'].fillna(train_df['D'].value_counts().index[0],inplace=True)\n",
    "\n",
    "test_df['A'].fillna(train_df['A'].value_counts().index[0],inplace=True)\n",
    "test_df['G'].fillna(train_df['G'].value_counts().index[0],inplace=True)\n",
    "test_df['F'].fillna(train_df['F'].value_counts().index[0],inplace=True)\n",
    "test_df['E'].fillna(train_df['E'].value_counts().index[0],inplace=True)\n",
    "test_df['D'].fillna(train_df['D'].value_counts().index[0],inplace=True)"
   ]
  },
  {
   "cell_type": "code",
   "execution_count": 30,
   "metadata": {},
   "outputs": [],
   "source": [
    "original_train = train_df.copy()\n",
    "original_test = test_df.copy()"
   ]
  },
  {
   "cell_type": "code",
   "execution_count": 33,
   "metadata": {},
   "outputs": [],
   "source": [
    "##categorical features one-hot encoding\n",
    "\n",
    "for col in categorical:\n",
    "    train_df[col] = train_df[col].astype('str')\n",
    "    test_df[col] = test_df[col].astype('str')"
   ]
  },
  {
   "cell_type": "code",
   "execution_count": 36,
   "metadata": {},
   "outputs": [],
   "source": [
    "ohencoder = OneHotEncoder(categories='auto')\n",
    "for col in categorical:\n",
    "    encoded = ohencoder.fit_transform(train_df[col].reshape(-1,1)).toarray()\n",
    "    \n",
    "    dfOneHot = pd.DataFrame(encoded, columns = [str(col)+'_ohe_'+str(int(i)) for i in range(encoded.shape[1])])\n",
    "    train_df = pd.concat([train_df, dfOneHot], axis=1)\n",
    "    \n",
    "    encoded_test = ohencoder.transform(test_df[col].reshape(-1,1)).toarray()\n",
    "    dfOneHot_test = pd.DataFrame(encoded_test, columns = [str(col)+'_ohe_'+str(int(i)) for i in range(encoded_test.shape[1])])\n",
    "    test_df = pd.concat([test_df, dfOneHot_test], axis=1)\n",
    "\n"
   ]
  },
  {
   "cell_type": "code",
   "execution_count": 37,
   "metadata": {},
   "outputs": [
    {
     "data": {
      "text/html": [
       "<div>\n",
       "<style scoped>\n",
       "    .dataframe tbody tr th:only-of-type {\n",
       "        vertical-align: middle;\n",
       "    }\n",
       "\n",
       "    .dataframe tbody tr th {\n",
       "        vertical-align: top;\n",
       "    }\n",
       "\n",
       "    .dataframe thead th {\n",
       "        text-align: right;\n",
       "    }\n",
       "</style>\n",
       "<table border=\"1\" class=\"dataframe\">\n",
       "  <thead>\n",
       "    <tr style=\"text-align: right;\">\n",
       "      <th></th>\n",
       "      <th>id</th>\n",
       "      <th>A</th>\n",
       "      <th>B</th>\n",
       "      <th>C</th>\n",
       "      <th>D</th>\n",
       "      <th>E</th>\n",
       "      <th>F</th>\n",
       "      <th>G</th>\n",
       "      <th>H</th>\n",
       "      <th>I</th>\n",
       "      <th>...</th>\n",
       "      <th>G_ohe_8</th>\n",
       "      <th>I_ohe_0</th>\n",
       "      <th>I_ohe_1</th>\n",
       "      <th>J_ohe_0</th>\n",
       "      <th>J_ohe_1</th>\n",
       "      <th>L_ohe_0</th>\n",
       "      <th>L_ohe_1</th>\n",
       "      <th>M_ohe_0</th>\n",
       "      <th>M_ohe_1</th>\n",
       "      <th>M_ohe_2</th>\n",
       "    </tr>\n",
       "  </thead>\n",
       "  <tbody>\n",
       "    <tr>\n",
       "      <th>0</th>\n",
       "      <td>1</td>\n",
       "      <td>b</td>\n",
       "      <td>18.42</td>\n",
       "      <td>10.415</td>\n",
       "      <td>y</td>\n",
       "      <td>p</td>\n",
       "      <td>aa</td>\n",
       "      <td>v</td>\n",
       "      <td>0.125</td>\n",
       "      <td>t</td>\n",
       "      <td>...</td>\n",
       "      <td>0.0</td>\n",
       "      <td>0.0</td>\n",
       "      <td>1.0</td>\n",
       "      <td>1.0</td>\n",
       "      <td>0.0</td>\n",
       "      <td>1.0</td>\n",
       "      <td>0.0</td>\n",
       "      <td>1.0</td>\n",
       "      <td>0.0</td>\n",
       "      <td>0.0</td>\n",
       "    </tr>\n",
       "    <tr>\n",
       "      <th>1</th>\n",
       "      <td>2</td>\n",
       "      <td>a</td>\n",
       "      <td>21.75</td>\n",
       "      <td>11.750</td>\n",
       "      <td>u</td>\n",
       "      <td>g</td>\n",
       "      <td>c</td>\n",
       "      <td>v</td>\n",
       "      <td>0.250</td>\n",
       "      <td>f</td>\n",
       "      <td>...</td>\n",
       "      <td>0.0</td>\n",
       "      <td>1.0</td>\n",
       "      <td>0.0</td>\n",
       "      <td>1.0</td>\n",
       "      <td>0.0</td>\n",
       "      <td>0.0</td>\n",
       "      <td>1.0</td>\n",
       "      <td>1.0</td>\n",
       "      <td>0.0</td>\n",
       "      <td>0.0</td>\n",
       "    </tr>\n",
       "    <tr>\n",
       "      <th>2</th>\n",
       "      <td>3</td>\n",
       "      <td>b</td>\n",
       "      <td>30.17</td>\n",
       "      <td>1.085</td>\n",
       "      <td>y</td>\n",
       "      <td>p</td>\n",
       "      <td>c</td>\n",
       "      <td>v</td>\n",
       "      <td>0.040</td>\n",
       "      <td>f</td>\n",
       "      <td>...</td>\n",
       "      <td>0.0</td>\n",
       "      <td>1.0</td>\n",
       "      <td>0.0</td>\n",
       "      <td>1.0</td>\n",
       "      <td>0.0</td>\n",
       "      <td>1.0</td>\n",
       "      <td>0.0</td>\n",
       "      <td>1.0</td>\n",
       "      <td>0.0</td>\n",
       "      <td>0.0</td>\n",
       "    </tr>\n",
       "    <tr>\n",
       "      <th>3</th>\n",
       "      <td>4</td>\n",
       "      <td>b</td>\n",
       "      <td>22.67</td>\n",
       "      <td>2.540</td>\n",
       "      <td>y</td>\n",
       "      <td>p</td>\n",
       "      <td>c</td>\n",
       "      <td>h</td>\n",
       "      <td>2.585</td>\n",
       "      <td>t</td>\n",
       "      <td>...</td>\n",
       "      <td>0.0</td>\n",
       "      <td>0.0</td>\n",
       "      <td>1.0</td>\n",
       "      <td>1.0</td>\n",
       "      <td>0.0</td>\n",
       "      <td>1.0</td>\n",
       "      <td>0.0</td>\n",
       "      <td>1.0</td>\n",
       "      <td>0.0</td>\n",
       "      <td>0.0</td>\n",
       "    </tr>\n",
       "    <tr>\n",
       "      <th>4</th>\n",
       "      <td>5</td>\n",
       "      <td>a</td>\n",
       "      <td>36.00</td>\n",
       "      <td>1.000</td>\n",
       "      <td>u</td>\n",
       "      <td>g</td>\n",
       "      <td>c</td>\n",
       "      <td>v</td>\n",
       "      <td>2.000</td>\n",
       "      <td>t</td>\n",
       "      <td>...</td>\n",
       "      <td>0.0</td>\n",
       "      <td>0.0</td>\n",
       "      <td>1.0</td>\n",
       "      <td>0.0</td>\n",
       "      <td>1.0</td>\n",
       "      <td>1.0</td>\n",
       "      <td>0.0</td>\n",
       "      <td>1.0</td>\n",
       "      <td>0.0</td>\n",
       "      <td>0.0</td>\n",
       "    </tr>\n",
       "  </tbody>\n",
       "</table>\n",
       "<p>5 rows × 59 columns</p>\n",
       "</div>"
      ],
      "text/plain": [
       "   id  A      B       C  D  E   F  G      H  I   ...    G_ohe_8  I_ohe_0  \\\n",
       "0   1  b  18.42  10.415  y  p  aa  v  0.125  t   ...        0.0      0.0   \n",
       "1   2  a  21.75  11.750  u  g   c  v  0.250  f   ...        0.0      1.0   \n",
       "2   3  b  30.17   1.085  y  p   c  v  0.040  f   ...        0.0      1.0   \n",
       "3   4  b  22.67   2.540  y  p   c  h  2.585  t   ...        0.0      0.0   \n",
       "4   5  a  36.00   1.000  u  g   c  v  2.000  t   ...        0.0      0.0   \n",
       "\n",
       "  I_ohe_1 J_ohe_0  J_ohe_1  L_ohe_0 L_ohe_1  M_ohe_0  M_ohe_1  M_ohe_2  \n",
       "0     1.0     1.0      0.0      1.0     0.0      1.0      0.0      0.0  \n",
       "1     0.0     1.0      0.0      0.0     1.0      1.0      0.0      0.0  \n",
       "2     0.0     1.0      0.0      1.0     0.0      1.0      0.0      0.0  \n",
       "3     1.0     1.0      0.0      1.0     0.0      1.0      0.0      0.0  \n",
       "4     1.0     0.0      1.0      1.0     0.0      1.0      0.0      0.0  \n",
       "\n",
       "[5 rows x 59 columns]"
      ]
     },
     "execution_count": 37,
     "metadata": {},
     "output_type": "execute_result"
    }
   ],
   "source": [
    "train_df.head()"
   ]
  },
  {
   "cell_type": "code",
   "execution_count": 90,
   "metadata": {},
   "outputs": [],
   "source": [
    "df = pd.get_dummies(df,columns=categorical)#,drop_first=True)"
   ]
  },
  {
   "cell_type": "code",
   "execution_count": 91,
   "metadata": {},
   "outputs": [
    {
     "data": {
      "text/plain": [
       "B       float64\n",
       "C       float64\n",
       "H       float64\n",
       "K         int64\n",
       "N       float64\n",
       "O         int64\n",
       "P        object\n",
       "id        int64\n",
       "A_a       uint8\n",
       "A_b       uint8\n",
       "D_l       uint8\n",
       "D_u       uint8\n",
       "D_y       uint8\n",
       "E_g       uint8\n",
       "E_gg      uint8\n",
       "E_p       uint8\n",
       "F_aa      uint8\n",
       "F_c       uint8\n",
       "F_cc      uint8\n",
       "F_d       uint8\n",
       "F_e       uint8\n",
       "F_ff      uint8\n",
       "F_i       uint8\n",
       "F_j       uint8\n",
       "F_k       uint8\n",
       "F_m       uint8\n",
       "F_q       uint8\n",
       "F_r       uint8\n",
       "F_w       uint8\n",
       "F_x       uint8\n",
       "G_bb      uint8\n",
       "G_dd      uint8\n",
       "G_ff      uint8\n",
       "G_h       uint8\n",
       "G_j       uint8\n",
       "G_n       uint8\n",
       "G_o       uint8\n",
       "G_v       uint8\n",
       "G_z       uint8\n",
       "I_f       uint8\n",
       "I_t       uint8\n",
       "J_f       uint8\n",
       "J_t       uint8\n",
       "L_f       uint8\n",
       "L_t       uint8\n",
       "M_g       uint8\n",
       "M_p       uint8\n",
       "M_s       uint8\n",
       "dtype: object"
      ]
     },
     "execution_count": 91,
     "metadata": {},
     "output_type": "execute_result"
    }
   ],
   "source": [
    "df.dtypes"
   ]
  },
  {
   "cell_type": "code",
   "execution_count": 92,
   "metadata": {},
   "outputs": [
    {
     "data": {
      "text/plain": [
       "Index(['B', 'C', 'H', 'K', 'N', 'O', 'P', 'id', 'A_a', 'A_b', 'D_l', 'D_u',\n",
       "       'D_y', 'E_g', 'E_gg', 'E_p', 'F_aa', 'F_c', 'F_cc', 'F_d', 'F_e',\n",
       "       'F_ff', 'F_i', 'F_j', 'F_k', 'F_m', 'F_q', 'F_r', 'F_w', 'F_x', 'G_bb',\n",
       "       'G_dd', 'G_ff', 'G_h', 'G_j', 'G_n', 'G_o', 'G_v', 'G_z', 'I_f', 'I_t',\n",
       "       'J_f', 'J_t', 'L_f', 'L_t', 'M_g', 'M_p', 'M_s'],\n",
       "      dtype='object')"
      ]
     },
     "execution_count": 92,
     "metadata": {},
     "output_type": "execute_result"
    }
   ],
   "source": [
    "df.columns"
   ]
  },
  {
   "cell_type": "code",
   "execution_count": null,
   "metadata": {},
   "outputs": [],
   "source": []
  },
  {
   "cell_type": "code",
   "execution_count": 93,
   "metadata": {},
   "outputs": [],
   "source": [
    "train_df  = df.loc[~df['P'].isnull()].drop(['P'],axis=1)\n",
    "train_labels  = df.loc[~df['P'].isnull(),['P']]\n",
    "test_df  = df.loc[df['P'].isnull()].drop(['P'],axis=1)\n"
   ]
  },
  {
   "cell_type": "code",
   "execution_count": 94,
   "metadata": {},
   "outputs": [],
   "source": [
    "feat_cols = ['B', 'C', 'H', 'K', 'N', 'O', 'A_b', 'D_u', 'D_y', 'E_gg',\n",
    "       'E_p', 'F_c', 'F_cc', 'F_d', 'F_e', 'F_ff', 'F_i', 'F_j', 'F_k', 'F_m',\n",
    "       'F_q', 'F_r', 'F_w', 'F_x', 'G_dd', 'G_ff', 'G_h', 'G_j', 'G_n', 'G_o',\n",
    "       'G_v', 'G_z', 'I_t', 'J_t', 'L_t', 'M_p', 'M_s']\n",
    "target = ['P']"
   ]
  },
  {
   "cell_type": "code",
   "execution_count": 38,
   "metadata": {},
   "outputs": [],
   "source": [
    "from sklearn.metrics import accuracy_score,precision_score,recall_score,f1_score,roc_auc_score,precision_recall_curve,log_loss"
   ]
  },
  {
   "cell_type": "markdown",
   "metadata": {},
   "source": [
    "As we know our target variable is balanced and hence instead of stratified kfold cross validation we'll perform repeated k-fold n times with different splits in each repetition."
   ]
  },
  {
   "cell_type": "code",
   "execution_count": 39,
   "metadata": {},
   "outputs": [],
   "source": [
    "from sklearn.model_selection import RepeatedKFold\n",
    "def repeat_kfold(train_data,lr):\n",
    "    split = RepeatedKFold(n_splits=5,n_repeats=3,random_state=43)\n",
    "    i=1\n",
    "    j=1\n",
    "    final_result = dict()\n",
    "    for train_index,test_index in split.split(train_df):\n",
    "        #print(\"##########\")\n",
    "        dict_results = dict()\n",
    "        X_train , X_val = train_data.iloc[train_index],train_data.iloc[test_index]\n",
    "        y_train , y_val = train_labels.iloc[train_index],train_labels.iloc[test_index]\n",
    "        X_train = X_train[feat_cols]\n",
    "        X_val = X_val[feat_cols]\n",
    "        lr.fit(X_train,y_train)\n",
    "        y_predicted_val = lr.predict_proba(X_val)[:,1]\n",
    "        auc = roc_auc_score(y_val, y_predicted_val)\n",
    "        dict_results['accuracy'] = accuracy_score(y_val, lr.predict(X_val))\n",
    "        dict_results['precision'] = precision_score(y_val, lr.predict(X_val),pos_label=\"1\")\n",
    "        dict_results['recall'] = recall_score(y_val, lr.predict(X_val),pos_label=\"1\")\n",
    "        dict_results['f1score'] = f1_score(y_val, lr.predict(X_val),pos_label=\"1\")\n",
    "        dict_results['roc_auc_score'] = auc\n",
    "        tn, fp, fn, tp = confusion_matrix(y_val, lr.predict(X_val)).ravel()\n",
    "        dict_results['TN'] = tn\n",
    "        dict_results['FP'] = fp\n",
    "        dict_results['FN'] = fn\n",
    "        dict_results['TP'] = tp\n",
    "        if i%5==0:\n",
    "            j+=1\n",
    "            i=0\n",
    "\n",
    "        final_result['fold'+str(i)+'_repetition'+str(j)]= dict_results\n",
    "        #print(str(i)+'fold completed')\n",
    "        i+=1\n",
    "    return pd.DataFrame(final_result).T\n",
    "        \n"
   ]
  },
  {
   "cell_type": "code",
   "execution_count": 40,
   "metadata": {},
   "outputs": [],
   "source": [
    "##Logistic Regression\n",
    "from sklearn.linear_model import LogisticRegression\n",
    "lr = LogisticRegression()\n",
    "#lr.fit(X_train,y_train)\n"
   ]
  },
  {
   "cell_type": "code",
   "execution_count": 41,
   "metadata": {},
   "outputs": [],
   "source": [
    "result = repeat_kfold(train_df,lr)"
   ]
  },
  {
   "cell_type": "code",
   "execution_count": 42,
   "metadata": {},
   "outputs": [
    {
     "data": {
      "text/html": [
       "<div>\n",
       "<style scoped>\n",
       "    .dataframe tbody tr th:only-of-type {\n",
       "        vertical-align: middle;\n",
       "    }\n",
       "\n",
       "    .dataframe tbody tr th {\n",
       "        vertical-align: top;\n",
       "    }\n",
       "\n",
       "    .dataframe thead th {\n",
       "        text-align: right;\n",
       "    }\n",
       "</style>\n",
       "<table border=\"1\" class=\"dataframe\">\n",
       "  <thead>\n",
       "    <tr style=\"text-align: right;\">\n",
       "      <th></th>\n",
       "      <th>fold0_repetition2</th>\n",
       "      <th>fold0_repetition3</th>\n",
       "      <th>fold0_repetition4</th>\n",
       "      <th>fold1_repetition1</th>\n",
       "      <th>fold1_repetition2</th>\n",
       "      <th>fold1_repetition3</th>\n",
       "      <th>fold2_repetition1</th>\n",
       "      <th>fold2_repetition2</th>\n",
       "      <th>fold2_repetition3</th>\n",
       "      <th>fold3_repetition1</th>\n",
       "      <th>fold3_repetition2</th>\n",
       "      <th>fold3_repetition3</th>\n",
       "      <th>fold4_repetition1</th>\n",
       "      <th>fold4_repetition2</th>\n",
       "      <th>fold4_repetition3</th>\n",
       "    </tr>\n",
       "  </thead>\n",
       "  <tbody>\n",
       "    <tr>\n",
       "      <th>FN</th>\n",
       "      <td>8.000000</td>\n",
       "      <td>11.000000</td>\n",
       "      <td>7.000000</td>\n",
       "      <td>7.000000</td>\n",
       "      <td>8.000000</td>\n",
       "      <td>4.000000</td>\n",
       "      <td>12.000000</td>\n",
       "      <td>10.000000</td>\n",
       "      <td>7.000000</td>\n",
       "      <td>11.000000</td>\n",
       "      <td>13.000000</td>\n",
       "      <td>14.000000</td>\n",
       "      <td>7.000000</td>\n",
       "      <td>9.000000</td>\n",
       "      <td>11.000000</td>\n",
       "    </tr>\n",
       "    <tr>\n",
       "      <th>FP</th>\n",
       "      <td>3.000000</td>\n",
       "      <td>10.000000</td>\n",
       "      <td>9.000000</td>\n",
       "      <td>18.000000</td>\n",
       "      <td>5.000000</td>\n",
       "      <td>4.000000</td>\n",
       "      <td>3.000000</td>\n",
       "      <td>6.000000</td>\n",
       "      <td>9.000000</td>\n",
       "      <td>2.000000</td>\n",
       "      <td>7.000000</td>\n",
       "      <td>4.000000</td>\n",
       "      <td>7.000000</td>\n",
       "      <td>6.000000</td>\n",
       "      <td>8.000000</td>\n",
       "    </tr>\n",
       "    <tr>\n",
       "      <th>TN</th>\n",
       "      <td>40.000000</td>\n",
       "      <td>36.000000</td>\n",
       "      <td>35.000000</td>\n",
       "      <td>35.000000</td>\n",
       "      <td>47.000000</td>\n",
       "      <td>51.000000</td>\n",
       "      <td>44.000000</td>\n",
       "      <td>42.000000</td>\n",
       "      <td>44.000000</td>\n",
       "      <td>46.000000</td>\n",
       "      <td>43.000000</td>\n",
       "      <td>38.000000</td>\n",
       "      <td>49.000000</td>\n",
       "      <td>45.000000</td>\n",
       "      <td>45.000000</td>\n",
       "    </tr>\n",
       "    <tr>\n",
       "      <th>TP</th>\n",
       "      <td>59.000000</td>\n",
       "      <td>53.000000</td>\n",
       "      <td>59.000000</td>\n",
       "      <td>51.000000</td>\n",
       "      <td>51.000000</td>\n",
       "      <td>52.000000</td>\n",
       "      <td>52.000000</td>\n",
       "      <td>53.000000</td>\n",
       "      <td>51.000000</td>\n",
       "      <td>51.000000</td>\n",
       "      <td>47.000000</td>\n",
       "      <td>54.000000</td>\n",
       "      <td>47.000000</td>\n",
       "      <td>50.000000</td>\n",
       "      <td>46.000000</td>\n",
       "    </tr>\n",
       "    <tr>\n",
       "      <th>accuracy</th>\n",
       "      <td>0.900000</td>\n",
       "      <td>0.809091</td>\n",
       "      <td>0.854545</td>\n",
       "      <td>0.774775</td>\n",
       "      <td>0.882883</td>\n",
       "      <td>0.927928</td>\n",
       "      <td>0.864865</td>\n",
       "      <td>0.855856</td>\n",
       "      <td>0.855856</td>\n",
       "      <td>0.881818</td>\n",
       "      <td>0.818182</td>\n",
       "      <td>0.836364</td>\n",
       "      <td>0.872727</td>\n",
       "      <td>0.863636</td>\n",
       "      <td>0.827273</td>\n",
       "    </tr>\n",
       "    <tr>\n",
       "      <th>f1score</th>\n",
       "      <td>0.914729</td>\n",
       "      <td>0.834646</td>\n",
       "      <td>0.880597</td>\n",
       "      <td>0.803150</td>\n",
       "      <td>0.886957</td>\n",
       "      <td>0.928571</td>\n",
       "      <td>0.873950</td>\n",
       "      <td>0.868852</td>\n",
       "      <td>0.864407</td>\n",
       "      <td>0.886957</td>\n",
       "      <td>0.824561</td>\n",
       "      <td>0.857143</td>\n",
       "      <td>0.870370</td>\n",
       "      <td>0.869565</td>\n",
       "      <td>0.828829</td>\n",
       "    </tr>\n",
       "    <tr>\n",
       "      <th>precision</th>\n",
       "      <td>0.951613</td>\n",
       "      <td>0.841270</td>\n",
       "      <td>0.867647</td>\n",
       "      <td>0.739130</td>\n",
       "      <td>0.910714</td>\n",
       "      <td>0.928571</td>\n",
       "      <td>0.945455</td>\n",
       "      <td>0.898305</td>\n",
       "      <td>0.850000</td>\n",
       "      <td>0.962264</td>\n",
       "      <td>0.870370</td>\n",
       "      <td>0.931034</td>\n",
       "      <td>0.870370</td>\n",
       "      <td>0.892857</td>\n",
       "      <td>0.851852</td>\n",
       "    </tr>\n",
       "    <tr>\n",
       "      <th>recall</th>\n",
       "      <td>0.880597</td>\n",
       "      <td>0.828125</td>\n",
       "      <td>0.893939</td>\n",
       "      <td>0.879310</td>\n",
       "      <td>0.864407</td>\n",
       "      <td>0.928571</td>\n",
       "      <td>0.812500</td>\n",
       "      <td>0.841270</td>\n",
       "      <td>0.879310</td>\n",
       "      <td>0.822581</td>\n",
       "      <td>0.783333</td>\n",
       "      <td>0.794118</td>\n",
       "      <td>0.870370</td>\n",
       "      <td>0.847458</td>\n",
       "      <td>0.807018</td>\n",
       "    </tr>\n",
       "    <tr>\n",
       "      <th>roc_auc_score</th>\n",
       "      <td>0.959736</td>\n",
       "      <td>0.887568</td>\n",
       "      <td>0.889118</td>\n",
       "      <td>0.850358</td>\n",
       "      <td>0.942308</td>\n",
       "      <td>0.966883</td>\n",
       "      <td>0.940492</td>\n",
       "      <td>0.936508</td>\n",
       "      <td>0.929408</td>\n",
       "      <td>0.960685</td>\n",
       "      <td>0.899000</td>\n",
       "      <td>0.928571</td>\n",
       "      <td>0.918981</td>\n",
       "      <td>0.913925</td>\n",
       "      <td>0.903012</td>\n",
       "    </tr>\n",
       "  </tbody>\n",
       "</table>\n",
       "</div>"
      ],
      "text/plain": [
       "               fold0_repetition2  fold0_repetition3  fold0_repetition4  \\\n",
       "FN                      8.000000          11.000000           7.000000   \n",
       "FP                      3.000000          10.000000           9.000000   \n",
       "TN                     40.000000          36.000000          35.000000   \n",
       "TP                     59.000000          53.000000          59.000000   \n",
       "accuracy                0.900000           0.809091           0.854545   \n",
       "f1score                 0.914729           0.834646           0.880597   \n",
       "precision               0.951613           0.841270           0.867647   \n",
       "recall                  0.880597           0.828125           0.893939   \n",
       "roc_auc_score           0.959736           0.887568           0.889118   \n",
       "\n",
       "               fold1_repetition1  fold1_repetition2  fold1_repetition3  \\\n",
       "FN                      7.000000           8.000000           4.000000   \n",
       "FP                     18.000000           5.000000           4.000000   \n",
       "TN                     35.000000          47.000000          51.000000   \n",
       "TP                     51.000000          51.000000          52.000000   \n",
       "accuracy                0.774775           0.882883           0.927928   \n",
       "f1score                 0.803150           0.886957           0.928571   \n",
       "precision               0.739130           0.910714           0.928571   \n",
       "recall                  0.879310           0.864407           0.928571   \n",
       "roc_auc_score           0.850358           0.942308           0.966883   \n",
       "\n",
       "               fold2_repetition1  fold2_repetition2  fold2_repetition3  \\\n",
       "FN                     12.000000          10.000000           7.000000   \n",
       "FP                      3.000000           6.000000           9.000000   \n",
       "TN                     44.000000          42.000000          44.000000   \n",
       "TP                     52.000000          53.000000          51.000000   \n",
       "accuracy                0.864865           0.855856           0.855856   \n",
       "f1score                 0.873950           0.868852           0.864407   \n",
       "precision               0.945455           0.898305           0.850000   \n",
       "recall                  0.812500           0.841270           0.879310   \n",
       "roc_auc_score           0.940492           0.936508           0.929408   \n",
       "\n",
       "               fold3_repetition1  fold3_repetition2  fold3_repetition3  \\\n",
       "FN                     11.000000          13.000000          14.000000   \n",
       "FP                      2.000000           7.000000           4.000000   \n",
       "TN                     46.000000          43.000000          38.000000   \n",
       "TP                     51.000000          47.000000          54.000000   \n",
       "accuracy                0.881818           0.818182           0.836364   \n",
       "f1score                 0.886957           0.824561           0.857143   \n",
       "precision               0.962264           0.870370           0.931034   \n",
       "recall                  0.822581           0.783333           0.794118   \n",
       "roc_auc_score           0.960685           0.899000           0.928571   \n",
       "\n",
       "               fold4_repetition1  fold4_repetition2  fold4_repetition3  \n",
       "FN                      7.000000           9.000000          11.000000  \n",
       "FP                      7.000000           6.000000           8.000000  \n",
       "TN                     49.000000          45.000000          45.000000  \n",
       "TP                     47.000000          50.000000          46.000000  \n",
       "accuracy                0.872727           0.863636           0.827273  \n",
       "f1score                 0.870370           0.869565           0.828829  \n",
       "precision               0.870370           0.892857           0.851852  \n",
       "recall                  0.870370           0.847458           0.807018  \n",
       "roc_auc_score           0.918981           0.913925           0.903012  "
      ]
     },
     "execution_count": 42,
     "metadata": {},
     "output_type": "execute_result"
    }
   ],
   "source": [
    "result.T"
   ]
  },
  {
   "cell_type": "code",
   "execution_count": 43,
   "metadata": {},
   "outputs": [
    {
     "name": "stdout",
     "output_type": "stream",
     "text": [
      "mean accuracy >> 0.855053235053235\n",
      "mean precision >> 0.887430263449304\n",
      "mean recall >> 0.8488604876616226\n",
      "mean f1score >> 0.8662188626991756\n",
      "mean roc_auc_score >> 0.9217703115179291\n"
     ]
    }
   ],
   "source": [
    "print(\"mean accuracy >>\",result.mean()['accuracy'])\n",
    "print(\"mean precision >>\",result.mean()['precision'])\n",
    "print(\"mean recall >>\",result.mean()['recall'])\n",
    "print(\"mean f1score >>\",result.mean()['f1score'])\n",
    "print(\"mean roc_auc_score >>\",result.mean()['roc_auc_score'])"
   ]
  },
  {
   "cell_type": "code",
   "execution_count": 44,
   "metadata": {},
   "outputs": [],
   "source": [
    "##Linear disriminant analysis\n",
    "from sklearn.discriminant_analysis import LinearDiscriminantAnalysis as LDA\n",
    "train_df1 = train_df.copy()\n",
    "sc = StandardScaler()  \n",
    "train_df1[numerical] = sc.fit_transform(train_df1[numerical])  \n",
    "from sklearn.model_selection import train_test_split\n",
    "\n",
    "X_train, X_test, y_train, y_test = train_test_split(train_df1, train_labels, test_size=0.2, random_state=0)  "
   ]
  },
  {
   "cell_type": "code",
   "execution_count": 45,
   "metadata": {},
   "outputs": [],
   "source": [
    "lda = LDA(n_components=2)  \n",
    "X_train = lda.fit_transform(X_train, y_train)  \n",
    "X_test = lda.transform(X_test)  "
   ]
  },
  {
   "cell_type": "code",
   "execution_count": 46,
   "metadata": {},
   "outputs": [],
   "source": [
    "clf = LogisticRegression(random_state = 0)\n",
    "clf.fit(X_train, y_train)\n",
    " \n",
    "\n",
    "y_pred = clf.predict(X_test)"
   ]
  },
  {
   "cell_type": "code",
   "execution_count": 47,
   "metadata": {},
   "outputs": [
    {
     "name": "stdout",
     "output_type": "stream",
     "text": [
      "accuracy 0.8558558558558559\n",
      "precision 0.95\n",
      "recall 0.8142857142857143\n",
      "f1_score 0.8769230769230769\n"
     ]
    }
   ],
   "source": [
    "print('accuracy',accuracy_score(y_test, y_pred))\n",
    "print('precision',precision_score(y_test, y_pred,pos_label=\"1\"))\n",
    "print('recall',recall_score(y_test, y_pred,pos_label=\"1\"))\n",
    "print('f1_score',f1_score(y_test, y_pred,pos_label=\"1\"))"
   ]
  },
  {
   "cell_type": "markdown",
   "metadata": {},
   "source": [
    "Since we are dealing with balanced target class, LDA is able to perform well and approximates the bayes classifier decision boundary."
   ]
  },
  {
   "cell_type": "code",
   "execution_count": 48,
   "metadata": {},
   "outputs": [],
   "source": [
    "##RandomForest Classifier\n",
    "from sklearn.ensemble import RandomForestClassifier\n",
    "rf_clf = RandomForestClassifier(random_state=43)\n",
    "#result_rf = repeat_kfold(train_df,rf_clf)"
   ]
  },
  {
   "cell_type": "code",
   "execution_count": 192,
   "metadata": {},
   "outputs": [],
   "source": [
    "n_estimators = [int(x) for x in np.linspace(start = 200, stop = 2000, num = 10)]# Number of trees in random forest\n",
    "max_features = ['auto', 'sqrt']# Number of features to consider at every split\n",
    "max_depth = [int(x) for x in np.linspace(10, 110, num = 11)]# Maximum number of levels in tree\n",
    "max_depth.append(None)\n",
    "min_samples_split = [2, 5, 10]# Minimum number of samples required to split a node\n",
    "min_samples_leaf = [1, 2, 4]# Minimum number of samples required at each leaf node\n",
    "bootstrap = [True, False]# Method of selecting samples for training each tree\n",
    "# Create the random grid\n",
    "rf_param_grid = {'n_estimators': n_estimators,\n",
    "               'max_features': max_features,\n",
    "               'max_depth': max_depth,\n",
    "               'min_samples_split': min_samples_split,\n",
    "               'min_samples_leaf': min_samples_leaf,\n",
    "               'bootstrap': bootstrap}"
   ]
  },
  {
   "cell_type": "code",
   "execution_count": 194,
   "metadata": {},
   "outputs": [
    {
     "name": "stdout",
     "output_type": "stream",
     "text": [
      "Fitting 3 folds for each of 100 candidates, totalling 300 fits\n"
     ]
    },
    {
     "name": "stderr",
     "output_type": "stream",
     "text": [
      "[Parallel(n_jobs=-1)]: Using backend LokyBackend with 16 concurrent workers.\n",
      "[Parallel(n_jobs=-1)]: Done   9 tasks      | elapsed:    5.7s\n",
      "[Parallel(n_jobs=-1)]: Done 130 tasks      | elapsed:   24.8s\n",
      "[Parallel(n_jobs=-1)]: Done 300 out of 300 | elapsed:   52.7s finished\n"
     ]
    },
    {
     "data": {
      "text/plain": [
       "RandomizedSearchCV(cv=3, error_score='raise-deprecating',\n",
       "          estimator=RandomForestClassifier(bootstrap=True, class_weight=None, criterion='gini',\n",
       "            max_depth=None, max_features='auto', max_leaf_nodes=None,\n",
       "            min_impurity_decrease=0.0, min_impurity_split=None,\n",
       "            min_samples_leaf=1, min_samples_split=2,\n",
       "            min_weight_fraction_leaf=0.0, n_estimators='warn', n_jobs=None,\n",
       "            oob_score=False, random_state=43, verbose=0, warm_start=False),\n",
       "          fit_params=None, iid='warn', n_iter=100, n_jobs=-1,\n",
       "          param_distributions={'n_estimators': [200, 400, 600, 800, 1000, 1200, 1400, 1600, 1800, 2000], 'max_features': ['auto', 'sqrt'], 'max_depth': [10, 20, 30, 40, 50, 60, 70, 80, 90, 100, 110, None], 'min_samples_split': [2, 5, 10], 'min_samples_leaf': [1, 2, 4], 'bootstrap': [True, False]},\n",
       "          pre_dispatch='2*n_jobs', random_state=42, refit=True,\n",
       "          return_train_score='warn', scoring='roc_auc', verbose=2)"
      ]
     },
     "execution_count": 194,
     "metadata": {},
     "output_type": "execute_result"
    }
   ],
   "source": [
    "clf_random = RandomizedSearchCV(estimator = rf_clf,scoring='roc_auc', param_distributions = rf_param_grid, n_iter = 100, cv = 3, verbose=2, random_state=42, n_jobs = -1)\n",
    "    \n",
    "clf_random.fit(train_df[feat_cols], train_labels)"
   ]
  },
  {
   "cell_type": "code",
   "execution_count": 195,
   "metadata": {},
   "outputs": [
    {
     "data": {
      "text/plain": [
       "{'bootstrap': True,\n",
       " 'max_depth': 100,\n",
       " 'max_features': 'sqrt',\n",
       " 'min_samples_leaf': 1,\n",
       " 'min_samples_split': 5,\n",
       " 'n_estimators': 2000}"
      ]
     },
     "execution_count": 195,
     "metadata": {},
     "output_type": "execute_result"
    }
   ],
   "source": [
    "clf_random.best_params_"
   ]
  },
  {
   "cell_type": "code",
   "execution_count": 196,
   "metadata": {},
   "outputs": [],
   "source": [
    "result_rf = repeat_kfold(train_df,clf_random.best_estimator_)"
   ]
  },
  {
   "cell_type": "code",
   "execution_count": 197,
   "metadata": {},
   "outputs": [
    {
     "name": "stdout",
     "output_type": "stream",
     "text": [
      "mean accuracy >> 0.8743543543543543\n",
      "mean precision >> 0.8796512593415572\n",
      "mean recall >> 0.8981168714451974\n",
      "mean f1score >> 0.8876022644512304\n",
      "mean roc_auc_score >> 0.9357337625272639\n"
     ]
    }
   ],
   "source": [
    "print(\"mean accuracy >>\",result_rf.mean()['accuracy'])\n",
    "print(\"mean precision >>\",result_rf.mean()['precision'])\n",
    "print(\"mean recall >>\",result_rf.mean()['recall'])\n",
    "print(\"mean f1score >>\",result_rf.mean()['f1score'])\n",
    "print(\"mean roc_auc_score >>\",result_rf.mean()['roc_auc_score'])"
   ]
  },
  {
   "cell_type": "code",
   "execution_count": 199,
   "metadata": {},
   "outputs": [
    {
     "data": {
      "text/plain": [
       "<matplotlib.axes._subplots.AxesSubplot at 0x7f220c827f60>"
      ]
     },
     "execution_count": 199,
     "metadata": {},
     "output_type": "execute_result"
    },
    {
     "data": {
      "image/png": "[encoded data removed]",
      "text/plain": [
       "<Figure size 432x288 with 1 Axes>"
      ]
     },
     "metadata": {},
     "output_type": "display_data"
    }
   ],
   "source": [
    "feat_imp = pd.DataFrame(clf_random.best_estimator_.feature_importances_)\n",
    "feat_imp.columns = ['Feature_importance']\n",
    "feat_imp = feat_imp.assign(Column_name=feat_cols)\n",
    "feat_imp.sort_values(by=['Feature_importance'],ascending=False).set_index('Column_name').head(30).plot(kind='barh')"
   ]
  },
  {
   "cell_type": "markdown",
   "metadata": {},
   "source": [
    "The importance of feature I is evident from the countplot of I variable classes with the target value plotted above and it has been considered important in tree building process for splits"
   ]
  },
  {
   "cell_type": "code",
   "execution_count": 49,
   "metadata": {},
   "outputs": [],
   "source": [
    "##XGBOOST\n",
    "from xgboost import XGBClassifier\n",
    "xgb_model = XGBClassifier()\n",
    "result_xgb = repeat_kfold(train_df,xgb_model)"
   ]
  },
  {
   "cell_type": "code",
   "execution_count": 50,
   "metadata": {},
   "outputs": [
    {
     "data": {
      "text/html": [
       "<div>\n",
       "<style scoped>\n",
       "    .dataframe tbody tr th:only-of-type {\n",
       "        vertical-align: middle;\n",
       "    }\n",
       "\n",
       "    .dataframe tbody tr th {\n",
       "        vertical-align: top;\n",
       "    }\n",
       "\n",
       "    .dataframe thead th {\n",
       "        text-align: right;\n",
       "    }\n",
       "</style>\n",
       "<table border=\"1\" class=\"dataframe\">\n",
       "  <thead>\n",
       "    <tr style=\"text-align: right;\">\n",
       "      <th></th>\n",
       "      <th>fold0_repetition2</th>\n",
       "      <th>fold0_repetition3</th>\n",
       "      <th>fold0_repetition4</th>\n",
       "      <th>fold1_repetition1</th>\n",
       "      <th>fold1_repetition2</th>\n",
       "      <th>fold1_repetition3</th>\n",
       "      <th>fold2_repetition1</th>\n",
       "      <th>fold2_repetition2</th>\n",
       "      <th>fold2_repetition3</th>\n",
       "      <th>fold3_repetition1</th>\n",
       "      <th>fold3_repetition2</th>\n",
       "      <th>fold3_repetition3</th>\n",
       "      <th>fold4_repetition1</th>\n",
       "      <th>fold4_repetition2</th>\n",
       "      <th>fold4_repetition3</th>\n",
       "    </tr>\n",
       "  </thead>\n",
       "  <tbody>\n",
       "    <tr>\n",
       "      <th>FN</th>\n",
       "      <td>10.000000</td>\n",
       "      <td>7.000000</td>\n",
       "      <td>7.000000</td>\n",
       "      <td>7.000000</td>\n",
       "      <td>6.000000</td>\n",
       "      <td>3.000000</td>\n",
       "      <td>4.000000</td>\n",
       "      <td>8.000000</td>\n",
       "      <td>8.000000</td>\n",
       "      <td>14.000000</td>\n",
       "      <td>9.000000</td>\n",
       "      <td>14.000000</td>\n",
       "      <td>6.000000</td>\n",
       "      <td>7.000000</td>\n",
       "      <td>7.000000</td>\n",
       "    </tr>\n",
       "    <tr>\n",
       "      <th>FP</th>\n",
       "      <td>4.000000</td>\n",
       "      <td>10.000000</td>\n",
       "      <td>10.000000</td>\n",
       "      <td>15.000000</td>\n",
       "      <td>6.000000</td>\n",
       "      <td>7.000000</td>\n",
       "      <td>9.000000</td>\n",
       "      <td>6.000000</td>\n",
       "      <td>9.000000</td>\n",
       "      <td>4.000000</td>\n",
       "      <td>8.000000</td>\n",
       "      <td>4.000000</td>\n",
       "      <td>8.000000</td>\n",
       "      <td>7.000000</td>\n",
       "      <td>8.000000</td>\n",
       "    </tr>\n",
       "    <tr>\n",
       "      <th>TN</th>\n",
       "      <td>39.000000</td>\n",
       "      <td>36.000000</td>\n",
       "      <td>34.000000</td>\n",
       "      <td>38.000000</td>\n",
       "      <td>46.000000</td>\n",
       "      <td>48.000000</td>\n",
       "      <td>38.000000</td>\n",
       "      <td>42.000000</td>\n",
       "      <td>44.000000</td>\n",
       "      <td>44.000000</td>\n",
       "      <td>42.000000</td>\n",
       "      <td>38.000000</td>\n",
       "      <td>48.000000</td>\n",
       "      <td>44.000000</td>\n",
       "      <td>45.000000</td>\n",
       "    </tr>\n",
       "    <tr>\n",
       "      <th>TP</th>\n",
       "      <td>57.000000</td>\n",
       "      <td>57.000000</td>\n",
       "      <td>59.000000</td>\n",
       "      <td>51.000000</td>\n",
       "      <td>53.000000</td>\n",
       "      <td>53.000000</td>\n",
       "      <td>60.000000</td>\n",
       "      <td>55.000000</td>\n",
       "      <td>50.000000</td>\n",
       "      <td>48.000000</td>\n",
       "      <td>51.000000</td>\n",
       "      <td>54.000000</td>\n",
       "      <td>48.000000</td>\n",
       "      <td>52.000000</td>\n",
       "      <td>50.000000</td>\n",
       "    </tr>\n",
       "    <tr>\n",
       "      <th>accuracy</th>\n",
       "      <td>0.872727</td>\n",
       "      <td>0.845455</td>\n",
       "      <td>0.845455</td>\n",
       "      <td>0.801802</td>\n",
       "      <td>0.891892</td>\n",
       "      <td>0.909910</td>\n",
       "      <td>0.882883</td>\n",
       "      <td>0.873874</td>\n",
       "      <td>0.846847</td>\n",
       "      <td>0.836364</td>\n",
       "      <td>0.845455</td>\n",
       "      <td>0.836364</td>\n",
       "      <td>0.872727</td>\n",
       "      <td>0.872727</td>\n",
       "      <td>0.863636</td>\n",
       "    </tr>\n",
       "    <tr>\n",
       "      <th>f1score</th>\n",
       "      <td>0.890625</td>\n",
       "      <td>0.870229</td>\n",
       "      <td>0.874074</td>\n",
       "      <td>0.822581</td>\n",
       "      <td>0.898305</td>\n",
       "      <td>0.913793</td>\n",
       "      <td>0.902256</td>\n",
       "      <td>0.887097</td>\n",
       "      <td>0.854701</td>\n",
       "      <td>0.842105</td>\n",
       "      <td>0.857143</td>\n",
       "      <td>0.857143</td>\n",
       "      <td>0.872727</td>\n",
       "      <td>0.881356</td>\n",
       "      <td>0.869565</td>\n",
       "    </tr>\n",
       "    <tr>\n",
       "      <th>precision</th>\n",
       "      <td>0.934426</td>\n",
       "      <td>0.850746</td>\n",
       "      <td>0.855072</td>\n",
       "      <td>0.772727</td>\n",
       "      <td>0.898305</td>\n",
       "      <td>0.883333</td>\n",
       "      <td>0.869565</td>\n",
       "      <td>0.901639</td>\n",
       "      <td>0.847458</td>\n",
       "      <td>0.923077</td>\n",
       "      <td>0.864407</td>\n",
       "      <td>0.931034</td>\n",
       "      <td>0.857143</td>\n",
       "      <td>0.881356</td>\n",
       "      <td>0.862069</td>\n",
       "    </tr>\n",
       "    <tr>\n",
       "      <th>recall</th>\n",
       "      <td>0.850746</td>\n",
       "      <td>0.890625</td>\n",
       "      <td>0.893939</td>\n",
       "      <td>0.879310</td>\n",
       "      <td>0.898305</td>\n",
       "      <td>0.946429</td>\n",
       "      <td>0.937500</td>\n",
       "      <td>0.873016</td>\n",
       "      <td>0.862069</td>\n",
       "      <td>0.774194</td>\n",
       "      <td>0.850000</td>\n",
       "      <td>0.794118</td>\n",
       "      <td>0.888889</td>\n",
       "      <td>0.881356</td>\n",
       "      <td>0.877193</td>\n",
       "    </tr>\n",
       "    <tr>\n",
       "      <th>roc_auc_score</th>\n",
       "      <td>0.952794</td>\n",
       "      <td>0.902174</td>\n",
       "      <td>0.906680</td>\n",
       "      <td>0.889395</td>\n",
       "      <td>0.957953</td>\n",
       "      <td>0.955844</td>\n",
       "      <td>0.962101</td>\n",
       "      <td>0.939815</td>\n",
       "      <td>0.940794</td>\n",
       "      <td>0.944556</td>\n",
       "      <td>0.931667</td>\n",
       "      <td>0.947829</td>\n",
       "      <td>0.935516</td>\n",
       "      <td>0.934197</td>\n",
       "      <td>0.927176</td>\n",
       "    </tr>\n",
       "  </tbody>\n",
       "</table>\n",
       "</div>"
      ],
      "text/plain": [
       "               fold0_repetition2  fold0_repetition3  fold0_repetition4  \\\n",
       "FN                     10.000000           7.000000           7.000000   \n",
       "FP                      4.000000          10.000000          10.000000   \n",
       "TN                     39.000000          36.000000          34.000000   \n",
       "TP                     57.000000          57.000000          59.000000   \n",
       "accuracy                0.872727           0.845455           0.845455   \n",
       "f1score                 0.890625           0.870229           0.874074   \n",
       "precision               0.934426           0.850746           0.855072   \n",
       "recall                  0.850746           0.890625           0.893939   \n",
       "roc_auc_score           0.952794           0.902174           0.906680   \n",
       "\n",
       "               fold1_repetition1  fold1_repetition2  fold1_repetition3  \\\n",
       "FN                      7.000000           6.000000           3.000000   \n",
       "FP                     15.000000           6.000000           7.000000   \n",
       "TN                     38.000000          46.000000          48.000000   \n",
       "TP                     51.000000          53.000000          53.000000   \n",
       "accuracy                0.801802           0.891892           0.909910   \n",
       "f1score                 0.822581           0.898305           0.913793   \n",
       "precision               0.772727           0.898305           0.883333   \n",
       "recall                  0.879310           0.898305           0.946429   \n",
       "roc_auc_score           0.889395           0.957953           0.955844   \n",
       "\n",
       "               fold2_repetition1  fold2_repetition2  fold2_repetition3  \\\n",
       "FN                      4.000000           8.000000           8.000000   \n",
       "FP                      9.000000           6.000000           9.000000   \n",
       "TN                     38.000000          42.000000          44.000000   \n",
       "TP                     60.000000          55.000000          50.000000   \n",
       "accuracy                0.882883           0.873874           0.846847   \n",
       "f1score                 0.902256           0.887097           0.854701   \n",
       "precision               0.869565           0.901639           0.847458   \n",
       "recall                  0.937500           0.873016           0.862069   \n",
       "roc_auc_score           0.962101           0.939815           0.940794   \n",
       "\n",
       "               fold3_repetition1  fold3_repetition2  fold3_repetition3  \\\n",
       "FN                     14.000000           9.000000          14.000000   \n",
       "FP                      4.000000           8.000000           4.000000   \n",
       "TN                     44.000000          42.000000          38.000000   \n",
       "TP                     48.000000          51.000000          54.000000   \n",
       "accuracy                0.836364           0.845455           0.836364   \n",
       "f1score                 0.842105           0.857143           0.857143   \n",
       "precision               0.923077           0.864407           0.931034   \n",
       "recall                  0.774194           0.850000           0.794118   \n",
       "roc_auc_score           0.944556           0.931667           0.947829   \n",
       "\n",
       "               fold4_repetition1  fold4_repetition2  fold4_repetition3  \n",
       "FN                      6.000000           7.000000           7.000000  \n",
       "FP                      8.000000           7.000000           8.000000  \n",
       "TN                     48.000000          44.000000          45.000000  \n",
       "TP                     48.000000          52.000000          50.000000  \n",
       "accuracy                0.872727           0.872727           0.863636  \n",
       "f1score                 0.872727           0.881356           0.869565  \n",
       "precision               0.857143           0.881356           0.862069  \n",
       "recall                  0.888889           0.881356           0.877193  \n",
       "roc_auc_score           0.935516           0.934197           0.927176  "
      ]
     },
     "execution_count": 50,
     "metadata": {},
     "output_type": "execute_result"
    }
   ],
   "source": [
    "result_xgb.T"
   ]
  },
  {
   "cell_type": "code",
   "execution_count": 51,
   "metadata": {},
   "outputs": [
    {
     "name": "stdout",
     "output_type": "stream",
     "text": [
      "mean accuracy >> 0.8598744198744199\n",
      "mean precision >> 0.8754905854581129\n",
      "mean recall >> 0.8731792334083656\n",
      "mean f1score >> 0.872913305521381\n",
      "mean roc_auc_score >> 0.9352328174996993\n"
     ]
    }
   ],
   "source": [
    "print(\"mean accuracy >>\",result_xgb.mean()['accuracy'])\n",
    "print(\"mean precision >>\",result_xgb.mean()['precision'])\n",
    "print(\"mean recall >>\",result_xgb.mean()['recall'])\n",
    "print(\"mean f1score >>\",result_xgb.mean()['f1score'])\n",
    "print(\"mean roc_auc_score >>\",result_xgb.mean()['roc_auc_score'])"
   ]
  },
  {
   "cell_type": "code",
   "execution_count": 55,
   "metadata": {},
   "outputs": [
    {
     "data": {
      "text/plain": [
       "XGBClassifier(base_score=0.5, booster='gbtree', colsample_bylevel=1,\n",
       "       colsample_bytree=1, gamma=0, learning_rate=0.1, max_delta_step=0,\n",
       "       max_depth=3, min_child_weight=1, missing=None, n_estimators=100,\n",
       "       n_jobs=1, nthread=None, objective='binary:logistic', random_state=0,\n",
       "       reg_alpha=0, reg_lambda=1, scale_pos_weight=1, seed=None,\n",
       "       silent=True, subsample=1)"
      ]
     },
     "execution_count": 55,
     "metadata": {},
     "output_type": "execute_result"
    }
   ],
   "source": [
    "xgb_model"
   ]
  },
  {
   "cell_type": "code",
   "execution_count": 59,
   "metadata": {},
   "outputs": [
    {
     "ename": "TypeError",
     "evalue": "__init__() got an unexpected keyword argument 'n_iter'",
     "output_type": "error",
     "traceback": [
      "\u001b[0;31m---------------------------------------------------------------------------\u001b[0m",
      "\u001b[0;31mTypeError\u001b[0m                                 Traceback (most recent call last)",
      "\u001b[0;32m<ipython-input-59-f304ba668a59>\u001b[0m in \u001b[0;36m<module>\u001b[0;34m()\u001b[0m\n\u001b[1;32m     10\u001b[0m \u001b[0;34m\u001b[0m\u001b[0m\n\u001b[1;32m     11\u001b[0m \u001b[0;34m\u001b[0m\u001b[0m\n\u001b[0;32m---> 12\u001b[0;31m \u001b[0mxgb_random\u001b[0m \u001b[0;34m=\u001b[0m \u001b[0mGridSearchCV\u001b[0m\u001b[0;34m(\u001b[0m\u001b[0mestimator\u001b[0m \u001b[0;34m=\u001b[0m \u001b[0mxgb_model\u001b[0m\u001b[0;34m,\u001b[0m\u001b[0mscoring\u001b[0m\u001b[0;34m=\u001b[0m\u001b[0;34m'roc_auc'\u001b[0m\u001b[0;34m,\u001b[0m \u001b[0mparam_grid\u001b[0m\u001b[0;34m=\u001b[0m \u001b[0mparam_grid\u001b[0m\u001b[0;34m,\u001b[0m \u001b[0mn_iter\u001b[0m \u001b[0;34m=\u001b[0m \u001b[0;36m100\u001b[0m\u001b[0;34m,\u001b[0m \u001b[0mcv\u001b[0m \u001b[0;34m=\u001b[0m \u001b[0;36m3\u001b[0m\u001b[0;34m,\u001b[0m \u001b[0mverbose\u001b[0m\u001b[0;34m=\u001b[0m\u001b[0;36m2\u001b[0m\u001b[0;34m,\u001b[0m \u001b[0mrandom_state\u001b[0m\u001b[0;34m=\u001b[0m\u001b[0;36m42\u001b[0m\u001b[0;34m)\u001b[0m\u001b[0;34m\u001b[0m\u001b[0m\n\u001b[0m\u001b[1;32m     13\u001b[0m \u001b[0;31m# Fit the random search model\u001b[0m\u001b[0;34m\u001b[0m\u001b[0;34m\u001b[0m\u001b[0m\n\u001b[1;32m     14\u001b[0m \u001b[0mxgb_random\u001b[0m\u001b[0;34m.\u001b[0m\u001b[0mfit\u001b[0m\u001b[0;34m(\u001b[0m\u001b[0mtrain_df\u001b[0m\u001b[0;34m[\u001b[0m\u001b[0mfeat_cols\u001b[0m\u001b[0;34m]\u001b[0m\u001b[0;34m,\u001b[0m \u001b[0mtrain_labels\u001b[0m\u001b[0;34m)\u001b[0m\u001b[0;34m\u001b[0m\u001b[0m\n",
      "\u001b[0;31mTypeError\u001b[0m: __init__() got an unexpected keyword argument 'n_iter'"
     ]
    }
   ],
   "source": [
    "param_grid = {\n",
    "    'max_depth' : [4, 8, 12,15],\n",
    "    'learning_rate' : [0.01, 0.3, 0.5],\n",
    "    'n_estimators' : [10,20, 50, 200],              \n",
    "    'objective' : [\"binary:logistic\"],#['multi:softprob'],\n",
    "    'gamma' : [0, 0.25, 0.5],\n",
    "    'min_child_weight' : [1, 3, 5],\n",
    "    'subsample' : [0.1, 0.5, 1],\n",
    "    'colsample_bytree' : [0.1, 0.5, 1]}\n",
    "\n",
    "\n",
    "xgb_random = GridSearchCV(estimator = xgb_model,scoring='roc_auc', param_grid= param_grid, n = 100, cv = 3, verbose=2, random_state=42)\n",
    "# Fit the random search model\n",
    "xgb_random.fit(train_df[feat_cols], train_labels)"
   ]
  },
  {
   "cell_type": "code",
   "execution_count": 57,
   "metadata": {},
   "outputs": [
    {
     "data": {
      "text/plain": [
       "{'colsample_bytree': 1,\n",
       " 'gamma': 0.25,\n",
       " 'learning_rate': 0.3,\n",
       " 'max_depth': 12,\n",
       " 'min_child_weight': 3,\n",
       " 'n_estimators': 20,\n",
       " 'objective': 'binary:logistic',\n",
       " 'subsample': 0.5}"
      ]
     },
     "execution_count": 57,
     "metadata": {},
     "output_type": "execute_result"
    }
   ],
   "source": [
    "xgb_random.best_params_"
   ]
  },
  {
   "cell_type": "code",
   "execution_count": 205,
   "metadata": {},
   "outputs": [],
   "source": [
    "xgb_final = xgb_random.best_estimator_"
   ]
  },
  {
   "cell_type": "code",
   "execution_count": 206,
   "metadata": {},
   "outputs": [],
   "source": [
    "result_xgb_final = repeat_kfold(train_df,xgb_final)"
   ]
  },
  {
   "cell_type": "code",
   "execution_count": 207,
   "metadata": {},
   "outputs": [
    {
     "data": {
      "text/html": [
       "<div>\n",
       "<style scoped>\n",
       "    .dataframe tbody tr th:only-of-type {\n",
       "        vertical-align: middle;\n",
       "    }\n",
       "\n",
       "    .dataframe tbody tr th {\n",
       "        vertical-align: top;\n",
       "    }\n",
       "\n",
       "    .dataframe thead th {\n",
       "        text-align: right;\n",
       "    }\n",
       "</style>\n",
       "<table border=\"1\" class=\"dataframe\">\n",
       "  <thead>\n",
       "    <tr style=\"text-align: right;\">\n",
       "      <th></th>\n",
       "      <th>fold0_repetition2</th>\n",
       "      <th>fold0_repetition3</th>\n",
       "      <th>fold0_repetition4</th>\n",
       "      <th>fold1_repetition1</th>\n",
       "      <th>fold1_repetition2</th>\n",
       "      <th>fold1_repetition3</th>\n",
       "      <th>fold2_repetition1</th>\n",
       "      <th>fold2_repetition2</th>\n",
       "      <th>fold2_repetition3</th>\n",
       "      <th>fold3_repetition1</th>\n",
       "      <th>fold3_repetition2</th>\n",
       "      <th>fold3_repetition3</th>\n",
       "      <th>fold4_repetition1</th>\n",
       "      <th>fold4_repetition2</th>\n",
       "      <th>fold4_repetition3</th>\n",
       "    </tr>\n",
       "  </thead>\n",
       "  <tbody>\n",
       "    <tr>\n",
       "      <th>FN</th>\n",
       "      <td>8.000000</td>\n",
       "      <td>9.000000</td>\n",
       "      <td>9.000000</td>\n",
       "      <td>7.000000</td>\n",
       "      <td>5.000000</td>\n",
       "      <td>5.000000</td>\n",
       "      <td>7.000000</td>\n",
       "      <td>7.000000</td>\n",
       "      <td>5.000000</td>\n",
       "      <td>12.000000</td>\n",
       "      <td>12.000000</td>\n",
       "      <td>17.000000</td>\n",
       "      <td>6.000000</td>\n",
       "      <td>9.000000</td>\n",
       "      <td>9.000000</td>\n",
       "    </tr>\n",
       "    <tr>\n",
       "      <th>FP</th>\n",
       "      <td>2.000000</td>\n",
       "      <td>9.000000</td>\n",
       "      <td>10.000000</td>\n",
       "      <td>16.000000</td>\n",
       "      <td>5.000000</td>\n",
       "      <td>7.000000</td>\n",
       "      <td>5.000000</td>\n",
       "      <td>7.000000</td>\n",
       "      <td>8.000000</td>\n",
       "      <td>5.000000</td>\n",
       "      <td>7.000000</td>\n",
       "      <td>5.000000</td>\n",
       "      <td>9.000000</td>\n",
       "      <td>8.000000</td>\n",
       "      <td>13.000000</td>\n",
       "    </tr>\n",
       "    <tr>\n",
       "      <th>TN</th>\n",
       "      <td>41.000000</td>\n",
       "      <td>37.000000</td>\n",
       "      <td>34.000000</td>\n",
       "      <td>37.000000</td>\n",
       "      <td>47.000000</td>\n",
       "      <td>48.000000</td>\n",
       "      <td>42.000000</td>\n",
       "      <td>41.000000</td>\n",
       "      <td>45.000000</td>\n",
       "      <td>43.000000</td>\n",
       "      <td>43.000000</td>\n",
       "      <td>37.000000</td>\n",
       "      <td>47.000000</td>\n",
       "      <td>43.000000</td>\n",
       "      <td>40.000000</td>\n",
       "    </tr>\n",
       "    <tr>\n",
       "      <th>TP</th>\n",
       "      <td>59.000000</td>\n",
       "      <td>55.000000</td>\n",
       "      <td>57.000000</td>\n",
       "      <td>51.000000</td>\n",
       "      <td>54.000000</td>\n",
       "      <td>51.000000</td>\n",
       "      <td>57.000000</td>\n",
       "      <td>56.000000</td>\n",
       "      <td>53.000000</td>\n",
       "      <td>50.000000</td>\n",
       "      <td>48.000000</td>\n",
       "      <td>51.000000</td>\n",
       "      <td>48.000000</td>\n",
       "      <td>50.000000</td>\n",
       "      <td>48.000000</td>\n",
       "    </tr>\n",
       "    <tr>\n",
       "      <th>accuracy</th>\n",
       "      <td>0.909091</td>\n",
       "      <td>0.836364</td>\n",
       "      <td>0.827273</td>\n",
       "      <td>0.792793</td>\n",
       "      <td>0.909910</td>\n",
       "      <td>0.891892</td>\n",
       "      <td>0.891892</td>\n",
       "      <td>0.873874</td>\n",
       "      <td>0.882883</td>\n",
       "      <td>0.845455</td>\n",
       "      <td>0.827273</td>\n",
       "      <td>0.800000</td>\n",
       "      <td>0.863636</td>\n",
       "      <td>0.845455</td>\n",
       "      <td>0.800000</td>\n",
       "    </tr>\n",
       "    <tr>\n",
       "      <th>f1score</th>\n",
       "      <td>0.921875</td>\n",
       "      <td>0.859375</td>\n",
       "      <td>0.857143</td>\n",
       "      <td>0.816000</td>\n",
       "      <td>0.915254</td>\n",
       "      <td>0.894737</td>\n",
       "      <td>0.904762</td>\n",
       "      <td>0.888889</td>\n",
       "      <td>0.890756</td>\n",
       "      <td>0.854701</td>\n",
       "      <td>0.834783</td>\n",
       "      <td>0.822581</td>\n",
       "      <td>0.864865</td>\n",
       "      <td>0.854701</td>\n",
       "      <td>0.813559</td>\n",
       "    </tr>\n",
       "    <tr>\n",
       "      <th>precision</th>\n",
       "      <td>0.967213</td>\n",
       "      <td>0.859375</td>\n",
       "      <td>0.850746</td>\n",
       "      <td>0.761194</td>\n",
       "      <td>0.915254</td>\n",
       "      <td>0.879310</td>\n",
       "      <td>0.919355</td>\n",
       "      <td>0.888889</td>\n",
       "      <td>0.868852</td>\n",
       "      <td>0.909091</td>\n",
       "      <td>0.872727</td>\n",
       "      <td>0.910714</td>\n",
       "      <td>0.842105</td>\n",
       "      <td>0.862069</td>\n",
       "      <td>0.786885</td>\n",
       "    </tr>\n",
       "    <tr>\n",
       "      <th>recall</th>\n",
       "      <td>0.880597</td>\n",
       "      <td>0.859375</td>\n",
       "      <td>0.863636</td>\n",
       "      <td>0.879310</td>\n",
       "      <td>0.915254</td>\n",
       "      <td>0.910714</td>\n",
       "      <td>0.890625</td>\n",
       "      <td>0.888889</td>\n",
       "      <td>0.913793</td>\n",
       "      <td>0.806452</td>\n",
       "      <td>0.800000</td>\n",
       "      <td>0.750000</td>\n",
       "      <td>0.888889</td>\n",
       "      <td>0.847458</td>\n",
       "      <td>0.842105</td>\n",
       "    </tr>\n",
       "    <tr>\n",
       "      <th>roc_auc_score</th>\n",
       "      <td>0.957654</td>\n",
       "      <td>0.907439</td>\n",
       "      <td>0.908402</td>\n",
       "      <td>0.878660</td>\n",
       "      <td>0.956649</td>\n",
       "      <td>0.959091</td>\n",
       "      <td>0.958112</td>\n",
       "      <td>0.957011</td>\n",
       "      <td>0.931360</td>\n",
       "      <td>0.938508</td>\n",
       "      <td>0.941833</td>\n",
       "      <td>0.939076</td>\n",
       "      <td>0.940807</td>\n",
       "      <td>0.935527</td>\n",
       "      <td>0.900364</td>\n",
       "    </tr>\n",
       "  </tbody>\n",
       "</table>\n",
       "</div>"
      ],
      "text/plain": [
       "               fold0_repetition2  fold0_repetition3  fold0_repetition4  \\\n",
       "FN                      8.000000           9.000000           9.000000   \n",
       "FP                      2.000000           9.000000          10.000000   \n",
       "TN                     41.000000          37.000000          34.000000   \n",
       "TP                     59.000000          55.000000          57.000000   \n",
       "accuracy                0.909091           0.836364           0.827273   \n",
       "f1score                 0.921875           0.859375           0.857143   \n",
       "precision               0.967213           0.859375           0.850746   \n",
       "recall                  0.880597           0.859375           0.863636   \n",
       "roc_auc_score           0.957654           0.907439           0.908402   \n",
       "\n",
       "               fold1_repetition1  fold1_repetition2  fold1_repetition3  \\\n",
       "FN                      7.000000           5.000000           5.000000   \n",
       "FP                     16.000000           5.000000           7.000000   \n",
       "TN                     37.000000          47.000000          48.000000   \n",
       "TP                     51.000000          54.000000          51.000000   \n",
       "accuracy                0.792793           0.909910           0.891892   \n",
       "f1score                 0.816000           0.915254           0.894737   \n",
       "precision               0.761194           0.915254           0.879310   \n",
       "recall                  0.879310           0.915254           0.910714   \n",
       "roc_auc_score           0.878660           0.956649           0.959091   \n",
       "\n",
       "               fold2_repetition1  fold2_repetition2  fold2_repetition3  \\\n",
       "FN                      7.000000           7.000000           5.000000   \n",
       "FP                      5.000000           7.000000           8.000000   \n",
       "TN                     42.000000          41.000000          45.000000   \n",
       "TP                     57.000000          56.000000          53.000000   \n",
       "accuracy                0.891892           0.873874           0.882883   \n",
       "f1score                 0.904762           0.888889           0.890756   \n",
       "precision               0.919355           0.888889           0.868852   \n",
       "recall                  0.890625           0.888889           0.913793   \n",
       "roc_auc_score           0.958112           0.957011           0.931360   \n",
       "\n",
       "               fold3_repetition1  fold3_repetition2  fold3_repetition3  \\\n",
       "FN                     12.000000          12.000000          17.000000   \n",
       "FP                      5.000000           7.000000           5.000000   \n",
       "TN                     43.000000          43.000000          37.000000   \n",
       "TP                     50.000000          48.000000          51.000000   \n",
       "accuracy                0.845455           0.827273           0.800000   \n",
       "f1score                 0.854701           0.834783           0.822581   \n",
       "precision               0.909091           0.872727           0.910714   \n",
       "recall                  0.806452           0.800000           0.750000   \n",
       "roc_auc_score           0.938508           0.941833           0.939076   \n",
       "\n",
       "               fold4_repetition1  fold4_repetition2  fold4_repetition3  \n",
       "FN                      6.000000           9.000000           9.000000  \n",
       "FP                      9.000000           8.000000          13.000000  \n",
       "TN                     47.000000          43.000000          40.000000  \n",
       "TP                     48.000000          50.000000          48.000000  \n",
       "accuracy                0.863636           0.845455           0.800000  \n",
       "f1score                 0.864865           0.854701           0.813559  \n",
       "precision               0.842105           0.862069           0.786885  \n",
       "recall                  0.888889           0.847458           0.842105  \n",
       "roc_auc_score           0.940807           0.935527           0.900364  "
      ]
     },
     "execution_count": 207,
     "metadata": {},
     "output_type": "execute_result"
    }
   ],
   "source": [
    "result_xgb_final.T"
   ]
  },
  {
   "cell_type": "code",
   "execution_count": 208,
   "metadata": {},
   "outputs": [
    {
     "name": "stdout",
     "output_type": "stream",
     "text": [
      "mean accuracy >> 0.8531859131859133\n",
      "mean precision >> 0.8729187416067657\n",
      "mean recall >> 0.8624731753865043\n",
      "mean f1score >> 0.866265345524365\n",
      "mean roc_auc_score >> 0.9340327618047709\n"
     ]
    }
   ],
   "source": [
    "print(\"mean accuracy >>\",result_xgb_final.mean()['accuracy'])\n",
    "print(\"mean precision >>\",result_xgb_final.mean()['precision'])\n",
    "print(\"mean recall >>\",result_xgb_final.mean()['recall'])\n",
    "print(\"mean f1score >>\",result_xgb_final.mean()['f1score'])\n",
    "print(\"mean roc_auc_score >>\",result_xgb_final.mean()['roc_auc_score'])"
   ]
  },
  {
   "cell_type": "markdown",
   "metadata": {},
   "source": [
    "Due to computational constraints in performing a full grid search ,we may perform bayesin optimization which seems to be providing good results in hyperparameter optimization"
   ]
  },
  {
   "cell_type": "markdown",
   "metadata": {},
   "source": [
    "This is a typical case of linear models outperforming non linear flexible models due to the importance of additive effect of predictors in classification as opposed to interaction or synergy effects."
   ]
  },
  {
   "cell_type": "code",
   "execution_count": 44,
   "metadata": {},
   "outputs": [
    {
     "data": {
      "text/plain": [
       "GridSearchCV(cv=5, error_score='raise-deprecating',\n",
       "       estimator=SVC(C=1.0, cache_size=200, class_weight=None, coef0=0.0,\n",
       "  decision_function_shape='ovr', degree=3, gamma='auto_deprecated',\n",
       "  kernel='rbf', max_iter=-1, probability=False, random_state=None,\n",
       "  shrinking=True, tol=0.001, verbose=False),\n",
       "       fit_params=None, iid='warn', n_jobs=None,\n",
       "       param_grid={'kernel': ['linear', 'rbf'], 'C': [0.001, 0.01, 0.1, 1, 10], 'gamma': [0.001, 0.01, 0.1, 1]},\n",
       "       pre_dispatch='2*n_jobs', refit=True, return_train_score='warn',\n",
       "       scoring=None, verbose=0)"
      ]
     },
     "execution_count": 44,
     "metadata": {},
     "output_type": "execute_result"
    }
   ],
   "source": [
    "##SVM\n",
    "from sklearn.svm import SVC  \n",
    "from sklearn.model_selection import GridSearchCV\n",
    "\n",
    "svclassifier = SVC()\n",
    "param_grid_svc = {'kernel':['linear','rbf'],'C':[0.001, 0.01, 0.1, 1, 10],'gamma':[0.001, 0.01, 0.1, 1]}\n",
    "svc_grid_search = GridSearchCV(estimator=svclassifier,param_grid=param_grid_svc,cv=5)\n",
    "##since svm requires scaled features we'll use the scaled version of the data\n",
    "svc_grid_search.fit(train_df1,train_labels)"
   ]
  },
  {
   "cell_type": "code",
   "execution_count": 45,
   "metadata": {},
   "outputs": [
    {
     "data": {
      "text/plain": [
       "{'C': 0.01, 'gamma': 0.001, 'kernel': 'linear'}"
      ]
     },
     "execution_count": 45,
     "metadata": {},
     "output_type": "execute_result"
    }
   ],
   "source": [
    "svc_grid_search.best_params_"
   ]
  },
  {
   "cell_type": "code",
   "execution_count": 57,
   "metadata": {},
   "outputs": [],
   "source": [
    "train_labels.P = train_labels.P.astype('int')"
   ]
  },
  {
   "cell_type": "code",
   "execution_count": 106,
   "metadata": {},
   "outputs": [],
   "source": [
    "p = {'C': 0.01, 'gamma': 0.001, 'kernel': 'linear'}"
   ]
  },
  {
   "cell_type": "code",
   "execution_count": 107,
   "metadata": {},
   "outputs": [],
   "source": [
    "svc_check = SVC(**p)"
   ]
  },
  {
   "cell_type": "code",
   "execution_count": 108,
   "metadata": {},
   "outputs": [
    {
     "data": {
      "text/plain": [
       "SVC(C=0.01, cache_size=200, class_weight=None, coef0=0.0,\n",
       "  decision_function_shape='ovr', degree=3, gamma=0.001, kernel='linear',\n",
       "  max_iter=-1, probability=False, random_state=None, shrinking=True,\n",
       "  tol=0.001, verbose=False)"
      ]
     },
     "execution_count": 108,
     "metadata": {},
     "output_type": "execute_result"
    }
   ],
   "source": [
    "svc_check"
   ]
  },
  {
   "cell_type": "code",
   "execution_count": 120,
   "metadata": {},
   "outputs": [],
   "source": [
    "scores = cross_val_score(svc_check,train_df1,train_labels,cv=3,scoring='f1')"
   ]
  },
  {
   "cell_type": "code",
   "execution_count": 121,
   "metadata": {},
   "outputs": [
    {
     "data": {
      "text/plain": [
       "0.8687220096005395"
      ]
     },
     "execution_count": 121,
     "metadata": {},
     "output_type": "execute_result"
    }
   ],
   "source": [
    "scores.mean()"
   ]
  },
  {
   "cell_type": "markdown",
   "metadata": {},
   "source": [
    "## Feature engineering and transformations"
   ]
  },
  {
   "cell_type": "code",
   "execution_count": null,
   "metadata": {},
   "outputs": [],
   "source": [
    "###check if interaction terms improve the performance\n",
    "poly = PolynomialFeatures(interaction_only=True)\n",
    "X_poly = poly.fit_transform(original_data[numerical],original_data['P'])\n",
    "X_poly = pd.DataFrame(X_poly,index=y.index)"
   ]
  },
  {
   "cell_type": "code",
   "execution_count": 52,
   "metadata": {},
   "outputs": [],
   "source": [
    "###perform target encoding instead of one hot encoding for categorical feature with high cardinality to \n",
    "#improve its importance for tree based models which do not perform well usually with high cardinality features.\n",
    "#we will try to include frequency encoding features of importandt categorical variable as well."
   ]
  },
  {
   "cell_type": "code",
   "execution_count": 53,
   "metadata": {},
   "outputs": [
    {
     "data": {
      "text/html": [
       "<div>\n",
       "<style scoped>\n",
       "    .dataframe tbody tr th:only-of-type {\n",
       "        vertical-align: middle;\n",
       "    }\n",
       "\n",
       "    .dataframe tbody tr th {\n",
       "        vertical-align: top;\n",
       "    }\n",
       "\n",
       "    .dataframe thead th {\n",
       "        text-align: right;\n",
       "    }\n",
       "</style>\n",
       "<table border=\"1\" class=\"dataframe\">\n",
       "  <thead>\n",
       "    <tr style=\"text-align: right;\">\n",
       "      <th></th>\n",
       "      <th>A</th>\n",
       "      <th>B</th>\n",
       "      <th>C</th>\n",
       "      <th>D</th>\n",
       "      <th>E</th>\n",
       "      <th>F</th>\n",
       "      <th>G</th>\n",
       "      <th>H</th>\n",
       "      <th>I</th>\n",
       "      <th>J</th>\n",
       "      <th>K</th>\n",
       "      <th>L</th>\n",
       "      <th>M</th>\n",
       "      <th>N</th>\n",
       "      <th>O</th>\n",
       "      <th>P</th>\n",
       "      <th>id</th>\n",
       "    </tr>\n",
       "  </thead>\n",
       "  <tbody>\n",
       "    <tr>\n",
       "      <th>0</th>\n",
       "      <td>b</td>\n",
       "      <td>18.42</td>\n",
       "      <td>10.415</td>\n",
       "      <td>y</td>\n",
       "      <td>p</td>\n",
       "      <td>aa</td>\n",
       "      <td>v</td>\n",
       "      <td>0.125</td>\n",
       "      <td>t</td>\n",
       "      <td>f</td>\n",
       "      <td>0</td>\n",
       "      <td>f</td>\n",
       "      <td>g</td>\n",
       "      <td>120.0</td>\n",
       "      <td>375</td>\n",
       "      <td>1</td>\n",
       "      <td>1</td>\n",
       "    </tr>\n",
       "    <tr>\n",
       "      <th>1</th>\n",
       "      <td>a</td>\n",
       "      <td>21.75</td>\n",
       "      <td>11.750</td>\n",
       "      <td>u</td>\n",
       "      <td>g</td>\n",
       "      <td>c</td>\n",
       "      <td>v</td>\n",
       "      <td>0.250</td>\n",
       "      <td>f</td>\n",
       "      <td>f</td>\n",
       "      <td>0</td>\n",
       "      <td>t</td>\n",
       "      <td>g</td>\n",
       "      <td>180.0</td>\n",
       "      <td>0</td>\n",
       "      <td>1</td>\n",
       "      <td>2</td>\n",
       "    </tr>\n",
       "    <tr>\n",
       "      <th>2</th>\n",
       "      <td>b</td>\n",
       "      <td>30.17</td>\n",
       "      <td>1.085</td>\n",
       "      <td>y</td>\n",
       "      <td>p</td>\n",
       "      <td>c</td>\n",
       "      <td>v</td>\n",
       "      <td>0.040</td>\n",
       "      <td>f</td>\n",
       "      <td>f</td>\n",
       "      <td>0</td>\n",
       "      <td>f</td>\n",
       "      <td>g</td>\n",
       "      <td>170.0</td>\n",
       "      <td>179</td>\n",
       "      <td>1</td>\n",
       "      <td>3</td>\n",
       "    </tr>\n",
       "    <tr>\n",
       "      <th>3</th>\n",
       "      <td>b</td>\n",
       "      <td>22.67</td>\n",
       "      <td>2.540</td>\n",
       "      <td>y</td>\n",
       "      <td>p</td>\n",
       "      <td>c</td>\n",
       "      <td>h</td>\n",
       "      <td>2.585</td>\n",
       "      <td>t</td>\n",
       "      <td>f</td>\n",
       "      <td>0</td>\n",
       "      <td>f</td>\n",
       "      <td>g</td>\n",
       "      <td>0.0</td>\n",
       "      <td>0</td>\n",
       "      <td>0</td>\n",
       "      <td>4</td>\n",
       "    </tr>\n",
       "    <tr>\n",
       "      <th>4</th>\n",
       "      <td>a</td>\n",
       "      <td>36.00</td>\n",
       "      <td>1.000</td>\n",
       "      <td>u</td>\n",
       "      <td>g</td>\n",
       "      <td>c</td>\n",
       "      <td>v</td>\n",
       "      <td>2.000</td>\n",
       "      <td>t</td>\n",
       "      <td>t</td>\n",
       "      <td>11</td>\n",
       "      <td>f</td>\n",
       "      <td>g</td>\n",
       "      <td>0.0</td>\n",
       "      <td>456</td>\n",
       "      <td>0</td>\n",
       "      <td>5</td>\n",
       "    </tr>\n",
       "  </tbody>\n",
       "</table>\n",
       "</div>"
      ],
      "text/plain": [
       "   A      B       C  D  E   F  G      H  I  J   K  L  M      N    O  P  id\n",
       "0  b  18.42  10.415  y  p  aa  v  0.125  t  f   0  f  g  120.0  375  1   1\n",
       "1  a  21.75  11.750  u  g   c  v  0.250  f  f   0  t  g  180.0    0  1   2\n",
       "2  b  30.17   1.085  y  p   c  v  0.040  f  f   0  f  g  170.0  179  1   3\n",
       "3  b  22.67   2.540  y  p   c  h  2.585  t  f   0  f  g    0.0    0  0   4\n",
       "4  a  36.00   1.000  u  g   c  v  2.000  t  t  11  f  g    0.0  456  0   5"
      ]
     },
     "execution_count": 53,
     "metadata": {},
     "output_type": "execute_result"
    }
   ],
   "source": [
    "original_data.head()"
   ]
  },
  {
   "cell_type": "code",
   "execution_count": null,
   "metadata": {},
   "outputs": [],
   "source": []
  }
 ],
 "metadata": {
  "kernelspec": {
   "display_name": "Python 3",
   "language": "python",
   "name": "python3"
  },
  "language_info": {
   "codemirror_mode": {
    "name": "ipython",
    "version": 3
   },
   "file_extension": ".py",
   "mimetype": "text/x-python",
   "name": "python",
   "nbconvert_exporter": "python",
   "pygments_lexer": "ipython3",
   "version": "3.6.4"
  }
 },
 "nbformat": 4,
 "nbformat_minor": 2
}
