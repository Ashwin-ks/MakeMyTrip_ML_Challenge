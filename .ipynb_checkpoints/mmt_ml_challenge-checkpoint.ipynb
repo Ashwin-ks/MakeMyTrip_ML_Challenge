{
 "cells": [
  {
   "cell_type": "code",
   "execution_count": 1,
   "metadata": {},
   "outputs": [],
   "source": [
    "import numpy as np\n",
    "import pandas as pd\n",
    "import matplotlib.pyplot as plt\n",
    "import seaborn as sns\n",
    "get_ipython().run_line_magic('matplotlib', 'inline')\n",
    "import os,sys\n",
    "\n",
    "\n",
    "import xgboost as xgb\n",
    "\n",
    "from sklearn.model_selection import cross_val_score\n",
    "from sklearn.preprocessing import MinMaxScaler\n",
    "from sklearn import preprocessing\n",
    "from sklearn.linear_model import LogisticRegression\n",
    "from xgboost import XGBClassifier\n",
    "from xgboost import XGBRegressor\n",
    "import lightgbm as lgb\n",
    "from lightgbm import LGBMRegressor\n",
    "from sklearn.metrics import accuracy_score\n",
    "from sklearn.model_selection import GridSearchCV\n",
    "from sklearn.model_selection import StratifiedKFold\n",
    "from sklearn.model_selection import train_test_split\n",
    "from sklearn.metrics import matthews_corrcoef, roc_auc_score\n",
    "from sklearn.model_selection import RandomizedSearchCV\n",
    "#from catboost import CatBoostClassifier\n",
    "\n",
    "#from rgf.sklearn import RGFClassifier\n",
    "from sklearn.ensemble import RandomForestClassifier\n",
    "from sklearn.linear_model import LogisticRegression,LinearRegression\n",
    "from sklearn.linear_model import Lasso\n",
    "from sklearn.linear_model import Ridge\n",
    "from sklearn.preprocessing import OneHotEncoder,LabelEncoder\n",
    "\n",
    "from sklearn.svm import SVC\n",
    "from sklearn.svm import SVR\n",
    "from sklearn.ensemble import ExtraTreesClassifier\n",
    "from sklearn.feature_selection import VarianceThreshold\n",
    "\n",
    "from sklearn.preprocessing import StandardScaler\n",
    "from sklearn.decomposition import PCA\n",
    "from sklearn.model_selection import KFold\n",
    "from sklearn.metrics import r2_score\n",
    "#from ggplot import *\n",
    "from xgboost import XGBRegressor\n",
    "\n",
    "import warnings\n",
    "warnings.filterwarnings(\"ignore\")\n",
    "\n",
    "\n",
    "\n",
    "import re\n",
    "from sklearn.metrics import confusion_matrix\n",
    "from sklearn.metrics import accuracy_score,precision_score,recall_score,f1_score"
   ]
  },
  {
   "cell_type": "code",
   "execution_count": 2,
   "metadata": {},
   "outputs": [],
   "source": [
    "import re"
   ]
  },
  {
   "cell_type": "code",
   "execution_count": 3,
   "metadata": {},
   "outputs": [
    {
     "name": "stdout",
     "output_type": "stream",
     "text": [
      "Wed Jan 16 2019 \n",
      "\n",
      "CPython 3.6.4\n",
      "IPython 6.2.1\n",
      "\n",
      "numpy 1.14.5\n",
      "pandas 0.22.0\n",
      "matplotlib 3.0.0\n",
      "seaborn 0.8.1\n",
      "sklearn 0.20.1\n",
      "xgboost 0.7.post3\n",
      "\n",
      "compiler   : GCC 7.2.0\n",
      "system     : Linux\n",
      "release    : 3.10.0-327.59.1.el7.x86_64\n",
      "machine    : x86_64\n",
      "processor  : x86_64\n",
      "CPU cores  : 16\n",
      "interpreter: 64bit\n"
     ]
    }
   ],
   "source": [
    "%load_ext watermark\n",
    "%watermark -v -n -m -p numpy,pandas,matplotlib,seaborn,sklearn,xgboost"
   ]
  },
  {
   "cell_type": "code",
   "execution_count": 29,
   "metadata": {},
   "outputs": [],
   "source": [
    "#os.chdir('dataset')\n",
    "train_df = pd.read_csv('train.csv')\n",
    "test_df = pd.read_csv('test.csv')"
   ]
  },
  {
   "cell_type": "code",
   "execution_count": 30,
   "metadata": {},
   "outputs": [
    {
     "data": {
      "text/html": [
       "<div>\n",
       "<style scoped>\n",
       "    .dataframe tbody tr th:only-of-type {\n",
       "        vertical-align: middle;\n",
       "    }\n",
       "\n",
       "    .dataframe tbody tr th {\n",
       "        vertical-align: top;\n",
       "    }\n",
       "\n",
       "    .dataframe thead th {\n",
       "        text-align: right;\n",
       "    }\n",
       "</style>\n",
       "<table border=\"1\" class=\"dataframe\">\n",
       "  <thead>\n",
       "    <tr style=\"text-align: right;\">\n",
       "      <th></th>\n",
       "      <th>id</th>\n",
       "      <th>A</th>\n",
       "      <th>B</th>\n",
       "      <th>C</th>\n",
       "      <th>D</th>\n",
       "      <th>E</th>\n",
       "      <th>F</th>\n",
       "      <th>G</th>\n",
       "      <th>H</th>\n",
       "      <th>I</th>\n",
       "      <th>J</th>\n",
       "      <th>K</th>\n",
       "      <th>L</th>\n",
       "      <th>M</th>\n",
       "      <th>N</th>\n",
       "      <th>O</th>\n",
       "      <th>P</th>\n",
       "    </tr>\n",
       "  </thead>\n",
       "  <tbody>\n",
       "    <tr>\n",
       "      <th>0</th>\n",
       "      <td>1</td>\n",
       "      <td>b</td>\n",
       "      <td>18.42</td>\n",
       "      <td>10.415</td>\n",
       "      <td>y</td>\n",
       "      <td>p</td>\n",
       "      <td>aa</td>\n",
       "      <td>v</td>\n",
       "      <td>0.125</td>\n",
       "      <td>t</td>\n",
       "      <td>f</td>\n",
       "      <td>0</td>\n",
       "      <td>f</td>\n",
       "      <td>g</td>\n",
       "      <td>120.0</td>\n",
       "      <td>375</td>\n",
       "      <td>1</td>\n",
       "    </tr>\n",
       "    <tr>\n",
       "      <th>1</th>\n",
       "      <td>2</td>\n",
       "      <td>a</td>\n",
       "      <td>21.75</td>\n",
       "      <td>11.750</td>\n",
       "      <td>u</td>\n",
       "      <td>g</td>\n",
       "      <td>c</td>\n",
       "      <td>v</td>\n",
       "      <td>0.250</td>\n",
       "      <td>f</td>\n",
       "      <td>f</td>\n",
       "      <td>0</td>\n",
       "      <td>t</td>\n",
       "      <td>g</td>\n",
       "      <td>180.0</td>\n",
       "      <td>0</td>\n",
       "      <td>1</td>\n",
       "    </tr>\n",
       "    <tr>\n",
       "      <th>2</th>\n",
       "      <td>3</td>\n",
       "      <td>b</td>\n",
       "      <td>30.17</td>\n",
       "      <td>1.085</td>\n",
       "      <td>y</td>\n",
       "      <td>p</td>\n",
       "      <td>c</td>\n",
       "      <td>v</td>\n",
       "      <td>0.040</td>\n",
       "      <td>f</td>\n",
       "      <td>f</td>\n",
       "      <td>0</td>\n",
       "      <td>f</td>\n",
       "      <td>g</td>\n",
       "      <td>170.0</td>\n",
       "      <td>179</td>\n",
       "      <td>1</td>\n",
       "    </tr>\n",
       "    <tr>\n",
       "      <th>3</th>\n",
       "      <td>4</td>\n",
       "      <td>b</td>\n",
       "      <td>22.67</td>\n",
       "      <td>2.540</td>\n",
       "      <td>y</td>\n",
       "      <td>p</td>\n",
       "      <td>c</td>\n",
       "      <td>h</td>\n",
       "      <td>2.585</td>\n",
       "      <td>t</td>\n",
       "      <td>f</td>\n",
       "      <td>0</td>\n",
       "      <td>f</td>\n",
       "      <td>g</td>\n",
       "      <td>0.0</td>\n",
       "      <td>0</td>\n",
       "      <td>0</td>\n",
       "    </tr>\n",
       "    <tr>\n",
       "      <th>4</th>\n",
       "      <td>5</td>\n",
       "      <td>a</td>\n",
       "      <td>36.00</td>\n",
       "      <td>1.000</td>\n",
       "      <td>u</td>\n",
       "      <td>g</td>\n",
       "      <td>c</td>\n",
       "      <td>v</td>\n",
       "      <td>2.000</td>\n",
       "      <td>t</td>\n",
       "      <td>t</td>\n",
       "      <td>11</td>\n",
       "      <td>f</td>\n",
       "      <td>g</td>\n",
       "      <td>0.0</td>\n",
       "      <td>456</td>\n",
       "      <td>0</td>\n",
       "    </tr>\n",
       "  </tbody>\n",
       "</table>\n",
       "</div>"
      ],
      "text/plain": [
       "   id  A      B       C  D  E   F  G      H  I  J   K  L  M      N    O  P\n",
       "0   1  b  18.42  10.415  y  p  aa  v  0.125  t  f   0  f  g  120.0  375  1\n",
       "1   2  a  21.75  11.750  u  g   c  v  0.250  f  f   0  t  g  180.0    0  1\n",
       "2   3  b  30.17   1.085  y  p   c  v  0.040  f  f   0  f  g  170.0  179  1\n",
       "3   4  b  22.67   2.540  y  p   c  h  2.585  t  f   0  f  g    0.0    0  0\n",
       "4   5  a  36.00   1.000  u  g   c  v  2.000  t  t  11  f  g    0.0  456  0"
      ]
     },
     "execution_count": 30,
     "metadata": {},
     "output_type": "execute_result"
    }
   ],
   "source": [
    "train_df.head()"
   ]
  },
  {
   "cell_type": "code",
   "execution_count": 31,
   "metadata": {},
   "outputs": [
    {
     "name": "stdout",
     "output_type": "stream",
     "text": [
      "Train data:-\n",
      " Columns: 17  Rows: 552\n",
      "Test data:-\n",
      " Columns: 16  Rows: 138\n"
     ]
    }
   ],
   "source": [
    "print('Train data:-\\n Columns: {}  Rows: {}'.format(train_df.shape[1],train_df.shape[0]))\n",
    "print('Test data:-\\n Columns: {}  Rows: {}'.format(test_df.shape[1],test_df.shape[0]))"
   ]
  },
  {
   "cell_type": "code",
   "execution_count": 32,
   "metadata": {},
   "outputs": [
    {
     "data": {
      "text/html": [
       "<div>\n",
       "<style scoped>\n",
       "    .dataframe tbody tr th:only-of-type {\n",
       "        vertical-align: middle;\n",
       "    }\n",
       "\n",
       "    .dataframe tbody tr th {\n",
       "        vertical-align: top;\n",
       "    }\n",
       "\n",
       "    .dataframe thead th {\n",
       "        text-align: right;\n",
       "    }\n",
       "</style>\n",
       "<table border=\"1\" class=\"dataframe\">\n",
       "  <thead>\n",
       "    <tr style=\"text-align: right;\">\n",
       "      <th></th>\n",
       "      <th>id</th>\n",
       "      <th>B</th>\n",
       "      <th>C</th>\n",
       "      <th>H</th>\n",
       "      <th>K</th>\n",
       "      <th>N</th>\n",
       "      <th>O</th>\n",
       "      <th>P</th>\n",
       "    </tr>\n",
       "  </thead>\n",
       "  <tbody>\n",
       "    <tr>\n",
       "      <th>count</th>\n",
       "      <td>552.000000</td>\n",
       "      <td>543.000000</td>\n",
       "      <td>552.000000</td>\n",
       "      <td>552.000000</td>\n",
       "      <td>552.000000</td>\n",
       "      <td>541.000000</td>\n",
       "      <td>552.000000</td>\n",
       "      <td>552.000000</td>\n",
       "    </tr>\n",
       "    <tr>\n",
       "      <th>mean</th>\n",
       "      <td>276.500000</td>\n",
       "      <td>31.364899</td>\n",
       "      <td>4.780136</td>\n",
       "      <td>2.259176</td>\n",
       "      <td>2.318841</td>\n",
       "      <td>175.162662</td>\n",
       "      <td>1087.576087</td>\n",
       "      <td>0.552536</td>\n",
       "    </tr>\n",
       "    <tr>\n",
       "      <th>std</th>\n",
       "      <td>159.492947</td>\n",
       "      <td>11.873665</td>\n",
       "      <td>4.938454</td>\n",
       "      <td>3.442564</td>\n",
       "      <td>4.297867</td>\n",
       "      <td>154.873746</td>\n",
       "      <td>5758.841945</td>\n",
       "      <td>0.497683</td>\n",
       "    </tr>\n",
       "    <tr>\n",
       "      <th>min</th>\n",
       "      <td>1.000000</td>\n",
       "      <td>13.750000</td>\n",
       "      <td>0.000000</td>\n",
       "      <td>0.000000</td>\n",
       "      <td>0.000000</td>\n",
       "      <td>0.000000</td>\n",
       "      <td>0.000000</td>\n",
       "      <td>0.000000</td>\n",
       "    </tr>\n",
       "    <tr>\n",
       "      <th>25%</th>\n",
       "      <td>138.750000</td>\n",
       "      <td>22.500000</td>\n",
       "      <td>1.000000</td>\n",
       "      <td>0.165000</td>\n",
       "      <td>0.000000</td>\n",
       "      <td>60.000000</td>\n",
       "      <td>0.000000</td>\n",
       "      <td>0.000000</td>\n",
       "    </tr>\n",
       "    <tr>\n",
       "      <th>50%</th>\n",
       "      <td>276.500000</td>\n",
       "      <td>28.170000</td>\n",
       "      <td>2.750000</td>\n",
       "      <td>1.000000</td>\n",
       "      <td>0.000000</td>\n",
       "      <td>152.000000</td>\n",
       "      <td>3.500000</td>\n",
       "      <td>1.000000</td>\n",
       "    </tr>\n",
       "    <tr>\n",
       "      <th>75%</th>\n",
       "      <td>414.250000</td>\n",
       "      <td>37.665000</td>\n",
       "      <td>7.561250</td>\n",
       "      <td>2.750000</td>\n",
       "      <td>3.000000</td>\n",
       "      <td>268.000000</td>\n",
       "      <td>364.750000</td>\n",
       "      <td>1.000000</td>\n",
       "    </tr>\n",
       "    <tr>\n",
       "      <th>max</th>\n",
       "      <td>552.000000</td>\n",
       "      <td>80.250000</td>\n",
       "      <td>28.000000</td>\n",
       "      <td>28.500000</td>\n",
       "      <td>40.000000</td>\n",
       "      <td>1160.000000</td>\n",
       "      <td>100000.000000</td>\n",
       "      <td>1.000000</td>\n",
       "    </tr>\n",
       "  </tbody>\n",
       "</table>\n",
       "</div>"
      ],
      "text/plain": [
       "               id           B           C           H           K  \\\n",
       "count  552.000000  543.000000  552.000000  552.000000  552.000000   \n",
       "mean   276.500000   31.364899    4.780136    2.259176    2.318841   \n",
       "std    159.492947   11.873665    4.938454    3.442564    4.297867   \n",
       "min      1.000000   13.750000    0.000000    0.000000    0.000000   \n",
       "25%    138.750000   22.500000    1.000000    0.165000    0.000000   \n",
       "50%    276.500000   28.170000    2.750000    1.000000    0.000000   \n",
       "75%    414.250000   37.665000    7.561250    2.750000    3.000000   \n",
       "max    552.000000   80.250000   28.000000   28.500000   40.000000   \n",
       "\n",
       "                 N              O           P  \n",
       "count   541.000000     552.000000  552.000000  \n",
       "mean    175.162662    1087.576087    0.552536  \n",
       "std     154.873746    5758.841945    0.497683  \n",
       "min       0.000000       0.000000    0.000000  \n",
       "25%      60.000000       0.000000    0.000000  \n",
       "50%     152.000000       3.500000    1.000000  \n",
       "75%     268.000000     364.750000    1.000000  \n",
       "max    1160.000000  100000.000000    1.000000  "
      ]
     },
     "execution_count": 32,
     "metadata": {},
     "output_type": "execute_result"
    }
   ],
   "source": [
    "train_df.describe()"
   ]
  },
  {
   "cell_type": "code",
   "execution_count": 33,
   "metadata": {},
   "outputs": [
    {
     "data": {
      "text/plain": [
       "<matplotlib.axes._subplots.AxesSubplot at 0x7f020d01d320>"
      ]
     },
     "execution_count": 33,
     "metadata": {},
     "output_type": "execute_result"
    },
    {
     "data": {
      "image/png": "[encoded data removed]",
      "text/plain": [
       "<Figure size 432x288 with 1 Axes>"
      ]
     },
     "metadata": {},
     "output_type": "display_data"
    }
   ],
   "source": [
    "##column datatypes barplot\n",
    "train_df.dtypes.value_counts().plot(kind='bar')"
   ]
  },
  {
   "cell_type": "code",
   "execution_count": 34,
   "metadata": {},
   "outputs": [
    {
     "data": {
      "text/plain": [
       "<matplotlib.axes._subplots.AxesSubplot at 0x7f020cd743c8>"
      ]
     },
     "execution_count": 34,
     "metadata": {},
     "output_type": "execute_result"
    },
    {
     "data": {
      "image/png": "[encoded data removed]",
      "text/plain": [
       "<Figure size 432x288 with 1 Axes>"
      ]
     },
     "metadata": {},
     "output_type": "display_data"
    }
   ],
   "source": [
    "##target distribution\n",
    "sns.countplot(x='P',data=train_df)"
   ]
  },
  {
   "cell_type": "code",
   "execution_count": 35,
   "metadata": {},
   "outputs": [],
   "source": [
    "categorical = list(train_df.columns[train_df.dtypes==\"object\"])\n",
    "numerical = list(train_df.columns[train_df.dtypes!=\"object\"])"
   ]
  },
  {
   "cell_type": "code",
   "execution_count": 36,
   "metadata": {},
   "outputs": [
    {
     "data": {
      "text/plain": [
       "['A', 'D', 'E', 'F', 'G', 'I', 'J', 'L', 'M']"
      ]
     },
     "execution_count": 36,
     "metadata": {},
     "output_type": "execute_result"
    }
   ],
   "source": [
    "categorical"
   ]
  },
  {
   "cell_type": "code",
   "execution_count": 37,
   "metadata": {},
   "outputs": [
    {
     "data": {
      "text/plain": [
       "['id', 'B', 'C', 'H', 'K', 'N', 'O', 'P']"
      ]
     },
     "execution_count": 37,
     "metadata": {},
     "output_type": "execute_result"
    }
   ],
   "source": [
    "numerical\n"
   ]
  },
  {
   "cell_type": "code",
   "execution_count": 38,
   "metadata": {},
   "outputs": [],
   "source": [
    "numerical.remove('id')"
   ]
  },
  {
   "cell_type": "code",
   "execution_count": 39,
   "metadata": {},
   "outputs": [],
   "source": [
    "numerical.remove('P')"
   ]
  },
  {
   "cell_type": "code",
   "execution_count": 40,
   "metadata": {},
   "outputs": [
    {
     "data": {
      "text/plain": [
       "['B', 'C', 'H', 'K', 'N', 'O']"
      ]
     },
     "execution_count": 40,
     "metadata": {},
     "output_type": "execute_result"
    }
   ],
   "source": [
    "numerical"
   ]
  },
  {
   "cell_type": "code",
   "execution_count": 41,
   "metadata": {},
   "outputs": [
    {
     "name": "stdout",
     "output_type": "stream",
     "text": [
      ">>>>>Numerical variables having nulls and its counts<<<<<<<<\n"
     ]
    },
    {
     "data": {
      "text/plain": [
       "N    11\n",
       "B     9\n",
       "dtype: int64"
      ]
     },
     "execution_count": 41,
     "metadata": {},
     "output_type": "execute_result"
    }
   ],
   "source": [
    "##checking for null values\n",
    "print('>>>>>Numerical variables having nulls and its counts<<<<<<<<')\n",
    "num_nulls = train_df[numerical].isnull().sum()[train_df[numerical].isnull().sum()>0].sort_values(ascending=False)\n",
    "num_nulls"
   ]
  },
  {
   "cell_type": "code",
   "execution_count": 42,
   "metadata": {},
   "outputs": [
    {
     "name": "stdout",
     "output_type": "stream",
     "text": [
      ">>>>>Categorical variables having nulls and its counts<<<<<<<<\n"
     ]
    },
    {
     "data": {
      "text/plain": [
       "A    4\n",
       "G    2\n",
       "F    2\n",
       "E    1\n",
       "D    1\n",
       "dtype: int64"
      ]
     },
     "execution_count": 42,
     "metadata": {},
     "output_type": "execute_result"
    }
   ],
   "source": [
    "##checking for null values\n",
    "print('>>>>>Categorical variables having nulls and its counts<<<<<<<<')\n",
    "cat_nulls = test_df[categorical].isnull().sum()[test_df[categorical].isnull().sum()>0].sort_values(ascending=False)\n",
    "cat_nulls"
   ]
  },
  {
   "cell_type": "code",
   "execution_count": 43,
   "metadata": {},
   "outputs": [],
   "source": [
    "##numerical\n",
    "train_df['B'].fillna(train_df['B'].median(),inplace=True)\n",
    "train_df['N'].fillna(train_df['N'].median(),inplace=True)\n",
    "test_df['B'].fillna(train_df['B'].median(),inplace=True)\n",
    "test_df['N'].fillna(train_df['N'].median(),inplace=True)"
   ]
  },
  {
   "cell_type": "code",
   "execution_count": 44,
   "metadata": {},
   "outputs": [],
   "source": [
    "train_df['A'].fillna(train_df['A'].value_counts().index[0],inplace=True)\n",
    "train_df['G'].fillna(train_df['G'].value_counts().index[0],inplace=True)\n",
    "train_df['F'].fillna(train_df['F'].value_counts().index[0],inplace=True)\n",
    "train_df['E'].fillna(train_df['E'].value_counts().index[0],inplace=True)\n",
    "train_df['D'].fillna(train_df['D'].value_counts().index[0],inplace=True)\n",
    "\n",
    "test_df['A'].fillna(train_df['A'].value_counts().index[0],inplace=True)\n",
    "test_df['G'].fillna(train_df['G'].value_counts().index[0],inplace=True)\n",
    "test_df['F'].fillna(train_df['F'].value_counts().index[0],inplace=True)\n",
    "test_df['E'].fillna(train_df['E'].value_counts().index[0],inplace=True)\n",
    "test_df['D'].fillna(train_df['D'].value_counts().index[0],inplace=True)"
   ]
  },
  {
   "cell_type": "code",
   "execution_count": 45,
   "metadata": {},
   "outputs": [],
   "source": [
    "original_train = train_df.copy()\n",
    "original_test = test_df.copy()"
   ]
  },
  {
   "cell_type": "markdown",
   "metadata": {},
   "source": [
    "##### Distribution of Continuous Variables and Effect on Target"
   ]
  },
  {
   "cell_type": "code",
   "execution_count": 46,
   "metadata": {},
   "outputs": [
    {
     "name": "stdout",
     "output_type": "stream",
     "text": [
      "\n",
      "Skew in numeric features:\n",
      "B     1.124167\n",
      "C     1.413447\n",
      "H     2.989292\n",
      "K     2.903900\n",
      "N     1.373721\n",
      "O    12.087691\n",
      "dtype: float64\n"
     ]
    }
   ],
   "source": [
    "from scipy.stats import skew, boxcox\n",
    "skewed_feats = train_df[numerical].apply(lambda x: skew(x.dropna()))\n",
    "print(\"\\nSkew in numeric features:\")\n",
    "print(skewed_feats)"
   ]
  },
  {
   "cell_type": "code",
   "execution_count": 47,
   "metadata": {},
   "outputs": [
    {
     "data": {
      "text/plain": [
       "<seaborn.axisgrid.FacetGrid at 0x7f020d1d37b8>"
      ]
     },
     "execution_count": 47,
     "metadata": {},
     "output_type": "execute_result"
    },
    {
     "data": {
      "image/png": "[encoded data removed]",
      "text/plain": [
       "<Figure size 864x432 with 6 Axes>"
      ]
     },
     "metadata": {},
     "output_type": "display_data"
    }
   ],
   "source": [
    "###numerical columns histogram- Train\n",
    "numdf=pd.melt(train_df,value_vars=numerical)\n",
    "numgrid=sns.FacetGrid(numdf,col='variable',col_wrap=4,sharex=False,sharey=False)\n",
    "numgrid=numgrid.map(sns.distplot,'value')\n",
    "numgrid"
   ]
  },
  {
   "cell_type": "code",
   "execution_count": 48,
   "metadata": {},
   "outputs": [
    {
     "data": {
      "text/plain": [
       "<seaborn.axisgrid.FacetGrid at 0x7f020c3c2048>"
      ]
     },
     "execution_count": 48,
     "metadata": {},
     "output_type": "execute_result"
    },
    {
     "data": {
      "image/png": "[encoded data removed]",
      "text/plain": [
       "<Figure size 864x432 with 6 Axes>"
      ]
     },
     "metadata": {},
     "output_type": "display_data"
    }
   ],
   "source": [
    "###we'll check the distribution in test to check for any covariate shift\n",
    "###numerical columns histogram\n",
    "numdf=pd.melt(test_df,value_vars=numerical)\n",
    "numgrid=sns.FacetGrid(numdf,col='variable',col_wrap=4,sharex=False,sharey=False)\n",
    "numgrid=numgrid.map(sns.distplot,'value')\n",
    "numgrid"
   ]
  },
  {
   "cell_type": "markdown",
   "metadata": {},
   "source": [
    "Both train and test data seems to have similar distribution and therefore no covariate shift in data.We'll normalize the data in order compare the results of models like SVM with tree based methods on the same data."
   ]
  },
  {
   "cell_type": "code",
   "execution_count": 49,
   "metadata": {},
   "outputs": [],
   "source": [
    "def density_plot(df):\n",
    "    ''' Explore data by plotting KDE graphs. '''\n",
    "\n",
    "    fig = plt.figure(1, figsize=(25,10))\n",
    "    \n",
    "    fig.subplots_adjust(bottom= -1, left=0.025, top = 2, right=0.975)  \n",
    "    i = 1\n",
    "    \n",
    "    for col in df.columns:\n",
    "        if col=='P':\n",
    "            continue\n",
    "        plt.subplot(8,2,0 + i)\n",
    "        j = i - 1\n",
    "        \n",
    "        #Plot KDE for all labels\n",
    "        sns.distplot(df[df['P'] == 0].iloc[:,j], hist = False, label = 'P=0', kde_kws={\"lw\":4})\n",
    "        sns.distplot(df[df['P'] == 1].iloc[:,j], hist = False, label = 'P=1', kde_kws={\"lw\":4})\n",
    "        plt.legend();\n",
    "        i = i + 1\n",
    "    \n",
    "    #Define plot format    \n",
    "    #DefaultSize = fig.get_size_inches()\n",
    "    #fig.set_size_inches((DefaultSize[0]*1.2, DefaultSize[1]*1.2))\n",
    "\n",
    "    plt.show()"
   ]
  },
  {
   "cell_type": "markdown",
   "metadata": {},
   "source": [
    "We can see how the distribution of features changes for each of the binary output variable"
   ]
  },
  {
   "cell_type": "code",
   "execution_count": 50,
   "metadata": {},
   "outputs": [
    {
     "data": {
      "image/png": "[encoded data removed]",
      "text/plain": [
       "<Figure size 1800x720 with 6 Axes>"
      ]
     },
     "metadata": {},
     "output_type": "display_data"
    }
   ],
   "source": [
    "density_plot(train_df[numerical+['P']])"
   ]
  },
  {
   "cell_type": "code",
   "execution_count": 51,
   "metadata": {},
   "outputs": [
    {
     "data": {
      "text/plain": [
       "<seaborn.axisgrid.FacetGrid at 0x7f020caa9ef0>"
      ]
     },
     "execution_count": 51,
     "metadata": {},
     "output_type": "execute_result"
    },
    {
     "data": {
      "image/png": "[encoded data removed]",
      "text/plain": [
       "<Figure size 906.375x648 with 9 Axes>"
      ]
     },
     "metadata": {},
     "output_type": "display_data"
    }
   ],
   "source": [
    "##visualizing the contingency table for each categorical variable\n",
    "def countplot(x,y,**kwargs):\n",
    "            #sns.boxplot(x=x,y=y)\n",
    "            sns.countplot(x=x,hue=y)#,data=train_df)\n",
    "            #x = plt.xticks(rotation=90)\n",
    "            \n",
    "\n",
    "\n",
    "p = pd.melt(train_df, value_vars=categorical,id_vars='P')\n",
    "g = sns.FacetGrid (p, col='variable', col_wrap=4, sharex=False, sharey=False, size=3)\n",
    "g = g.map(countplot, 'value','P')\n",
    "g.add_legend()"
   ]
  },
  {
   "cell_type": "code",
   "execution_count": 52,
   "metadata": {},
   "outputs": [],
   "source": [
    "train_df['P'] = train_df['P'].astype('str')"
   ]
  },
  {
   "cell_type": "code",
   "execution_count": 53,
   "metadata": {},
   "outputs": [
    {
     "data": {
      "image/png": "[encoded data removed]",
      "text/plain": [
       "<Figure size 864x576 with 6 Axes>"
      ]
     },
     "metadata": {},
     "output_type": "display_data"
    }
   ],
   "source": [
    "def boxplot(x,y,**kwargs):\n",
    "            sns.boxplot(x=x,y=y)\n",
    "            x = plt.xticks(rotation=90)\n",
    "p = pd.melt(train_df, value_vars=numerical,id_vars='P')\n",
    "g = sns.FacetGrid (p, col='variable', col_wrap=3, sharex=False, sharey=False, size=4)\n",
    "g = g.map(boxplot, 'P','value')"
   ]
  },
  {
   "cell_type": "markdown",
   "metadata": {},
   "source": [
    "#def outliers_iqr(col,k=7):\n",
    "    quartile_1, quartile_3 = np.percentile(col, [25, 75])\n",
    "    iqr = quartile_3 - quartile_1\n",
    "    lower_bound = quartile_1 - (iqr * k)\n",
    "    upper_bound = quartile_3 + (iqr * k)\n",
    "    #print(col.name,sum([x < lower_bound or x > upper_bound for x in col]))\n",
    "    return [True if x < lower_bound or x > upper_bound else False for x in col]\n",
    "\n",
    "outlier_mask = train_df[numerical].apply(outliers_iqr)"
   ]
  },
  {
   "cell_type": "code",
   "execution_count": 54,
   "metadata": {},
   "outputs": [
    {
     "data": {
      "text/html": [
       "<div>\n",
       "<style scoped>\n",
       "    .dataframe tbody tr th:only-of-type {\n",
       "        vertical-align: middle;\n",
       "    }\n",
       "\n",
       "    .dataframe tbody tr th {\n",
       "        vertical-align: top;\n",
       "    }\n",
       "\n",
       "    .dataframe thead th {\n",
       "        text-align: right;\n",
       "    }\n",
       "</style>\n",
       "<table border=\"1\" class=\"dataframe\">\n",
       "  <thead>\n",
       "    <tr style=\"text-align: right;\">\n",
       "      <th></th>\n",
       "      <th>B</th>\n",
       "      <th>C</th>\n",
       "      <th>H</th>\n",
       "      <th>K</th>\n",
       "      <th>N</th>\n",
       "      <th>O</th>\n",
       "    </tr>\n",
       "  </thead>\n",
       "  <tbody>\n",
       "    <tr>\n",
       "      <th>B</th>\n",
       "      <td>1.000000</td>\n",
       "      <td>0.151406</td>\n",
       "      <td>0.404109</td>\n",
       "      <td>0.242301</td>\n",
       "      <td>-0.077251</td>\n",
       "      <td>0.014244</td>\n",
       "    </tr>\n",
       "    <tr>\n",
       "      <th>C</th>\n",
       "      <td>0.151406</td>\n",
       "      <td>1.000000</td>\n",
       "      <td>0.287374</td>\n",
       "      <td>0.301832</td>\n",
       "      <td>-0.208412</td>\n",
       "      <td>0.141069</td>\n",
       "    </tr>\n",
       "    <tr>\n",
       "      <th>H</th>\n",
       "      <td>0.404109</td>\n",
       "      <td>0.287374</td>\n",
       "      <td>1.000000</td>\n",
       "      <td>0.390157</td>\n",
       "      <td>-0.113929</td>\n",
       "      <td>0.050995</td>\n",
       "    </tr>\n",
       "    <tr>\n",
       "      <th>K</th>\n",
       "      <td>0.242301</td>\n",
       "      <td>0.301832</td>\n",
       "      <td>0.390157</td>\n",
       "      <td>1.000000</td>\n",
       "      <td>-0.164861</td>\n",
       "      <td>0.066033</td>\n",
       "    </tr>\n",
       "    <tr>\n",
       "      <th>N</th>\n",
       "      <td>-0.077251</td>\n",
       "      <td>-0.208412</td>\n",
       "      <td>-0.113929</td>\n",
       "      <td>-0.164861</td>\n",
       "      <td>1.000000</td>\n",
       "      <td>0.080144</td>\n",
       "    </tr>\n",
       "    <tr>\n",
       "      <th>O</th>\n",
       "      <td>0.014244</td>\n",
       "      <td>0.141069</td>\n",
       "      <td>0.050995</td>\n",
       "      <td>0.066033</td>\n",
       "      <td>0.080144</td>\n",
       "      <td>1.000000</td>\n",
       "    </tr>\n",
       "  </tbody>\n",
       "</table>\n",
       "</div>"
      ],
      "text/plain": [
       "          B         C         H         K         N         O\n",
       "B  1.000000  0.151406  0.404109  0.242301 -0.077251  0.014244\n",
       "C  0.151406  1.000000  0.287374  0.301832 -0.208412  0.141069\n",
       "H  0.404109  0.287374  1.000000  0.390157 -0.113929  0.050995\n",
       "K  0.242301  0.301832  0.390157  1.000000 -0.164861  0.066033\n",
       "N -0.077251 -0.208412 -0.113929 -0.164861  1.000000  0.080144\n",
       "O  0.014244  0.141069  0.050995  0.066033  0.080144  1.000000"
      ]
     },
     "execution_count": 54,
     "metadata": {},
     "output_type": "execute_result"
    }
   ],
   "source": [
    "train_df[numerical].corr()"
   ]
  },
  {
   "cell_type": "code",
   "execution_count": 55,
   "metadata": {},
   "outputs": [],
   "source": [
    "##categorical features label encoding\n",
    "from sklearn.preprocessing import LabelEncoder\n",
    "le = LabelEncoder()\n",
    "for col in categorical:\n",
    "    le.fit(train_df[col])\n",
    "    train_df[col+'_label'] = le.transform(train_df[col])\n",
    "    test_df[col+'_label'] = le.transform(test_df[col])"
   ]
  },
  {
   "cell_type": "code",
   "execution_count": 56,
   "metadata": {},
   "outputs": [],
   "source": [
    "cat_label_feat = [x for x in train_df.columns if re.search(r\".*label.*\",x)]\n",
    "for col in cat_label_feat:\n",
    "    train_df[col] = train_df[col].astype('category') \n",
    "    test_df[col] = test_df[col].astype('category') "
   ]
  },
  {
   "cell_type": "code",
   "execution_count": 57,
   "metadata": {},
   "outputs": [],
   "source": [
    "##categorical features one-hot encoding\n",
    "\n",
    "for col in categorical:\n",
    "    train_df[col] = train_df[col].astype('str')\n",
    "    test_df[col] = test_df[col].astype('str')"
   ]
  },
  {
   "cell_type": "code",
   "execution_count": 58,
   "metadata": {},
   "outputs": [],
   "source": [
    "ohencoder = OneHotEncoder(categories='auto')\n",
    "for col in categorical:\n",
    "    encoded = ohencoder.fit_transform(train_df[col].reshape(-1,1)).toarray()\n",
    "    \n",
    "    dfOneHot = pd.DataFrame(encoded, columns = [str(col)+'_ohe_'+str(int(i)) for i in range(encoded.shape[1])])\n",
    "    train_df = pd.concat([train_df, dfOneHot], axis=1)\n",
    "    \n",
    "    encoded_test = ohencoder.transform(test_df[col].reshape(-1,1)).toarray()\n",
    "    dfOneHot_test = pd.DataFrame(encoded_test, columns = [str(col)+'_ohe_'+str(int(i)) for i in range(encoded_test.shape[1])])\n",
    "    test_df = pd.concat([test_df, dfOneHot_test], axis=1)\n",
    "\n"
   ]
  },
  {
   "cell_type": "code",
   "execution_count": 59,
   "metadata": {},
   "outputs": [],
   "source": [
    "import re\n",
    "ohe_feat = [x for x in train_df.columns if re.search(r\".*ohe.*\",x)]"
   ]
  },
  {
   "cell_type": "code",
   "execution_count": 60,
   "metadata": {},
   "outputs": [],
   "source": [
    "for col in categorical:\n",
    "    train_df[col] = train_df[col].astype('category') \n",
    "    test_df[col] = test_df[col].astype('category') "
   ]
  },
  {
   "cell_type": "code",
   "execution_count": 61,
   "metadata": {},
   "outputs": [],
   "source": [
    "train_labels  = train_df['P']\n",
    "train_df  = train_df.drop(['P'],axis=1)\n"
   ]
  },
  {
   "cell_type": "code",
   "execution_count": 62,
   "metadata": {},
   "outputs": [],
   "source": [
    "target = ['P']"
   ]
  },
  {
   "cell_type": "code",
   "execution_count": 63,
   "metadata": {},
   "outputs": [],
   "source": [
    "##saving data\n",
    "train_df.to_csv('trn_label_enc_ohe_enc.csv', index=False)\n",
    "test_df.to_csv('tst_label_enc_ohe_enc.csv', index=False)\n",
    "\n",
    "np.save('y_trn.npy', train_labels.values)\n"
   ]
  },
  {
   "cell_type": "code",
   "execution_count": 64,
   "metadata": {},
   "outputs": [],
   "source": [
    "from sklearn.metrics import accuracy_score,precision_score,recall_score,f1_score,roc_auc_score,precision_recall_curve,log_loss"
   ]
  },
  {
   "cell_type": "markdown",
   "metadata": {},
   "source": [
    "As we know our target variable is balanced and hence instead of stratified kfold cross validation we'll perform repeated k-fold n times with different splits in each repetition."
   ]
  },
  {
   "cell_type": "code",
   "execution_count": 65,
   "metadata": {},
   "outputs": [],
   "source": [
    "from sklearn.model_selection import RepeatedKFold\n",
    "def repeat_kfold(train_data,feat_cols,lr):\n",
    "    split = RepeatedKFold(n_splits=5,n_repeats=3,random_state=43)\n",
    "    i=1\n",
    "    j=1\n",
    "    final_result = dict()\n",
    "    for train_index,test_index in split.split(train_df):\n",
    "        #print(\"##########\")\n",
    "        dict_results = dict()\n",
    "        X_train , X_val = train_data.iloc[train_index],train_data.iloc[test_index]\n",
    "        y_train , y_val = train_labels.iloc[train_index],train_labels.iloc[test_index]\n",
    "        X_train = X_train[feat_cols]\n",
    "        X_val = X_val[feat_cols]\n",
    "        lr.fit(X_train,y_train)\n",
    "        y_predicted_val = lr.predict_proba(X_val)[:,1]\n",
    "        auc = roc_auc_score(y_val, y_predicted_val)\n",
    "        dict_results['accuracy'] = accuracy_score(y_val, lr.predict(X_val))\n",
    "        dict_results['precision'] = precision_score(y_val, lr.predict(X_val),pos_label=\"1\")\n",
    "        dict_results['recall'] = recall_score(y_val, lr.predict(X_val),pos_label=\"1\")\n",
    "        dict_results['f1score'] = f1_score(y_val, lr.predict(X_val),pos_label=\"1\")\n",
    "        dict_results['roc_auc_score'] = auc\n",
    "        tn, fp, fn, tp = confusion_matrix(y_val, lr.predict(X_val)).ravel()\n",
    "        dict_results['TN'] = tn\n",
    "        dict_results['FP'] = fp\n",
    "        dict_results['FN'] = fn\n",
    "        dict_results['TP'] = tp\n",
    "        if i%5==0:\n",
    "            j+=1\n",
    "            i=0\n",
    "\n",
    "        final_result['fold'+str(i)+'_repetition'+str(j)]= dict_results\n",
    "        #print(str(i)+'fold completed')\n",
    "        i+=1\n",
    "    return pd.DataFrame(final_result).T\n",
    "        \n"
   ]
  },
  {
   "cell_type": "code",
   "execution_count": 67,
   "metadata": {},
   "outputs": [],
   "source": [
    "##Logistic Regression\n",
    "from sklearn.linear_model import LogisticRegression\n",
    "lr = LogisticRegression()\n",
    "#lr.fit(X_train,y_train)\n"
   ]
  },
  {
   "cell_type": "code",
   "execution_count": 68,
   "metadata": {},
   "outputs": [],
   "source": [
    "result = repeat_kfold(train_df,numerical+ohe_feat,lr)"
   ]
  },
  {
   "cell_type": "code",
   "execution_count": 69,
   "metadata": {
    "scrolled": true
   },
   "outputs": [
    {
     "data": {
      "text/html": [
       "<div>\n",
       "<style scoped>\n",
       "    .dataframe tbody tr th:only-of-type {\n",
       "        vertical-align: middle;\n",
       "    }\n",
       "\n",
       "    .dataframe tbody tr th {\n",
       "        vertical-align: top;\n",
       "    }\n",
       "\n",
       "    .dataframe thead th {\n",
       "        text-align: right;\n",
       "    }\n",
       "</style>\n",
       "<table border=\"1\" class=\"dataframe\">\n",
       "  <thead>\n",
       "    <tr style=\"text-align: right;\">\n",
       "      <th></th>\n",
       "      <th>fold0_repetition2</th>\n",
       "      <th>fold0_repetition3</th>\n",
       "      <th>fold0_repetition4</th>\n",
       "      <th>fold1_repetition1</th>\n",
       "      <th>fold1_repetition2</th>\n",
       "      <th>fold1_repetition3</th>\n",
       "      <th>fold2_repetition1</th>\n",
       "      <th>fold2_repetition2</th>\n",
       "      <th>fold2_repetition3</th>\n",
       "      <th>fold3_repetition1</th>\n",
       "      <th>fold3_repetition2</th>\n",
       "      <th>fold3_repetition3</th>\n",
       "      <th>fold4_repetition1</th>\n",
       "      <th>fold4_repetition2</th>\n",
       "      <th>fold4_repetition3</th>\n",
       "    </tr>\n",
       "  </thead>\n",
       "  <tbody>\n",
       "    <tr>\n",
       "      <th>FN</th>\n",
       "      <td>9.000000</td>\n",
       "      <td>12.000000</td>\n",
       "      <td>7.000000</td>\n",
       "      <td>6.000000</td>\n",
       "      <td>7.000000</td>\n",
       "      <td>3.000000</td>\n",
       "      <td>9.000000</td>\n",
       "      <td>9.000000</td>\n",
       "      <td>7.000000</td>\n",
       "      <td>12.000000</td>\n",
       "      <td>14.000000</td>\n",
       "      <td>14.000000</td>\n",
       "      <td>7.000000</td>\n",
       "      <td>7.000000</td>\n",
       "      <td>8.000000</td>\n",
       "    </tr>\n",
       "    <tr>\n",
       "      <th>FP</th>\n",
       "      <td>2.000000</td>\n",
       "      <td>10.000000</td>\n",
       "      <td>9.000000</td>\n",
       "      <td>18.000000</td>\n",
       "      <td>5.000000</td>\n",
       "      <td>4.000000</td>\n",
       "      <td>4.000000</td>\n",
       "      <td>7.000000</td>\n",
       "      <td>8.000000</td>\n",
       "      <td>2.000000</td>\n",
       "      <td>7.000000</td>\n",
       "      <td>4.000000</td>\n",
       "      <td>8.000000</td>\n",
       "      <td>7.000000</td>\n",
       "      <td>10.000000</td>\n",
       "    </tr>\n",
       "    <tr>\n",
       "      <th>TN</th>\n",
       "      <td>41.000000</td>\n",
       "      <td>36.000000</td>\n",
       "      <td>35.000000</td>\n",
       "      <td>35.000000</td>\n",
       "      <td>47.000000</td>\n",
       "      <td>51.000000</td>\n",
       "      <td>43.000000</td>\n",
       "      <td>41.000000</td>\n",
       "      <td>45.000000</td>\n",
       "      <td>46.000000</td>\n",
       "      <td>43.000000</td>\n",
       "      <td>38.000000</td>\n",
       "      <td>48.000000</td>\n",
       "      <td>44.000000</td>\n",
       "      <td>43.000000</td>\n",
       "    </tr>\n",
       "    <tr>\n",
       "      <th>TP</th>\n",
       "      <td>58.000000</td>\n",
       "      <td>52.000000</td>\n",
       "      <td>59.000000</td>\n",
       "      <td>52.000000</td>\n",
       "      <td>52.000000</td>\n",
       "      <td>53.000000</td>\n",
       "      <td>55.000000</td>\n",
       "      <td>54.000000</td>\n",
       "      <td>51.000000</td>\n",
       "      <td>50.000000</td>\n",
       "      <td>46.000000</td>\n",
       "      <td>54.000000</td>\n",
       "      <td>47.000000</td>\n",
       "      <td>52.000000</td>\n",
       "      <td>49.000000</td>\n",
       "    </tr>\n",
       "    <tr>\n",
       "      <th>accuracy</th>\n",
       "      <td>0.900000</td>\n",
       "      <td>0.800000</td>\n",
       "      <td>0.854545</td>\n",
       "      <td>0.783784</td>\n",
       "      <td>0.891892</td>\n",
       "      <td>0.936937</td>\n",
       "      <td>0.882883</td>\n",
       "      <td>0.855856</td>\n",
       "      <td>0.864865</td>\n",
       "      <td>0.872727</td>\n",
       "      <td>0.809091</td>\n",
       "      <td>0.836364</td>\n",
       "      <td>0.863636</td>\n",
       "      <td>0.872727</td>\n",
       "      <td>0.836364</td>\n",
       "    </tr>\n",
       "    <tr>\n",
       "      <th>f1score</th>\n",
       "      <td>0.913386</td>\n",
       "      <td>0.825397</td>\n",
       "      <td>0.880597</td>\n",
       "      <td>0.812500</td>\n",
       "      <td>0.896552</td>\n",
       "      <td>0.938053</td>\n",
       "      <td>0.894309</td>\n",
       "      <td>0.870968</td>\n",
       "      <td>0.871795</td>\n",
       "      <td>0.877193</td>\n",
       "      <td>0.814159</td>\n",
       "      <td>0.857143</td>\n",
       "      <td>0.862385</td>\n",
       "      <td>0.881356</td>\n",
       "      <td>0.844828</td>\n",
       "    </tr>\n",
       "    <tr>\n",
       "      <th>precision</th>\n",
       "      <td>0.966667</td>\n",
       "      <td>0.838710</td>\n",
       "      <td>0.867647</td>\n",
       "      <td>0.742857</td>\n",
       "      <td>0.912281</td>\n",
       "      <td>0.929825</td>\n",
       "      <td>0.932203</td>\n",
       "      <td>0.885246</td>\n",
       "      <td>0.864407</td>\n",
       "      <td>0.961538</td>\n",
       "      <td>0.867925</td>\n",
       "      <td>0.931034</td>\n",
       "      <td>0.854545</td>\n",
       "      <td>0.881356</td>\n",
       "      <td>0.830508</td>\n",
       "    </tr>\n",
       "    <tr>\n",
       "      <th>recall</th>\n",
       "      <td>0.865672</td>\n",
       "      <td>0.812500</td>\n",
       "      <td>0.893939</td>\n",
       "      <td>0.896552</td>\n",
       "      <td>0.881356</td>\n",
       "      <td>0.946429</td>\n",
       "      <td>0.859375</td>\n",
       "      <td>0.857143</td>\n",
       "      <td>0.879310</td>\n",
       "      <td>0.806452</td>\n",
       "      <td>0.766667</td>\n",
       "      <td>0.794118</td>\n",
       "      <td>0.870370</td>\n",
       "      <td>0.881356</td>\n",
       "      <td>0.859649</td>\n",
       "    </tr>\n",
       "    <tr>\n",
       "      <th>roc_auc_score</th>\n",
       "      <td>0.970149</td>\n",
       "      <td>0.880095</td>\n",
       "      <td>0.881198</td>\n",
       "      <td>0.852960</td>\n",
       "      <td>0.936441</td>\n",
       "      <td>0.963961</td>\n",
       "      <td>0.930851</td>\n",
       "      <td>0.933532</td>\n",
       "      <td>0.925179</td>\n",
       "      <td>0.963710</td>\n",
       "      <td>0.905000</td>\n",
       "      <td>0.933824</td>\n",
       "      <td>0.928241</td>\n",
       "      <td>0.922233</td>\n",
       "      <td>0.903012</td>\n",
       "    </tr>\n",
       "  </tbody>\n",
       "</table>\n",
       "</div>"
      ],
      "text/plain": [
       "               fold0_repetition2  fold0_repetition3  fold0_repetition4  \\\n",
       "FN                      9.000000          12.000000           7.000000   \n",
       "FP                      2.000000          10.000000           9.000000   \n",
       "TN                     41.000000          36.000000          35.000000   \n",
       "TP                     58.000000          52.000000          59.000000   \n",
       "accuracy                0.900000           0.800000           0.854545   \n",
       "f1score                 0.913386           0.825397           0.880597   \n",
       "precision               0.966667           0.838710           0.867647   \n",
       "recall                  0.865672           0.812500           0.893939   \n",
       "roc_auc_score           0.970149           0.880095           0.881198   \n",
       "\n",
       "               fold1_repetition1  fold1_repetition2  fold1_repetition3  \\\n",
       "FN                      6.000000           7.000000           3.000000   \n",
       "FP                     18.000000           5.000000           4.000000   \n",
       "TN                     35.000000          47.000000          51.000000   \n",
       "TP                     52.000000          52.000000          53.000000   \n",
       "accuracy                0.783784           0.891892           0.936937   \n",
       "f1score                 0.812500           0.896552           0.938053   \n",
       "precision               0.742857           0.912281           0.929825   \n",
       "recall                  0.896552           0.881356           0.946429   \n",
       "roc_auc_score           0.852960           0.936441           0.963961   \n",
       "\n",
       "               fold2_repetition1  fold2_repetition2  fold2_repetition3  \\\n",
       "FN                      9.000000           9.000000           7.000000   \n",
       "FP                      4.000000           7.000000           8.000000   \n",
       "TN                     43.000000          41.000000          45.000000   \n",
       "TP                     55.000000          54.000000          51.000000   \n",
       "accuracy                0.882883           0.855856           0.864865   \n",
       "f1score                 0.894309           0.870968           0.871795   \n",
       "precision               0.932203           0.885246           0.864407   \n",
       "recall                  0.859375           0.857143           0.879310   \n",
       "roc_auc_score           0.930851           0.933532           0.925179   \n",
       "\n",
       "               fold3_repetition1  fold3_repetition2  fold3_repetition3  \\\n",
       "FN                     12.000000          14.000000          14.000000   \n",
       "FP                      2.000000           7.000000           4.000000   \n",
       "TN                     46.000000          43.000000          38.000000   \n",
       "TP                     50.000000          46.000000          54.000000   \n",
       "accuracy                0.872727           0.809091           0.836364   \n",
       "f1score                 0.877193           0.814159           0.857143   \n",
       "precision               0.961538           0.867925           0.931034   \n",
       "recall                  0.806452           0.766667           0.794118   \n",
       "roc_auc_score           0.963710           0.905000           0.933824   \n",
       "\n",
       "               fold4_repetition1  fold4_repetition2  fold4_repetition3  \n",
       "FN                      7.000000           7.000000           8.000000  \n",
       "FP                      8.000000           7.000000          10.000000  \n",
       "TN                     48.000000          44.000000          43.000000  \n",
       "TP                     47.000000          52.000000          49.000000  \n",
       "accuracy                0.863636           0.872727           0.836364  \n",
       "f1score                 0.862385           0.881356           0.844828  \n",
       "precision               0.854545           0.881356           0.830508  \n",
       "recall                  0.870370           0.881356           0.859649  \n",
       "roc_auc_score           0.928241           0.922233           0.903012  "
      ]
     },
     "execution_count": 69,
     "metadata": {},
     "output_type": "execute_result"
    }
   ],
   "source": [
    "result.T"
   ]
  },
  {
   "cell_type": "code",
   "execution_count": 70,
   "metadata": {},
   "outputs": [
    {
     "name": "stdout",
     "output_type": "stream",
     "text": [
      "mean accuracy >> 0.8574447174447174\n",
      "mean precision >> 0.884449947598636\n",
      "mean recall >> 0.8580591211653511\n",
      "mean f1score >> 0.8693746677694869\n",
      "mean roc_auc_score >> 0.9220257309243639\n"
     ]
    }
   ],
   "source": [
    "print(\"mean accuracy >>\",result.mean()['accuracy'])\n",
    "print(\"mean precision >>\",result.mean()['precision'])\n",
    "print(\"mean recall >>\",result.mean()['recall'])\n",
    "print(\"mean f1score >>\",result.mean()['f1score'])\n",
    "print(\"mean roc_auc_score >>\",result.mean()['roc_auc_score'])"
   ]
  },
  {
   "cell_type": "code",
   "execution_count": 71,
   "metadata": {},
   "outputs": [],
   "source": [
    "##Linear disriminant analysis\n",
    "from sklearn.discriminant_analysis import LinearDiscriminantAnalysis as LDA\n",
    "train_df_scaled = train_df.copy()\n",
    "test_df_scaled = test_df.copy()\n",
    "sc = StandardScaler()  \n",
    "train_df_scaled[numerical] = sc.fit_transform(train_df_scaled[numerical])  \n",
    "test_df_scaled[numerical] = sc.transform(test_df_scaled[numerical]) \n",
    "from sklearn.model_selection import train_test_split\n",
    "\n",
    "X_train, X_test, y_train, y_test = train_test_split(train_df_scaled[numerical+ohe_feat], train_labels, test_size=0.2, random_state=0)  "
   ]
  },
  {
   "cell_type": "code",
   "execution_count": 72,
   "metadata": {},
   "outputs": [],
   "source": [
    "##saving data\n",
    "##saving data\n",
    "train_df_scaled.to_csv('trn_scaled_label_enc_ohe_enc.csv', index=False)\n",
    "test_df_scaled.to_csv('tst_scaled_label_enc_ohe_enc.csv', index=False)\n",
    "\n",
    "#np.save('y_trn.npy', train_labels.values)\n"
   ]
  },
  {
   "cell_type": "code",
   "execution_count": 73,
   "metadata": {},
   "outputs": [],
   "source": [
    "lda = LDA(n_components=2)  \n",
    "X_train = lda.fit_transform(X_train, y_train)  \n",
    "X_test = lda.transform(X_test)  "
   ]
  },
  {
   "cell_type": "code",
   "execution_count": 74,
   "metadata": {},
   "outputs": [],
   "source": [
    "clf = LogisticRegression(random_state = 0)\n",
    "clf.fit(X_train, y_train)\n",
    " \n",
    "\n",
    "y_pred = clf.predict(X_test)"
   ]
  },
  {
   "cell_type": "code",
   "execution_count": 75,
   "metadata": {},
   "outputs": [
    {
     "name": "stdout",
     "output_type": "stream",
     "text": [
      "accuracy 0.8468468468468469\n",
      "precision 0.9491525423728814\n",
      "recall 0.8\n",
      "f1_score 0.8682170542635659\n"
     ]
    }
   ],
   "source": [
    "print('accuracy',accuracy_score(y_test, y_pred))\n",
    "print('precision',precision_score(y_test, y_pred,pos_label=\"1\"))\n",
    "print('recall',recall_score(y_test, y_pred,pos_label=\"1\"))\n",
    "print('f1_score',f1_score(y_test, y_pred,pos_label=\"1\"))"
   ]
  },
  {
   "cell_type": "markdown",
   "metadata": {},
   "source": [
    "Since we are dealing with balanced target class, LDA is able to perform well and approximates the bayes classifier decision boundary."
   ]
  },
  {
   "cell_type": "code",
   "execution_count": 76,
   "metadata": {},
   "outputs": [],
   "source": [
    "##RandomForest Classifier\n",
    "from sklearn.ensemble import RandomForestClassifier\n",
    "rf_clf = RandomForestClassifier(random_state=43)\n",
    "#result_rf = repeat_kfold(train_df,rf_clf)"
   ]
  },
  {
   "cell_type": "code",
   "execution_count": 77,
   "metadata": {},
   "outputs": [],
   "source": [
    "n_estimators = [int(x) for x in np.linspace(start = 200, stop = 2000, num = 10)]# Number of trees in random forest\n",
    "max_features = ['auto', 'sqrt']# Number of features to consider at every split\n",
    "max_depth = [int(x) for x in np.linspace(10, 110, num = 11)]# Maximum number of levels in tree\n",
    "max_depth.append(None)\n",
    "min_samples_split = [2, 5, 10]# Minimum number of samples required to split a node\n",
    "min_samples_leaf = [1, 2, 4]# Minimum number of samples required at each leaf node\n",
    "bootstrap = [True, False]# Method of selecting samples for training each tree\n",
    "# Create the random grid\n",
    "rf_param_grid = {'n_estimators': n_estimators,\n",
    "               'max_features': max_features,\n",
    "               'max_depth': max_depth,\n",
    "               'min_samples_split': min_samples_split,\n",
    "               'min_samples_leaf': min_samples_leaf,\n",
    "               'bootstrap': bootstrap}"
   ]
  },
  {
   "cell_type": "code",
   "execution_count": 78,
   "metadata": {},
   "outputs": [
    {
     "name": "stdout",
     "output_type": "stream",
     "text": [
      "Fitting 3 folds for each of 100 candidates, totalling 300 fits\n"
     ]
    },
    {
     "name": "stderr",
     "output_type": "stream",
     "text": [
      "[Parallel(n_jobs=-1)]: Using backend LokyBackend with 16 concurrent workers.\n",
      "[Parallel(n_jobs=-1)]: Done   9 tasks      | elapsed:    5.8s\n",
      "[Parallel(n_jobs=-1)]: Done 130 tasks      | elapsed:   25.1s\n",
      "[Parallel(n_jobs=-1)]: Done 300 out of 300 | elapsed:   55.0s finished\n"
     ]
    },
    {
     "data": {
      "text/plain": [
       "RandomizedSearchCV(cv=3, error_score='raise-deprecating',\n",
       "          estimator=RandomForestClassifier(bootstrap=True, class_weight=None, criterion='gini',\n",
       "            max_depth=None, max_features='auto', max_leaf_nodes=None,\n",
       "            min_impurity_decrease=0.0, min_impurity_split=None,\n",
       "            min_samples_leaf=1, min_samples_split=2,\n",
       "            min_weight_fraction_leaf=0.0, n_estimators='warn', n_jobs=None,\n",
       "            oob_score=False, random_state=43, verbose=0, warm_start=False),\n",
       "          fit_params=None, iid='warn', n_iter=100, n_jobs=-1,\n",
       "          param_distributions={'n_estimators': [200, 400, 600, 800, 1000, 1200, 1400, 1600, 1800, 2000], 'max_features': ['auto', 'sqrt'], 'max_depth': [10, 20, 30, 40, 50, 60, 70, 80, 90, 100, 110, None], 'min_samples_split': [2, 5, 10], 'min_samples_leaf': [1, 2, 4], 'bootstrap': [True, False]},\n",
       "          pre_dispatch='2*n_jobs', random_state=42, refit=True,\n",
       "          return_train_score='warn', scoring='roc_auc', verbose=2)"
      ]
     },
     "execution_count": 78,
     "metadata": {},
     "output_type": "execute_result"
    }
   ],
   "source": [
    "clf_random = RandomizedSearchCV(estimator = rf_clf,scoring='roc_auc', param_distributions = rf_param_grid, n_iter = 100, cv = 3, verbose=2, random_state=42, n_jobs = -1)\n",
    "    \n",
    "clf_random.fit(train_df[numerical+ohe_feat], train_labels)"
   ]
  },
  {
   "cell_type": "code",
   "execution_count": 79,
   "metadata": {},
   "outputs": [
    {
     "data": {
      "text/plain": [
       "{'bootstrap': True,\n",
       " 'max_depth': 80,\n",
       " 'max_features': 'auto',\n",
       " 'min_samples_leaf': 1,\n",
       " 'min_samples_split': 5,\n",
       " 'n_estimators': 600}"
      ]
     },
     "execution_count": 79,
     "metadata": {},
     "output_type": "execute_result"
    }
   ],
   "source": [
    "clf_random.best_params_"
   ]
  },
  {
   "cell_type": "code",
   "execution_count": 80,
   "metadata": {},
   "outputs": [],
   "source": [
    "result_rf = repeat_kfold(train_df,numerical+ohe_feat,clf_random.best_estimator_)"
   ]
  },
  {
   "cell_type": "code",
   "execution_count": 81,
   "metadata": {},
   "outputs": [
    {
     "name": "stdout",
     "output_type": "stream",
     "text": [
      "mean accuracy >> 0.8659022659022659\n",
      "mean precision >> 0.883079819082217\n",
      "mean recall >> 0.8764090885530088\n",
      "mean f1score >> 0.8782733325932504\n",
      "mean roc_auc_score >> 0.9361335877218927\n"
     ]
    }
   ],
   "source": [
    "print(\"mean accuracy >>\",result_rf.mean()['accuracy'])\n",
    "print(\"mean precision >>\",result_rf.mean()['precision'])\n",
    "print(\"mean recall >>\",result_rf.mean()['recall'])\n",
    "print(\"mean f1score >>\",result_rf.mean()['f1score'])\n",
    "print(\"mean roc_auc_score >>\",result_rf.mean()['roc_auc_score'])"
   ]
  },
  {
   "cell_type": "code",
   "execution_count": 82,
   "metadata": {},
   "outputs": [
    {
     "data": {
      "text/plain": [
       "<matplotlib.axes._subplots.AxesSubplot at 0x7f0204377208>"
      ]
     },
     "execution_count": 82,
     "metadata": {},
     "output_type": "execute_result"
    },
    {
     "data": {
      "image/png": "[encoded data removed]",
      "text/plain": [
       "<Figure size 1080x576 with 1 Axes>"
      ]
     },
     "metadata": {},
     "output_type": "display_data"
    }
   ],
   "source": [
    "feat_imp = pd.DataFrame(clf_random.best_estimator_.feature_importances_)\n",
    "feat_imp.columns = ['Feature_importance']\n",
    "feat_imp = feat_imp.assign(Column_name=numerical+ohe_feat)\n",
    "feat_imp.sort_values(by=['Feature_importance'],ascending=False).set_index('Column_name').head(30).plot(kind='barh',figsize=(15,8))"
   ]
  },
  {
   "cell_type": "markdown",
   "metadata": {},
   "source": [
    "The importance of feature I and J with low cardinalty is evident from the contingency plots of variable classes with the target value plotted above and it has been considered important in tree building process for splits whereas high cardinal features have less importance"
   ]
  },
  {
   "cell_type": "code",
   "execution_count": 83,
   "metadata": {},
   "outputs": [],
   "source": [
    "##XGBOOST\n",
    "from xgboost import XGBClassifier\n",
    "xgb_model = XGBClassifier()\n",
    "param_dist = {\"max_depth\": [10,30,50],\n",
    "              \"min_child_weight\" : [1,3,6],\n",
    "              \"n_estimators\": [200],\n",
    "              \"learning_rate\": [0.05, 0.1,0.16],}\n",
    "grid_search = GridSearchCV(xgb_model, param_grid=param_dist, cv = 3, \n",
    "                                   verbose=10, n_jobs=-1)\n"
   ]
  },
  {
   "cell_type": "code",
   "execution_count": 84,
   "metadata": {},
   "outputs": [
    {
     "name": "stdout",
     "output_type": "stream",
     "text": [
      "Fitting 3 folds for each of 27 candidates, totalling 81 fits\n"
     ]
    },
    {
     "name": "stderr",
     "output_type": "stream",
     "text": [
      "[Parallel(n_jobs=-1)]: Using backend LokyBackend with 16 concurrent workers.\n",
      "[Parallel(n_jobs=-1)]: Done   9 tasks      | elapsed:    0.5s\n",
      "[Parallel(n_jobs=-1)]: Done  18 tasks      | elapsed:    0.6s\n",
      "[Parallel(n_jobs=-1)]: Done  29 tasks      | elapsed:    0.8s\n",
      "[Parallel(n_jobs=-1)]: Done  40 tasks      | elapsed:    1.1s\n",
      "[Parallel(n_jobs=-1)]: Done  59 out of  81 | elapsed:    1.4s remaining:    0.5s\n",
      "[Parallel(n_jobs=-1)]: Done  68 out of  81 | elapsed:    1.5s remaining:    0.3s\n",
      "[Parallel(n_jobs=-1)]: Done  77 out of  81 | elapsed:    1.6s remaining:    0.1s\n",
      "[Parallel(n_jobs=-1)]: Done  81 out of  81 | elapsed:    1.7s finished\n"
     ]
    },
    {
     "data": {
      "text/plain": [
       "GridSearchCV(cv=3, error_score='raise-deprecating',\n",
       "       estimator=XGBClassifier(base_score=0.5, booster='gbtree', colsample_bylevel=1,\n",
       "       colsample_bytree=1, gamma=0, learning_rate=0.1, max_delta_step=0,\n",
       "       max_depth=3, min_child_weight=1, missing=None, n_estimators=100,\n",
       "       n_jobs=1, nthread=None, objective='binary:logistic', random_state=0,\n",
       "       reg_alpha=0, reg_lambda=1, scale_pos_weight=1, seed=None,\n",
       "       silent=True, subsample=1),\n",
       "       fit_params=None, iid='warn', n_jobs=-1,\n",
       "       param_grid={'max_depth': [10, 30, 50], 'min_child_weight': [1, 3, 6], 'n_estimators': [200], 'learning_rate': [0.05, 0.1, 0.16]},\n",
       "       pre_dispatch='2*n_jobs', refit=True, return_train_score='warn',\n",
       "       scoring=None, verbose=10)"
      ]
     },
     "execution_count": 84,
     "metadata": {},
     "output_type": "execute_result"
    }
   ],
   "source": [
    "grid_search.fit(train_df[numerical+ohe_feat],train_labels)"
   ]
  },
  {
   "cell_type": "code",
   "execution_count": 85,
   "metadata": {},
   "outputs": [
    {
     "data": {
      "text/plain": [
       "XGBClassifier(base_score=0.5, booster='gbtree', colsample_bylevel=1,\n",
       "       colsample_bytree=1, gamma=0, learning_rate=0.16, max_delta_step=0,\n",
       "       max_depth=10, min_child_weight=3, missing=None, n_estimators=200,\n",
       "       n_jobs=1, nthread=None, objective='binary:logistic', random_state=0,\n",
       "       reg_alpha=0, reg_lambda=1, scale_pos_weight=1, seed=None,\n",
       "       silent=True, subsample=1)"
      ]
     },
     "execution_count": 85,
     "metadata": {},
     "output_type": "execute_result"
    }
   ],
   "source": [
    "grid_search.best_estimator_"
   ]
  },
  {
   "cell_type": "code",
   "execution_count": 86,
   "metadata": {},
   "outputs": [
    {
     "data": {
      "text/plain": [
       "{'learning_rate': 0.16,\n",
       " 'max_depth': 10,\n",
       " 'min_child_weight': 3,\n",
       " 'n_estimators': 200}"
      ]
     },
     "execution_count": 86,
     "metadata": {},
     "output_type": "execute_result"
    }
   ],
   "source": [
    "grid_search.best_params_"
   ]
  },
  {
   "cell_type": "code",
   "execution_count": 87,
   "metadata": {},
   "outputs": [],
   "source": [
    "final_xgb = XGBClassifier(max_depth=10, min_child_weight=3,  n_estimators=200,\\\n",
    "                          n_jobs=-1 , verbose=1,learning_rate=0.16)"
   ]
  },
  {
   "cell_type": "code",
   "execution_count": 88,
   "metadata": {},
   "outputs": [],
   "source": [
    "result_xgb = repeat_kfold(train_df,numerical+ohe_feat,final_xgb)"
   ]
  },
  {
   "cell_type": "code",
   "execution_count": 89,
   "metadata": {},
   "outputs": [
    {
     "data": {
      "text/html": [
       "<div>\n",
       "<style scoped>\n",
       "    .dataframe tbody tr th:only-of-type {\n",
       "        vertical-align: middle;\n",
       "    }\n",
       "\n",
       "    .dataframe tbody tr th {\n",
       "        vertical-align: top;\n",
       "    }\n",
       "\n",
       "    .dataframe thead th {\n",
       "        text-align: right;\n",
       "    }\n",
       "</style>\n",
       "<table border=\"1\" class=\"dataframe\">\n",
       "  <thead>\n",
       "    <tr style=\"text-align: right;\">\n",
       "      <th></th>\n",
       "      <th>fold0_repetition2</th>\n",
       "      <th>fold0_repetition3</th>\n",
       "      <th>fold0_repetition4</th>\n",
       "      <th>fold1_repetition1</th>\n",
       "      <th>fold1_repetition2</th>\n",
       "      <th>fold1_repetition3</th>\n",
       "      <th>fold2_repetition1</th>\n",
       "      <th>fold2_repetition2</th>\n",
       "      <th>fold2_repetition3</th>\n",
       "      <th>fold3_repetition1</th>\n",
       "      <th>fold3_repetition2</th>\n",
       "      <th>fold3_repetition3</th>\n",
       "      <th>fold4_repetition1</th>\n",
       "      <th>fold4_repetition2</th>\n",
       "      <th>fold4_repetition3</th>\n",
       "    </tr>\n",
       "  </thead>\n",
       "  <tbody>\n",
       "    <tr>\n",
       "      <th>FN</th>\n",
       "      <td>10.000000</td>\n",
       "      <td>6.000000</td>\n",
       "      <td>7.000000</td>\n",
       "      <td>7.000000</td>\n",
       "      <td>6.000000</td>\n",
       "      <td>5.000000</td>\n",
       "      <td>6.000000</td>\n",
       "      <td>6.000000</td>\n",
       "      <td>5.000000</td>\n",
       "      <td>8.000000</td>\n",
       "      <td>11.000000</td>\n",
       "      <td>12.000000</td>\n",
       "      <td>5.000000</td>\n",
       "      <td>7.000000</td>\n",
       "      <td>7.000000</td>\n",
       "    </tr>\n",
       "    <tr>\n",
       "      <th>FP</th>\n",
       "      <td>2.000000</td>\n",
       "      <td>10.000000</td>\n",
       "      <td>6.000000</td>\n",
       "      <td>13.000000</td>\n",
       "      <td>5.000000</td>\n",
       "      <td>8.000000</td>\n",
       "      <td>12.000000</td>\n",
       "      <td>4.000000</td>\n",
       "      <td>9.000000</td>\n",
       "      <td>3.000000</td>\n",
       "      <td>5.000000</td>\n",
       "      <td>6.000000</td>\n",
       "      <td>8.000000</td>\n",
       "      <td>6.000000</td>\n",
       "      <td>10.000000</td>\n",
       "    </tr>\n",
       "    <tr>\n",
       "      <th>TN</th>\n",
       "      <td>41.000000</td>\n",
       "      <td>36.000000</td>\n",
       "      <td>38.000000</td>\n",
       "      <td>40.000000</td>\n",
       "      <td>47.000000</td>\n",
       "      <td>47.000000</td>\n",
       "      <td>35.000000</td>\n",
       "      <td>44.000000</td>\n",
       "      <td>44.000000</td>\n",
       "      <td>45.000000</td>\n",
       "      <td>45.000000</td>\n",
       "      <td>36.000000</td>\n",
       "      <td>48.000000</td>\n",
       "      <td>45.000000</td>\n",
       "      <td>43.000000</td>\n",
       "    </tr>\n",
       "    <tr>\n",
       "      <th>TP</th>\n",
       "      <td>57.000000</td>\n",
       "      <td>58.000000</td>\n",
       "      <td>59.000000</td>\n",
       "      <td>51.000000</td>\n",
       "      <td>53.000000</td>\n",
       "      <td>51.000000</td>\n",
       "      <td>58.000000</td>\n",
       "      <td>57.000000</td>\n",
       "      <td>53.000000</td>\n",
       "      <td>54.000000</td>\n",
       "      <td>49.000000</td>\n",
       "      <td>56.000000</td>\n",
       "      <td>49.000000</td>\n",
       "      <td>52.000000</td>\n",
       "      <td>50.000000</td>\n",
       "    </tr>\n",
       "    <tr>\n",
       "      <th>accuracy</th>\n",
       "      <td>0.890909</td>\n",
       "      <td>0.854545</td>\n",
       "      <td>0.881818</td>\n",
       "      <td>0.819820</td>\n",
       "      <td>0.900901</td>\n",
       "      <td>0.882883</td>\n",
       "      <td>0.837838</td>\n",
       "      <td>0.909910</td>\n",
       "      <td>0.873874</td>\n",
       "      <td>0.900000</td>\n",
       "      <td>0.854545</td>\n",
       "      <td>0.836364</td>\n",
       "      <td>0.881818</td>\n",
       "      <td>0.881818</td>\n",
       "      <td>0.845455</td>\n",
       "    </tr>\n",
       "    <tr>\n",
       "      <th>f1score</th>\n",
       "      <td>0.904762</td>\n",
       "      <td>0.878788</td>\n",
       "      <td>0.900763</td>\n",
       "      <td>0.836066</td>\n",
       "      <td>0.905983</td>\n",
       "      <td>0.886957</td>\n",
       "      <td>0.865672</td>\n",
       "      <td>0.919355</td>\n",
       "      <td>0.883333</td>\n",
       "      <td>0.907563</td>\n",
       "      <td>0.859649</td>\n",
       "      <td>0.861538</td>\n",
       "      <td>0.882883</td>\n",
       "      <td>0.888889</td>\n",
       "      <td>0.854701</td>\n",
       "    </tr>\n",
       "    <tr>\n",
       "      <th>precision</th>\n",
       "      <td>0.966102</td>\n",
       "      <td>0.852941</td>\n",
       "      <td>0.907692</td>\n",
       "      <td>0.796875</td>\n",
       "      <td>0.913793</td>\n",
       "      <td>0.864407</td>\n",
       "      <td>0.828571</td>\n",
       "      <td>0.934426</td>\n",
       "      <td>0.854839</td>\n",
       "      <td>0.947368</td>\n",
       "      <td>0.907407</td>\n",
       "      <td>0.903226</td>\n",
       "      <td>0.859649</td>\n",
       "      <td>0.896552</td>\n",
       "      <td>0.833333</td>\n",
       "    </tr>\n",
       "    <tr>\n",
       "      <th>recall</th>\n",
       "      <td>0.850746</td>\n",
       "      <td>0.906250</td>\n",
       "      <td>0.893939</td>\n",
       "      <td>0.879310</td>\n",
       "      <td>0.898305</td>\n",
       "      <td>0.910714</td>\n",
       "      <td>0.906250</td>\n",
       "      <td>0.904762</td>\n",
       "      <td>0.913793</td>\n",
       "      <td>0.870968</td>\n",
       "      <td>0.816667</td>\n",
       "      <td>0.823529</td>\n",
       "      <td>0.907407</td>\n",
       "      <td>0.881356</td>\n",
       "      <td>0.877193</td>\n",
       "    </tr>\n",
       "    <tr>\n",
       "      <th>roc_auc_score</th>\n",
       "      <td>0.962513</td>\n",
       "      <td>0.891304</td>\n",
       "      <td>0.907713</td>\n",
       "      <td>0.885491</td>\n",
       "      <td>0.947197</td>\n",
       "      <td>0.950974</td>\n",
       "      <td>0.941157</td>\n",
       "      <td>0.957011</td>\n",
       "      <td>0.936239</td>\n",
       "      <td>0.950941</td>\n",
       "      <td>0.919333</td>\n",
       "      <td>0.937325</td>\n",
       "      <td>0.928241</td>\n",
       "      <td>0.941841</td>\n",
       "      <td>0.926514</td>\n",
       "    </tr>\n",
       "  </tbody>\n",
       "</table>\n",
       "</div>"
      ],
      "text/plain": [
       "               fold0_repetition2  fold0_repetition3  fold0_repetition4  \\\n",
       "FN                     10.000000           6.000000           7.000000   \n",
       "FP                      2.000000          10.000000           6.000000   \n",
       "TN                     41.000000          36.000000          38.000000   \n",
       "TP                     57.000000          58.000000          59.000000   \n",
       "accuracy                0.890909           0.854545           0.881818   \n",
       "f1score                 0.904762           0.878788           0.900763   \n",
       "precision               0.966102           0.852941           0.907692   \n",
       "recall                  0.850746           0.906250           0.893939   \n",
       "roc_auc_score           0.962513           0.891304           0.907713   \n",
       "\n",
       "               fold1_repetition1  fold1_repetition2  fold1_repetition3  \\\n",
       "FN                      7.000000           6.000000           5.000000   \n",
       "FP                     13.000000           5.000000           8.000000   \n",
       "TN                     40.000000          47.000000          47.000000   \n",
       "TP                     51.000000          53.000000          51.000000   \n",
       "accuracy                0.819820           0.900901           0.882883   \n",
       "f1score                 0.836066           0.905983           0.886957   \n",
       "precision               0.796875           0.913793           0.864407   \n",
       "recall                  0.879310           0.898305           0.910714   \n",
       "roc_auc_score           0.885491           0.947197           0.950974   \n",
       "\n",
       "               fold2_repetition1  fold2_repetition2  fold2_repetition3  \\\n",
       "FN                      6.000000           6.000000           5.000000   \n",
       "FP                     12.000000           4.000000           9.000000   \n",
       "TN                     35.000000          44.000000          44.000000   \n",
       "TP                     58.000000          57.000000          53.000000   \n",
       "accuracy                0.837838           0.909910           0.873874   \n",
       "f1score                 0.865672           0.919355           0.883333   \n",
       "precision               0.828571           0.934426           0.854839   \n",
       "recall                  0.906250           0.904762           0.913793   \n",
       "roc_auc_score           0.941157           0.957011           0.936239   \n",
       "\n",
       "               fold3_repetition1  fold3_repetition2  fold3_repetition3  \\\n",
       "FN                      8.000000          11.000000          12.000000   \n",
       "FP                      3.000000           5.000000           6.000000   \n",
       "TN                     45.000000          45.000000          36.000000   \n",
       "TP                     54.000000          49.000000          56.000000   \n",
       "accuracy                0.900000           0.854545           0.836364   \n",
       "f1score                 0.907563           0.859649           0.861538   \n",
       "precision               0.947368           0.907407           0.903226   \n",
       "recall                  0.870968           0.816667           0.823529   \n",
       "roc_auc_score           0.950941           0.919333           0.937325   \n",
       "\n",
       "               fold4_repetition1  fold4_repetition2  fold4_repetition3  \n",
       "FN                      5.000000           7.000000           7.000000  \n",
       "FP                      8.000000           6.000000          10.000000  \n",
       "TN                     48.000000          45.000000          43.000000  \n",
       "TP                     49.000000          52.000000          50.000000  \n",
       "accuracy                0.881818           0.881818           0.845455  \n",
       "f1score                 0.882883           0.888889           0.854701  \n",
       "precision               0.859649           0.896552           0.833333  \n",
       "recall                  0.907407           0.881356           0.877193  \n",
       "roc_auc_score           0.928241           0.941841           0.926514  "
      ]
     },
     "execution_count": 89,
     "metadata": {},
     "output_type": "execute_result"
    }
   ],
   "source": [
    "result_xgb.T"
   ]
  },
  {
   "cell_type": "code",
   "execution_count": 90,
   "metadata": {},
   "outputs": [
    {
     "name": "stdout",
     "output_type": "stream",
     "text": [
      "mean accuracy >> 0.8701665301665302\n",
      "mean precision >> 0.8844788163422947\n",
      "mean recall >> 0.8827460352351812\n",
      "mean f1score >> 0.882460079578879\n",
      "mean roc_auc_score >> 0.9322530204921271\n"
     ]
    }
   ],
   "source": [
    "print(\"mean accuracy >>\",result_xgb.mean()['accuracy'])\n",
    "print(\"mean precision >>\",result_xgb.mean()['precision'])\n",
    "print(\"mean recall >>\",result_xgb.mean()['recall'])\n",
    "print(\"mean f1score >>\",result_xgb.mean()['f1score'])\n",
    "print(\"mean roc_auc_score >>\",result_xgb.mean()['roc_auc_score'])"
   ]
  },
  {
   "cell_type": "code",
   "execution_count": 91,
   "metadata": {},
   "outputs": [
    {
     "data": {
      "text/plain": [
       "<matplotlib.axes._subplots.AxesSubplot at 0x7f02042c5c50>"
      ]
     },
     "execution_count": 91,
     "metadata": {},
     "output_type": "execute_result"
    },
    {
     "data": {
      "image/png": "[encoded data removed]",
      "text/plain": [
       "<Figure size 1080x576 with 1 Axes>"
      ]
     },
     "metadata": {},
     "output_type": "display_data"
    }
   ],
   "source": [
    "feat_imp = pd.DataFrame(final_xgb.feature_importances_)\n",
    "feat_imp.columns = ['Feature_importance']\n",
    "feat_imp = feat_imp.assign(Column_name=numerical+ohe_feat)\n",
    "feat_imp.sort_values(by=['Feature_importance'],ascending=False).set_index('Column_name').head(30).plot(kind='barh',figsize=(15,8))"
   ]
  },
  {
   "cell_type": "code",
   "execution_count": 92,
   "metadata": {},
   "outputs": [
    {
     "name": "stdout",
     "output_type": "stream",
     "text": [
      "Fitting 3 folds for each of 27 candidates, totalling 81 fits\n"
     ]
    },
    {
     "name": "stderr",
     "output_type": "stream",
     "text": [
      "[Parallel(n_jobs=-1)]: Using backend LokyBackend with 16 concurrent workers.\n",
      "[Parallel(n_jobs=-1)]: Done  40 tasks      | elapsed:    0.9s\n",
      "[Parallel(n_jobs=-1)]: Done  67 out of  81 | elapsed:    1.4s remaining:    0.3s\n",
      "[Parallel(n_jobs=-1)]: Done  81 out of  81 | elapsed:    1.6s finished\n"
     ]
    },
    {
     "data": {
      "text/plain": [
       "GridSearchCV(cv=3, error_score='raise-deprecating',\n",
       "       estimator=LGBMClassifier(boosting_type='gbdt', class_weight=None, colsample_bytree=1.0,\n",
       "        learning_rate=0.1, max_depth=-1, min_child_samples=20,\n",
       "        min_child_weight=0.001, min_split_gain=0.0, n_estimators=100,\n",
       "        n_jobs=-1, num_leaves=31, objective=None, random_state=None,\n",
       "        reg_alpha=0.0, reg_lambda=0.0, silent=False, subsample=1.0,\n",
       "        subsample_for_bin=200000, subsample_freq=1),\n",
       "       fit_params=None, iid='warn', n_jobs=-1,\n",
       "       param_grid={'max_depth': [25, 50, 75], 'learning_rate': [0.01, 0.05, 0.1], 'num_leaves': [300, 900, 1200], 'n_estimators': [200]},\n",
       "       pre_dispatch='2*n_jobs', refit=True, return_train_score='warn',\n",
       "       scoring='roc_auc', verbose=5)"
      ]
     },
     "execution_count": 92,
     "metadata": {},
     "output_type": "execute_result"
    }
   ],
   "source": [
    "##Lightgbm\n",
    "import lightgbm as lgb\n",
    "\n",
    "lg = lgb.LGBMClassifier(silent=False)\n",
    "param_dist = {\"max_depth\": [25,50, 75],\n",
    "              \"learning_rate\" : [0.01,0.05,0.1],\n",
    "              \"num_leaves\": [300,900,1200],\n",
    "              \"n_estimators\": [200]\n",
    "             }\n",
    "grid_search = GridSearchCV(lg, n_jobs=-1, param_grid=param_dist, cv = 3, scoring=\"roc_auc\", verbose=5)\n",
    "grid_search.fit(train_df[numerical+categorical],train_labels)\n"
   ]
  },
  {
   "cell_type": "code",
   "execution_count": 93,
   "metadata": {},
   "outputs": [],
   "source": [
    "lgbm_params = grid_search.best_params_"
   ]
  },
  {
   "cell_type": "code",
   "execution_count": 94,
   "metadata": {},
   "outputs": [
    {
     "data": {
      "text/plain": [
       "{'learning_rate': 0.05,\n",
       " 'max_depth': 25,\n",
       " 'n_estimators': 200,\n",
       " 'num_leaves': 300}"
      ]
     },
     "execution_count": 94,
     "metadata": {},
     "output_type": "execute_result"
    }
   ],
   "source": [
    "lgbm_params"
   ]
  },
  {
   "cell_type": "code",
   "execution_count": 95,
   "metadata": {},
   "outputs": [],
   "source": [
    "###lgbm handles categorical values as-is if they are encoded as categorical type in pandas df\n",
    "final_lgbm = lgb.LGBMClassifier(**lgbm_params)\n",
    "result_lgbm = repeat_kfold(train_df,numerical+cat_label_feat,final_lgbm)"
   ]
  },
  {
   "cell_type": "code",
   "execution_count": 96,
   "metadata": {},
   "outputs": [
    {
     "data": {
      "text/html": [
       "<div>\n",
       "<style scoped>\n",
       "    .dataframe tbody tr th:only-of-type {\n",
       "        vertical-align: middle;\n",
       "    }\n",
       "\n",
       "    .dataframe tbody tr th {\n",
       "        vertical-align: top;\n",
       "    }\n",
       "\n",
       "    .dataframe thead th {\n",
       "        text-align: right;\n",
       "    }\n",
       "</style>\n",
       "<table border=\"1\" class=\"dataframe\">\n",
       "  <thead>\n",
       "    <tr style=\"text-align: right;\">\n",
       "      <th></th>\n",
       "      <th>fold0_repetition2</th>\n",
       "      <th>fold0_repetition3</th>\n",
       "      <th>fold0_repetition4</th>\n",
       "      <th>fold1_repetition1</th>\n",
       "      <th>fold1_repetition2</th>\n",
       "      <th>fold1_repetition3</th>\n",
       "      <th>fold2_repetition1</th>\n",
       "      <th>fold2_repetition2</th>\n",
       "      <th>fold2_repetition3</th>\n",
       "      <th>fold3_repetition1</th>\n",
       "      <th>fold3_repetition2</th>\n",
       "      <th>fold3_repetition3</th>\n",
       "      <th>fold4_repetition1</th>\n",
       "      <th>fold4_repetition2</th>\n",
       "      <th>fold4_repetition3</th>\n",
       "    </tr>\n",
       "  </thead>\n",
       "  <tbody>\n",
       "    <tr>\n",
       "      <th>FN</th>\n",
       "      <td>9.000000</td>\n",
       "      <td>6.000000</td>\n",
       "      <td>8.000000</td>\n",
       "      <td>9.000000</td>\n",
       "      <td>7.000000</td>\n",
       "      <td>3.000000</td>\n",
       "      <td>5.000000</td>\n",
       "      <td>8.000000</td>\n",
       "      <td>4.000000</td>\n",
       "      <td>10.000000</td>\n",
       "      <td>9.000000</td>\n",
       "      <td>14.000000</td>\n",
       "      <td>2.000000</td>\n",
       "      <td>6.000000</td>\n",
       "      <td>6.000000</td>\n",
       "    </tr>\n",
       "    <tr>\n",
       "      <th>FP</th>\n",
       "      <td>3.000000</td>\n",
       "      <td>12.000000</td>\n",
       "      <td>9.000000</td>\n",
       "      <td>15.000000</td>\n",
       "      <td>5.000000</td>\n",
       "      <td>9.000000</td>\n",
       "      <td>9.000000</td>\n",
       "      <td>7.000000</td>\n",
       "      <td>10.000000</td>\n",
       "      <td>4.000000</td>\n",
       "      <td>7.000000</td>\n",
       "      <td>5.000000</td>\n",
       "      <td>10.000000</td>\n",
       "      <td>9.000000</td>\n",
       "      <td>8.000000</td>\n",
       "    </tr>\n",
       "    <tr>\n",
       "      <th>TN</th>\n",
       "      <td>40.000000</td>\n",
       "      <td>34.000000</td>\n",
       "      <td>35.000000</td>\n",
       "      <td>38.000000</td>\n",
       "      <td>47.000000</td>\n",
       "      <td>46.000000</td>\n",
       "      <td>38.000000</td>\n",
       "      <td>41.000000</td>\n",
       "      <td>43.000000</td>\n",
       "      <td>44.000000</td>\n",
       "      <td>43.000000</td>\n",
       "      <td>37.000000</td>\n",
       "      <td>46.000000</td>\n",
       "      <td>42.000000</td>\n",
       "      <td>45.000000</td>\n",
       "    </tr>\n",
       "    <tr>\n",
       "      <th>TP</th>\n",
       "      <td>58.000000</td>\n",
       "      <td>58.000000</td>\n",
       "      <td>58.000000</td>\n",
       "      <td>49.000000</td>\n",
       "      <td>52.000000</td>\n",
       "      <td>53.000000</td>\n",
       "      <td>59.000000</td>\n",
       "      <td>55.000000</td>\n",
       "      <td>54.000000</td>\n",
       "      <td>52.000000</td>\n",
       "      <td>51.000000</td>\n",
       "      <td>54.000000</td>\n",
       "      <td>52.000000</td>\n",
       "      <td>53.000000</td>\n",
       "      <td>51.000000</td>\n",
       "    </tr>\n",
       "    <tr>\n",
       "      <th>accuracy</th>\n",
       "      <td>0.890909</td>\n",
       "      <td>0.836364</td>\n",
       "      <td>0.845455</td>\n",
       "      <td>0.783784</td>\n",
       "      <td>0.891892</td>\n",
       "      <td>0.891892</td>\n",
       "      <td>0.873874</td>\n",
       "      <td>0.864865</td>\n",
       "      <td>0.873874</td>\n",
       "      <td>0.872727</td>\n",
       "      <td>0.854545</td>\n",
       "      <td>0.827273</td>\n",
       "      <td>0.890909</td>\n",
       "      <td>0.863636</td>\n",
       "      <td>0.872727</td>\n",
       "    </tr>\n",
       "    <tr>\n",
       "      <th>f1score</th>\n",
       "      <td>0.906250</td>\n",
       "      <td>0.865672</td>\n",
       "      <td>0.872180</td>\n",
       "      <td>0.803279</td>\n",
       "      <td>0.896552</td>\n",
       "      <td>0.898305</td>\n",
       "      <td>0.893939</td>\n",
       "      <td>0.880000</td>\n",
       "      <td>0.885246</td>\n",
       "      <td>0.881356</td>\n",
       "      <td>0.864407</td>\n",
       "      <td>0.850394</td>\n",
       "      <td>0.896552</td>\n",
       "      <td>0.876033</td>\n",
       "      <td>0.879310</td>\n",
       "    </tr>\n",
       "    <tr>\n",
       "      <th>precision</th>\n",
       "      <td>0.950820</td>\n",
       "      <td>0.828571</td>\n",
       "      <td>0.865672</td>\n",
       "      <td>0.765625</td>\n",
       "      <td>0.912281</td>\n",
       "      <td>0.854839</td>\n",
       "      <td>0.867647</td>\n",
       "      <td>0.887097</td>\n",
       "      <td>0.843750</td>\n",
       "      <td>0.928571</td>\n",
       "      <td>0.879310</td>\n",
       "      <td>0.915254</td>\n",
       "      <td>0.838710</td>\n",
       "      <td>0.854839</td>\n",
       "      <td>0.864407</td>\n",
       "    </tr>\n",
       "    <tr>\n",
       "      <th>recall</th>\n",
       "      <td>0.865672</td>\n",
       "      <td>0.906250</td>\n",
       "      <td>0.878788</td>\n",
       "      <td>0.844828</td>\n",
       "      <td>0.881356</td>\n",
       "      <td>0.946429</td>\n",
       "      <td>0.921875</td>\n",
       "      <td>0.873016</td>\n",
       "      <td>0.931034</td>\n",
       "      <td>0.838710</td>\n",
       "      <td>0.850000</td>\n",
       "      <td>0.794118</td>\n",
       "      <td>0.962963</td>\n",
       "      <td>0.898305</td>\n",
       "      <td>0.894737</td>\n",
       "    </tr>\n",
       "    <tr>\n",
       "      <th>roc_auc_score</th>\n",
       "      <td>0.954877</td>\n",
       "      <td>0.891304</td>\n",
       "      <td>0.915289</td>\n",
       "      <td>0.871828</td>\n",
       "      <td>0.949153</td>\n",
       "      <td>0.947078</td>\n",
       "      <td>0.952793</td>\n",
       "      <td>0.952712</td>\n",
       "      <td>0.941444</td>\n",
       "      <td>0.944556</td>\n",
       "      <td>0.926000</td>\n",
       "      <td>0.947479</td>\n",
       "      <td>0.949735</td>\n",
       "      <td>0.938185</td>\n",
       "      <td>0.934790</td>\n",
       "    </tr>\n",
       "  </tbody>\n",
       "</table>\n",
       "</div>"
      ],
      "text/plain": [
       "               fold0_repetition2  fold0_repetition3  fold0_repetition4  \\\n",
       "FN                      9.000000           6.000000           8.000000   \n",
       "FP                      3.000000          12.000000           9.000000   \n",
       "TN                     40.000000          34.000000          35.000000   \n",
       "TP                     58.000000          58.000000          58.000000   \n",
       "accuracy                0.890909           0.836364           0.845455   \n",
       "f1score                 0.906250           0.865672           0.872180   \n",
       "precision               0.950820           0.828571           0.865672   \n",
       "recall                  0.865672           0.906250           0.878788   \n",
       "roc_auc_score           0.954877           0.891304           0.915289   \n",
       "\n",
       "               fold1_repetition1  fold1_repetition2  fold1_repetition3  \\\n",
       "FN                      9.000000           7.000000           3.000000   \n",
       "FP                     15.000000           5.000000           9.000000   \n",
       "TN                     38.000000          47.000000          46.000000   \n",
       "TP                     49.000000          52.000000          53.000000   \n",
       "accuracy                0.783784           0.891892           0.891892   \n",
       "f1score                 0.803279           0.896552           0.898305   \n",
       "precision               0.765625           0.912281           0.854839   \n",
       "recall                  0.844828           0.881356           0.946429   \n",
       "roc_auc_score           0.871828           0.949153           0.947078   \n",
       "\n",
       "               fold2_repetition1  fold2_repetition2  fold2_repetition3  \\\n",
       "FN                      5.000000           8.000000           4.000000   \n",
       "FP                      9.000000           7.000000          10.000000   \n",
       "TN                     38.000000          41.000000          43.000000   \n",
       "TP                     59.000000          55.000000          54.000000   \n",
       "accuracy                0.873874           0.864865           0.873874   \n",
       "f1score                 0.893939           0.880000           0.885246   \n",
       "precision               0.867647           0.887097           0.843750   \n",
       "recall                  0.921875           0.873016           0.931034   \n",
       "roc_auc_score           0.952793           0.952712           0.941444   \n",
       "\n",
       "               fold3_repetition1  fold3_repetition2  fold3_repetition3  \\\n",
       "FN                     10.000000           9.000000          14.000000   \n",
       "FP                      4.000000           7.000000           5.000000   \n",
       "TN                     44.000000          43.000000          37.000000   \n",
       "TP                     52.000000          51.000000          54.000000   \n",
       "accuracy                0.872727           0.854545           0.827273   \n",
       "f1score                 0.881356           0.864407           0.850394   \n",
       "precision               0.928571           0.879310           0.915254   \n",
       "recall                  0.838710           0.850000           0.794118   \n",
       "roc_auc_score           0.944556           0.926000           0.947479   \n",
       "\n",
       "               fold4_repetition1  fold4_repetition2  fold4_repetition3  \n",
       "FN                      2.000000           6.000000           6.000000  \n",
       "FP                     10.000000           9.000000           8.000000  \n",
       "TN                     46.000000          42.000000          45.000000  \n",
       "TP                     52.000000          53.000000          51.000000  \n",
       "accuracy                0.890909           0.863636           0.872727  \n",
       "f1score                 0.896552           0.876033           0.879310  \n",
       "precision               0.838710           0.854839           0.864407  \n",
       "recall                  0.962963           0.898305           0.894737  \n",
       "roc_auc_score           0.949735           0.938185           0.934790  "
      ]
     },
     "execution_count": 96,
     "metadata": {},
     "output_type": "execute_result"
    }
   ],
   "source": [
    "result_lgbm.T"
   ]
  },
  {
   "cell_type": "code",
   "execution_count": 97,
   "metadata": {},
   "outputs": [
    {
     "name": "stdout",
     "output_type": "stream",
     "text": [
      "mean accuracy >> 0.8623150423150424\n",
      "mean precision >> 0.870492810959163\n",
      "mean recall >> 0.8858719453656295\n",
      "mean f1score >> 0.8766316283582967\n",
      "mean roc_auc_score >> 0.9344815860711685\n"
     ]
    }
   ],
   "source": [
    "print(\"mean accuracy >>\",result_lgbm.mean()['accuracy'])\n",
    "print(\"mean precision >>\",result_lgbm.mean()['precision'])\n",
    "print(\"mean recall >>\",result_lgbm.mean()['recall'])\n",
    "print(\"mean f1score >>\",result_lgbm.mean()['f1score'])\n",
    "print(\"mean roc_auc_score >>\",result_lgbm.mean()['roc_auc_score'])"
   ]
  },
  {
   "cell_type": "code",
   "execution_count": 98,
   "metadata": {},
   "outputs": [
    {
     "data": {
      "text/plain": [
       "<matplotlib.axes._subplots.AxesSubplot at 0x7f0204219ac8>"
      ]
     },
     "execution_count": 98,
     "metadata": {},
     "output_type": "execute_result"
    },
    {
     "data": {
      "image/png": "[encoded data removed]",
      "text/plain": [
       "<Figure size 1080x576 with 1 Axes>"
      ]
     },
     "metadata": {},
     "output_type": "display_data"
    }
   ],
   "source": [
    "feat_imp = pd.DataFrame(final_lgbm.feature_importances_)\n",
    "feat_imp.columns = ['Feature_importance']\n",
    "feat_imp = feat_imp.assign(Column_name=numerical+cat_label_feat)\n",
    "feat_imp.sort_values(by=['Feature_importance'],ascending=False).set_index('Column_name').head(30).plot(kind='barh',figsize=(15,8))"
   ]
  },
  {
   "cell_type": "code",
   "execution_count": 99,
   "metadata": {},
   "outputs": [
    {
     "data": {
      "text/plain": [
       "['A', 'D', 'E', 'F', 'G', 'I', 'J', 'L', 'M']"
      ]
     },
     "execution_count": 99,
     "metadata": {},
     "output_type": "execute_result"
    }
   ],
   "source": [
    "categorical"
   ]
  },
  {
   "cell_type": "code",
   "execution_count": 100,
   "metadata": {},
   "outputs": [
    {
     "data": {
      "text/plain": [
       "GridSearchCV(cv=5, error_score='raise-deprecating',\n",
       "       estimator=SVC(C=1.0, cache_size=200, class_weight=None, coef0=0.0,\n",
       "  decision_function_shape='ovr', degree=3, gamma='auto_deprecated',\n",
       "  kernel='rbf', max_iter=-1, probability=False, random_state=None,\n",
       "  shrinking=True, tol=0.001, verbose=False),\n",
       "       fit_params=None, iid='warn', n_jobs=None,\n",
       "       param_grid={'kernel': ['linear', 'rbf'], 'C': [0.001, 0.01, 0.1, 1, 10], 'gamma': [0.001, 0.01, 0.1, 1]},\n",
       "       pre_dispatch='2*n_jobs', refit=True, return_train_score='warn',\n",
       "       scoring=None, verbose=0)"
      ]
     },
     "execution_count": 100,
     "metadata": {},
     "output_type": "execute_result"
    }
   ],
   "source": [
    "##SVM\n",
    "from sklearn.svm import SVC  \n",
    "from sklearn.model_selection import GridSearchCV\n",
    "\n",
    "svclassifier = SVC()\n",
    "param_grid_svc = {'kernel':['linear','rbf'],'C':[0.001, 0.01, 0.1, 1, 10],'gamma':[0.001, 0.01, 0.1, 1]}\n",
    "svc_grid_search = GridSearchCV(estimator=svclassifier,param_grid=param_grid_svc,cv=5)\n",
    "##since svm requires scaled features we'll use the scaled version of the data\n",
    "svc_grid_search.fit(train_df_scaled[numerical+ohe_feat],train_labels)"
   ]
  },
  {
   "cell_type": "code",
   "execution_count": 101,
   "metadata": {},
   "outputs": [
    {
     "data": {
      "text/plain": [
       "{'C': 0.01, 'gamma': 0.001, 'kernel': 'linear'}"
      ]
     },
     "execution_count": 101,
     "metadata": {},
     "output_type": "execute_result"
    }
   ],
   "source": [
    "svc_grid_search.best_params_"
   ]
  },
  {
   "cell_type": "code",
   "execution_count": 102,
   "metadata": {},
   "outputs": [],
   "source": [
    "p = {'C': 0.01, 'gamma': 0.001, 'kernel': 'linear'}"
   ]
  },
  {
   "cell_type": "code",
   "execution_count": 103,
   "metadata": {},
   "outputs": [],
   "source": [
    "svc_check = SVC(**p)"
   ]
  },
  {
   "cell_type": "code",
   "execution_count": 104,
   "metadata": {},
   "outputs": [
    {
     "data": {
      "text/plain": [
       "SVC(C=0.01, cache_size=200, class_weight=None, coef0=0.0,\n",
       "  decision_function_shape='ovr', degree=3, gamma=0.001, kernel='linear',\n",
       "  max_iter=-1, probability=False, random_state=None, shrinking=True,\n",
       "  tol=0.001, verbose=False)"
      ]
     },
     "execution_count": 104,
     "metadata": {},
     "output_type": "execute_result"
    }
   ],
   "source": [
    "svc_check"
   ]
  },
  {
   "cell_type": "code",
   "execution_count": 105,
   "metadata": {},
   "outputs": [],
   "source": [
    "scores = cross_val_score(svc_check,train_df_scaled[numerical+ohe_feat],train_labels,cv=3,scoring='roc_auc')"
   ]
  },
  {
   "cell_type": "code",
   "execution_count": 106,
   "metadata": {},
   "outputs": [
    {
     "data": {
      "text/plain": [
       "0.9215289975523974"
      ]
     },
     "execution_count": 106,
     "metadata": {},
     "output_type": "execute_result"
    }
   ],
   "source": [
    "scores.mean()"
   ]
  },
  {
   "cell_type": "markdown",
   "metadata": {},
   "source": [
    "## Feature engineering and transformations"
   ]
  },
  {
   "cell_type": "markdown",
   "metadata": {},
   "source": [
    "interaction features,count/frequency/mean encoding,\n",
    "https://github.com/MaxHalford/xam/blob/master/docs/feature-extraction.md#smooth-target-encoding"
   ]
  },
  {
   "cell_type": "code",
   "execution_count": 273,
   "metadata": {},
   "outputs": [],
   "source": [
    "train_df2 = train_df.copy()\n",
    "test_df2 = test_df.copy()\n",
    "\n",
    "train_df2['P'] = train_labels"
   ]
  },
  {
   "cell_type": "code",
   "execution_count": 274,
   "metadata": {},
   "outputs": [],
   "source": [
    "for col in cat_label_feat:\n",
    "    train_df2[col] = train_df2[col].astype('category').cat.codes\n",
    "    test_df2[col] = test_df2[col].astype('category').cat.codes"
   ]
  },
  {
   "cell_type": "code",
   "execution_count": 275,
   "metadata": {},
   "outputs": [],
   "source": [
    "##frequency encoding\n",
    "for col in cat_label_feat:\n",
    "    encoding = train_df2.groupby(col).size()\n",
    "    # get frequency of each category\n",
    "    encoding = encoding/len(train_df2)\n",
    "    train_df2[col+'freq_enc'] = train_df2[col].map(encoding)\n",
    "    test_df2[col+'freq_enc'] = test_df2[col].map(encoding)"
   ]
  },
  {
   "cell_type": "code",
   "execution_count": 276,
   "metadata": {},
   "outputs": [],
   "source": [
    "enc_freq_cols = [x for x in train_df2.columns if re.search(r\".*freq_enc.*\",x)]"
   ]
  },
  {
   "cell_type": "code",
   "execution_count": 277,
   "metadata": {},
   "outputs": [],
   "source": [
    "def target_encoder_regularized(train, test, cols_encode, target_cols, folds = 5, stratified=True):\n",
    "    \"\"\"\n",
    "    Mean regularized target encoding based on kfold   \n",
    "    \"\"\"\n",
    "    \n",
    "    if stratified:\n",
    "        skf = StratifiedKFold(n_splits=folds, shuffle=True, random_state=1)\n",
    "        X = train.drop('P', axis=1)\n",
    "        Y = train['P']\n",
    "        splitter = skf.split(X, Y)\n",
    "    else:\n",
    "        kf = KFold(n_splits=folds, shuffle=True, random_state=1)\n",
    "        splitter = kf.split(X)\n",
    "    \n",
    "    train_new = pd.DataFrame()\n",
    "    for train_index, val_index in splitter:\n",
    "        train_fold = train.loc[train_index]\n",
    "        test_fold = train.loc[val_index]\n",
    "\n",
    "        for by in cols_encode:\n",
    "            for target in target_cols:\n",
    "\n",
    "                encoding = train_fold.groupby(by)[target].mean()\n",
    "                test_fold[target + '_mean_' + by] = test_fold[by].map(encoding)\n",
    "\n",
    "                impute = np.mean(train_fold[target])\n",
    "                test_fold.fillna(impute, inplace=True)\n",
    "        train_new = pd.concat((train_new, test_fold), axis=0)\n",
    "    \n",
    "    #making test encoding using full training data  \n",
    "    test_new = test.copy()\n",
    "    for by in cols_encode:\n",
    "        for target in target_cols:\n",
    "            test_new['%s_mean_%s' % (target, by)] = test_new[by].map(train_new.reset_index(drop=True).groupby(by)[target].mean())\n",
    "\n",
    "    return train_new.reset_index(drop=True), test_new.reset_index(drop=True)"
   ]
  },
  {
   "cell_type": "code",
   "execution_count": 278,
   "metadata": {},
   "outputs": [],
   "source": [
    "train_df2['P'] = train_df2['P'].astype('category').cat.codes"
   ]
  },
  {
   "cell_type": "code",
   "execution_count": 279,
   "metadata": {},
   "outputs": [],
   "source": [
    "train_enc, test_enc = target_encoder_regularized(train_df2[numerical+enc_freq_cols+ohe_feat+cat_label_feat+['P']], test_df2[numerical+enc_freq_cols+ohe_feat+cat_label_feat],cat_label_feat,'P',folds = 5)"
   ]
  },
  {
   "cell_type": "code",
   "execution_count": 280,
   "metadata": {},
   "outputs": [],
   "source": [
    "###Interaction terms\n",
    "numerics = train_enc.loc[:, numerical]\n",
    "##we'll add 1 to each column values to ensure division by zero is avoided\n",
    "for col in numerical:\n",
    "    numerics[col] = numerics[col]+1\n",
    "# for each pair of variables, determine which mathmatical operators to use based on redundancy\n",
    "for i in range(0, numerics.columns.size-1):\n",
    "    for j in range(0, numerics.columns.size-1):\n",
    "        col1 = str(numerics.columns.values[i])\n",
    "        col2 = str(numerics.columns.values[j])\n",
    "        # multiply fields together (we allow values to be squared)\n",
    "        if i <= j:\n",
    "            name = col1 + \"*\" + col2\n",
    "            train_enc = pd.concat([train_enc, pd.Series(numerics.iloc[:,i] * numerics.iloc[:,j], name=name)], axis=1)\n",
    "        # add fields together\n",
    "        if i < j:\n",
    "            name = col1 + \"+\" + col2\n",
    "            train_enc = pd.concat([train_enc, pd.Series(numerics.iloc[:,i] + numerics.iloc[:,j], name=name)], axis=1)\n",
    "        # divide and subtract fields from each other\n",
    "        if not i == j:\n",
    "            name = col1 + \"/\" + col2\n",
    "            train_enc = pd.concat([train_enc, pd.Series(numerics.iloc[:,i] / numerics.iloc[:,j], name=name)], axis=1)\n",
    "            name = col1 + \"-\" + col2\n",
    "            train_enc = pd.concat([train_enc, pd.Series(numerics.iloc[:,i] - numerics.iloc[:,j], name=name)], axis=1)\n"
   ]
  },
  {
   "cell_type": "code",
   "execution_count": 281,
   "metadata": {},
   "outputs": [
    {
     "data": {
      "text/plain": [
       "Series([], dtype: int64)"
      ]
     },
     "execution_count": 281,
     "metadata": {},
     "output_type": "execute_result"
    }
   ],
   "source": [
    "train_enc[feat_interact].isnull().sum()[train_enc[feat_interact].isnull().sum()>0]"
   ]
  },
  {
   "cell_type": "code",
   "execution_count": 282,
   "metadata": {},
   "outputs": [],
   "source": [
    "###Interaction terms\n",
    "numerics = test_enc.loc[:, numerical]\n",
    "##we'll add 1 to each column values to ensure division by zero is avoided\n",
    "for col in numerical:\n",
    "    numerics[col] = numerics[col]+1\n",
    "# for each pair of variables, determine which mathmatical operators to use based on redundancy\n",
    "for i in range(0, numerics.columns.size-1):\n",
    "    for j in range(0, numerics.columns.size-1):\n",
    "        col1 = str(numerics.columns.values[i])\n",
    "        col2 = str(numerics.columns.values[j])\n",
    "        # multiply fields together (we allow values to be squared)\n",
    "        if i <= j:\n",
    "            name = col1 + \"*\" + col2\n",
    "            test_enc = pd.concat([test_enc, pd.Series(numerics.iloc[:,i] * numerics.iloc[:,j], name=name)], axis=1)\n",
    "        # add fields together\n",
    "        if i < j:\n",
    "            name = col1 + \"+\" + col2\n",
    "            test_enc = pd.concat([test_enc, pd.Series(numerics.iloc[:,i] + numerics.iloc[:,j], name=name)], axis=1)\n",
    "        # divide and subtract fields from each other\n",
    "        if not i == j:\n",
    "            name = col1 + \"/\" + col2\n",
    "            test_enc = pd.concat([test_enc, pd.Series(numerics.iloc[:,i] / numerics.iloc[:,j], name=name)], axis=1)\n",
    "            name = col1 + \"-\" + col2\n",
    "            test_enc = pd.concat([test_enc, pd.Series(numerics.iloc[:,i] - numerics.iloc[:,j], name=name)], axis=1)\n"
   ]
  },
  {
   "cell_type": "code",
   "execution_count": 164,
   "metadata": {},
   "outputs": [],
   "source": [
    "##saving data\n",
    "train_enc.to_csv('trn_tgt_enc_freq_enc_label_enc_ohe_enc_interaction.csv', index=False)\n",
    "test_enc.to_csv('tst_tgt_enc_freq_enc_label_enc_ohe_enc_interaction.csv', index=False)\n",
    "\n",
    "#np.save('y_trn.npy', train_labels.values)\n"
   ]
  },
  {
   "cell_type": "code",
   "execution_count": 283,
   "metadata": {},
   "outputs": [],
   "source": [
    "feat_interact = ['B*C',\n",
    " 'B+C',\n",
    " 'B/C',\n",
    " 'B-C',\n",
    " 'B*H',\n",
    " 'B+H',\n",
    " 'B/H',\n",
    " 'B-H',\n",
    " 'B*K',\n",
    " 'B+K',\n",
    " 'B/K',\n",
    " 'B-K',\n",
    " 'B*N',\n",
    " 'B+N',\n",
    " 'B/N',\n",
    " 'B-N',\n",
    " 'C/B',\n",
    " 'C-B',\n",
    " 'C*H',\n",
    " 'C+H',\n",
    " 'C/H',\n",
    " 'C-H',\n",
    " 'C*K',\n",
    " 'C+K',\n",
    " 'C/K',\n",
    " 'C-K',\n",
    " 'C*N',\n",
    " 'C+N',\n",
    " 'C/N',\n",
    " 'C-N',\n",
    " 'H/B',\n",
    " 'H-B',\n",
    " 'H/C',\n",
    " 'H-C',\n",
    " 'H*K',\n",
    " 'H+K',\n",
    " 'H/K',\n",
    " 'H-K',\n",
    " 'H*N',\n",
    " 'H+N',\n",
    " 'H/N',\n",
    " 'H-N',\n",
    " 'K/B',\n",
    " 'K-B',\n",
    " 'K/C',\n",
    " 'K-C',\n",
    " 'K/H',\n",
    " 'K-H',\n",
    " 'K*N',\n",
    " 'K+N',\n",
    " 'K/N',\n",
    " 'K-N',\n",
    " 'N/B',\n",
    " 'N-B',\n",
    " 'N/C',\n",
    " 'N-C',\n",
    " 'N/H',\n",
    " 'N-H',\n",
    " 'N/K',\n",
    " 'N-K']"
   ]
  },
  {
   "cell_type": "code",
   "execution_count": 284,
   "metadata": {},
   "outputs": [],
   "source": [
    "enc_mean_cat = [x for x in train_enc.columns if re.search(r\".*mean.*\",x)]"
   ]
  },
  {
   "cell_type": "code",
   "execution_count": 199,
   "metadata": {},
   "outputs": [
    {
     "name": "stdout",
     "output_type": "stream",
     "text": [
      "Fitting 5 folds for each of 10 candidates, totalling 50 fits\n"
     ]
    },
    {
     "name": "stderr",
     "output_type": "stream",
     "text": [
      "[Parallel(n_jobs=-1)]: Using backend LokyBackend with 16 concurrent workers.\n",
      "[Parallel(n_jobs=-1)]: Done   9 tasks      | elapsed:    6.2s\n",
      "[Parallel(n_jobs=-1)]: Done  18 tasks      | elapsed:    7.7s\n",
      "[Parallel(n_jobs=-1)]: Done  25 out of  50 | elapsed:    7.9s remaining:    7.9s\n",
      "[Parallel(n_jobs=-1)]: Done  31 out of  50 | elapsed:   10.5s remaining:    6.5s\n",
      "[Parallel(n_jobs=-1)]: Done  37 out of  50 | elapsed:   11.8s remaining:    4.1s\n",
      "[Parallel(n_jobs=-1)]: Done  43 out of  50 | elapsed:   15.3s remaining:    2.5s\n",
      "[Parallel(n_jobs=-1)]: Done  50 out of  50 | elapsed:   16.0s finished\n"
     ]
    },
    {
     "data": {
      "text/plain": [
       "RandomizedSearchCV(cv=5, error_score='raise-deprecating',\n",
       "          estimator=RandomForestClassifier(bootstrap=True, class_weight=None, criterion='gini',\n",
       "            max_depth=None, max_features='auto', max_leaf_nodes=None,\n",
       "            min_impurity_decrease=0.0, min_impurity_split=None,\n",
       "            min_samples_leaf=1, min_samples_split=2,\n",
       "            min_weight_fraction_leaf=0.0, n_estimators='warn', n_jobs=None,\n",
       "            oob_score=False, random_state=None, verbose=0,\n",
       "            warm_start=False),\n",
       "          fit_params=None, iid='warn', n_iter=10, n_jobs=-1,\n",
       "          param_distributions={'n_estimators': [200, 400, 600, 800, 1000, 1200, 1400, 1600, 1800, 2000], 'max_features': ['auto', 'sqrt'], 'max_depth': [10, 20, 30, 40, 50, 60, 70, 80, 90, 100, 110, None], 'min_samples_split': [2, 5, 10], 'min_samples_leaf': [1, 2, 4], 'bootstrap': [True, False]},\n",
       "          pre_dispatch='2*n_jobs', random_state=None, refit=True,\n",
       "          return_train_score='warn', scoring=None, verbose=10)"
      ]
     },
     "execution_count": 199,
     "metadata": {},
     "output_type": "execute_result"
    }
   ],
   "source": [
    "##features selection for interaction features\n",
    "feat_rf = RandomForestClassifier()\n",
    "grid_feat_rf = RandomizedSearchCV(feat_rf,param_distributions=rf_param_grid,cv=5,verbose=10,n_jobs=-1)\n",
    "grid_feat_rf.fit(train_enc[feat_interact],train_enc['P'])"
   ]
  },
  {
   "cell_type": "code",
   "execution_count": 200,
   "metadata": {},
   "outputs": [
    {
     "data": {
      "text/plain": [
       "<matplotlib.axes._subplots.AxesSubplot at 0x7f01d524d1d0>"
      ]
     },
     "execution_count": 200,
     "metadata": {},
     "output_type": "execute_result"
    },
    {
     "data": {
      "image/png": "[encoded data removed]",
      "text/plain": [
       "<Figure size 576x432 with 1 Axes>"
      ]
     },
     "metadata": {},
     "output_type": "display_data"
    }
   ],
   "source": [
    "feat_imp = pd.DataFrame(grid_feat_rf.best_estimator_.feature_importances_)\n",
    "feat_imp.columns = ['Feature_importance']\n",
    "feat_imp = feat_imp.assign(Column_name=feat_interact)\n",
    "feat_imp.sort_values(by=['Feature_importance'],ascending=False).set_index('Column_name').head(30).plot(kind='barh',figsize=(8,6))"
   ]
  },
  {
   "cell_type": "code",
   "execution_count": 285,
   "metadata": {},
   "outputs": [],
   "source": [
    "feat_imp_intr = feat_imp.sort_values(by=['Feature_importance'],ascending=False).head(15)['Column_name'].values.tolist()"
   ]
  },
  {
   "cell_type": "code",
   "execution_count": 287,
   "metadata": {},
   "outputs": [
    {
     "name": "stdout",
     "output_type": "stream",
     "text": [
      "Fitting 3 folds for each of 72 candidates, totalling 216 fits\n"
     ]
    },
    {
     "name": "stderr",
     "output_type": "stream",
     "text": [
      "[Parallel(n_jobs=-1)]: Using backend LokyBackend with 16 concurrent workers.\n",
      "[Parallel(n_jobs=-1)]: Done   9 tasks      | elapsed:    3.6s\n",
      "[Parallel(n_jobs=-1)]: Done  18 tasks      | elapsed:    4.4s\n",
      "[Parallel(n_jobs=-1)]: Done  29 tasks      | elapsed:    5.3s\n",
      "[Parallel(n_jobs=-1)]: Done  40 tasks      | elapsed:    5.8s\n",
      "[Parallel(n_jobs=-1)]: Done  53 tasks      | elapsed:    6.8s\n",
      "[Parallel(n_jobs=-1)]: Done  66 tasks      | elapsed:    7.7s\n",
      "[Parallel(n_jobs=-1)]: Done  81 tasks      | elapsed:    8.4s\n",
      "[Parallel(n_jobs=-1)]: Done  96 tasks      | elapsed:    9.2s\n",
      "[Parallel(n_jobs=-1)]: Done 113 tasks      | elapsed:   10.1s\n",
      "[Parallel(n_jobs=-1)]: Done 130 tasks      | elapsed:   11.0s\n",
      "[Parallel(n_jobs=-1)]: Done 149 tasks      | elapsed:   11.9s\n",
      "[Parallel(n_jobs=-1)]: Done 168 tasks      | elapsed:   12.8s\n",
      "[Parallel(n_jobs=-1)]: Done 207 out of 216 | elapsed:   14.6s remaining:    0.6s\n",
      "[Parallel(n_jobs=-1)]: Done 216 out of 216 | elapsed:   14.9s finished\n"
     ]
    },
    {
     "data": {
      "text/plain": [
       "GridSearchCV(cv=3, error_score='raise-deprecating',\n",
       "       estimator=XGBClassifier(base_score=0.5, booster='gbtree', colsample_bylevel=1,\n",
       "       colsample_bytree=1, gamma=0, learning_rate=0.1, max_delta_step=0,\n",
       "       max_depth=3, min_child_weight=1, missing=None, n_estimators=100,\n",
       "       n_jobs=1, nthread=None, objective='binary:logistic', random_state=0,\n",
       "       reg_alpha=0, reg_lambda=1, scale_pos_weight=1, seed=None,\n",
       "       silent=True, subsample=1),\n",
       "       fit_params=None, iid='warn', n_jobs=-1,\n",
       "       param_grid={'max_depth': [5, 10, 30, 50], 'min_child_weight': [1, 3, 6], 'n_estimators': [200, 500], 'learning_rate': [0.05, 0.1, 0.16]},\n",
       "       pre_dispatch='2*n_jobs', refit=True, return_train_score='warn',\n",
       "       scoring=None, verbose=10)"
      ]
     },
     "execution_count": 287,
     "metadata": {},
     "output_type": "execute_result"
    }
   ],
   "source": [
    "##XGBOOST\n",
    "from xgboost import XGBClassifier\n",
    "xgb_model = XGBClassifier()\n",
    "param_dist = {\"max_depth\": [5,10,30,50],\n",
    "              \"min_child_weight\" : [1,3,6],\n",
    "              \"n_estimators\": [200,500],\n",
    "              \"learning_rate\": [0.05, 0.1,0.16],}\n",
    "grid_search = GridSearchCV(xgb_model, param_grid=param_dist, cv = 3, \n",
    "                                   verbose=10, n_jobs=-1)\n",
    "grid_search.fit(train_enc[numerical+enc_freq_cols+enc_mean_cat+feat_interact],train_enc['P'])"
   ]
  },
  {
   "cell_type": "code",
   "execution_count": 260,
   "metadata": {},
   "outputs": [],
   "source": [
    "check_xgb = grid_search.best_estimator_"
   ]
  },
  {
   "cell_type": "code",
   "execution_count": 291,
   "metadata": {},
   "outputs": [],
   "source": [
    "scores = cross_val_score(check_xgb,train_enc[numerical+enc_freq_cols+enc_mean_cat+feat_interact],train_enc['P'],cv=5,scoring='roc_auc')"
   ]
  },
  {
   "cell_type": "code",
   "execution_count": 292,
   "metadata": {},
   "outputs": [
    {
     "data": {
      "text/plain": [
       "0.9397149548343927"
      ]
     },
     "execution_count": 292,
     "metadata": {},
     "output_type": "execute_result"
    }
   ],
   "source": [
    "scores.mean()"
   ]
  },
  {
   "cell_type": "markdown",
   "metadata": {},
   "source": [
    "As we can see,the interaction features definitely has improved the performance of our model."
   ]
  },
  {
   "cell_type": "code",
   "execution_count": 301,
   "metadata": {},
   "outputs": [
    {
     "data": {
      "text/plain": [
       "{'learning_rate': 0.1,\n",
       " 'max_depth': 5,\n",
       " 'min_child_weight': 1,\n",
       " 'n_estimators': 200}"
      ]
     },
     "execution_count": 301,
     "metadata": {},
     "output_type": "execute_result"
    }
   ],
   "source": [
    "grid_search.best_params_"
   ]
  },
  {
   "cell_type": "code",
   "execution_count": 302,
   "metadata": {},
   "outputs": [],
   "source": [
    "final_xgb_params = {'learning_rate': 0.1,\n",
    " 'max_depth': 5,\n",
    " 'min_child_weight': 1,\n",
    " 'n_estimators': 200}"
   ]
  },
  {
   "cell_type": "code",
   "execution_count": 303,
   "metadata": {},
   "outputs": [],
   "source": [
    "xgb_final = XGBClassifier(**final_xgb_params)"
   ]
  },
  {
   "cell_type": "code",
   "execution_count": 304,
   "metadata": {},
   "outputs": [
    {
     "data": {
      "text/plain": [
       "XGBClassifier(base_score=0.5, booster='gbtree', colsample_bylevel=1,\n",
       "       colsample_bytree=1, gamma=0, learning_rate=0.1, max_delta_step=0,\n",
       "       max_depth=5, min_child_weight=1, missing=None, n_estimators=200,\n",
       "       n_jobs=1, nthread=None, objective='binary:logistic', random_state=0,\n",
       "       reg_alpha=0, reg_lambda=1, scale_pos_weight=1, seed=None,\n",
       "       silent=True, subsample=1)"
      ]
     },
     "execution_count": 304,
     "metadata": {},
     "output_type": "execute_result"
    }
   ],
   "source": [
    "xgb_final.fit(train_enc[numerical+enc_freq_cols+enc_mean_cat+feat_interact],train_enc['P'])"
   ]
  },
  {
   "cell_type": "code",
   "execution_count": 305,
   "metadata": {},
   "outputs": [],
   "source": [
    "final_preds = xgb_final.predict(test_enc[numerical+enc_freq_cols+enc_mean_cat+feat_interact])"
   ]
  },
  {
   "cell_type": "code",
   "execution_count": 307,
   "metadata": {},
   "outputs": [],
   "source": [
    "#initial submission\n",
    "submissions=pd.DataFrame(columns=['id', 'P'])\n",
    "submissions['id']=test_df['id']\n",
    "submissions['P']=final_preds\n",
    "submissions.to_csv('mmtsub2.csv', index=False)"
   ]
  },
  {
   "cell_type": "code",
   "execution_count": 308,
   "metadata": {},
   "outputs": [],
   "source": [
    "pred = pd.read_csv('mmtsub2.csv')"
   ]
  },
  {
   "cell_type": "code",
   "execution_count": 310,
   "metadata": {},
   "outputs": [],
   "source": [
    "##we'll perform ensembling in another notebook to further improve predictions and we could tune the hyperparameters further to improve performance of model"
   ]
  }
 ],
 "metadata": {
  "kernelspec": {
   "display_name": "Python 3",
   "language": "python",
   "name": "python3"
  },
  "language_info": {
   "codemirror_mode": {
    "name": "ipython",
    "version": 3
   },
   "file_extension": ".py",
   "mimetype": "text/x-python",
   "name": "python",
   "nbconvert_exporter": "python",
   "pygments_lexer": "ipython3",
   "version": "3.6.4"
  }
 },
 "nbformat": 4,
 "nbformat_minor": 2
}
